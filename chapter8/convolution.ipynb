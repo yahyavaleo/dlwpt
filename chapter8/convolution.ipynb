{
 "cells": [
  {
   "cell_type": "markdown",
   "id": "f14132b8-f22c-42a7-96fb-10633d9bfc2c",
   "metadata": {},
   "source": [
    "# Convolution"
   ]
  },
  {
   "cell_type": "code",
   "execution_count": 1,
   "id": "6fe7ea9b-08f1-4921-884b-10cadc00f09a",
   "metadata": {
    "execution": {
     "iopub.execute_input": "2024-07-25T18:13:44.601899Z",
     "iopub.status.busy": "2024-07-25T18:13:44.601436Z",
     "iopub.status.idle": "2024-07-25T18:13:47.295963Z",
     "shell.execute_reply": "2024-07-25T18:13:47.294897Z",
     "shell.execute_reply.started": "2024-07-25T18:13:44.601874Z"
    }
   },
   "outputs": [],
   "source": [
    "import datetime\n",
    "import collections\n",
    "import numpy as np\n",
    "import matplotlib.pyplot as plt\n",
    "\n",
    "import torch\n",
    "import torch.nn as nn\n",
    "import torch.nn.functional as F\n",
    "import torch.optim as optim\n",
    "from torch.utils.data import DataLoader\n",
    "\n",
    "from torchvision import datasets\n",
    "from torchvision import transforms"
   ]
  },
  {
   "cell_type": "code",
   "execution_count": 2,
   "id": "7f087416-ea60-42e6-9a1e-1571010a64d4",
   "metadata": {
    "execution": {
     "iopub.execute_input": "2024-07-25T18:13:51.422813Z",
     "iopub.status.busy": "2024-07-25T18:13:51.422481Z",
     "iopub.status.idle": "2024-07-25T18:13:51.427507Z",
     "shell.execute_reply": "2024-07-25T18:13:51.426251Z",
     "shell.execute_reply.started": "2024-07-25T18:13:51.422792Z"
    }
   },
   "outputs": [],
   "source": [
    "transform = transforms.Compose([\n",
    "    transforms.ToTensor(),\n",
    "    transforms.Normalize(mean=(0.4915, 0.4823, 0.4468), std=(0.2470, 0.2435, 0.2616)),\n",
    "])"
   ]
  },
  {
   "cell_type": "code",
   "execution_count": 3,
   "id": "32fda9a6-d9d6-41bd-970d-916ebcfbea8f",
   "metadata": {
    "execution": {
     "iopub.execute_input": "2024-07-25T18:13:56.214906Z",
     "iopub.status.busy": "2024-07-25T18:13:56.214434Z",
     "iopub.status.idle": "2024-07-25T18:13:57.290930Z",
     "shell.execute_reply": "2024-07-25T18:13:57.289987Z",
     "shell.execute_reply.started": "2024-07-25T18:13:56.214869Z"
    }
   },
   "outputs": [],
   "source": [
    "cifar10 = datasets.CIFAR10(\"data/\", train=True, transform=transform)\n",
    "cifar10_val = datasets.CIFAR10(\"data/\", train=False, transform=transform)"
   ]
  },
  {
   "cell_type": "code",
   "execution_count": 4,
   "id": "c22add95-7ea8-47d2-bbe8-a41cee02693b",
   "metadata": {
    "execution": {
     "iopub.execute_input": "2024-07-25T18:13:57.934546Z",
     "iopub.status.busy": "2024-07-25T18:13:57.933817Z",
     "iopub.status.idle": "2024-07-25T18:14:12.259131Z",
     "shell.execute_reply": "2024-07-25T18:14:12.257967Z",
     "shell.execute_reply.started": "2024-07-25T18:13:57.934516Z"
    }
   },
   "outputs": [],
   "source": [
    "label_map = {0: 0, 2: 1}\n",
    "class_names = [\"airplane\", \"bird\"]\n",
    "\n",
    "cifar2 = [(img, label_map[label]) for img, label in cifar10 if label in [0, 2]]\n",
    "cifar2_val = [(img, label_map[label]) for img, label in cifar10_val if label in [0, 2]]"
   ]
  },
  {
   "cell_type": "code",
   "execution_count": 5,
   "id": "15321a12-665f-479f-b668-ebe671489e98",
   "metadata": {},
   "outputs": [
    {
     "data": {
      "text/plain": [
       "Conv2d(3, 16, kernel_size=(3, 3), stride=(1, 1))"
      ]
     },
     "execution_count": 5,
     "metadata": {},
     "output_type": "execute_result"
    }
   ],
   "source": [
    "conv = nn.Conv2d(in_channels=3, out_channels=16, kernel_size=3)\n",
    "conv"
   ]
  },
  {
   "cell_type": "code",
   "execution_count": 6,
   "id": "e4f7802a-26e8-46b0-b6c8-1bcffcf0f356",
   "metadata": {},
   "outputs": [
    {
     "data": {
      "text/plain": [
       "(torch.Size([16, 3, 3, 3]), torch.Size([16]))"
      ]
     },
     "execution_count": 6,
     "metadata": {},
     "output_type": "execute_result"
    }
   ],
   "source": [
    "conv.weight.shape, conv.bias.shape"
   ]
  },
  {
   "cell_type": "code",
   "execution_count": 7,
   "id": "0450731e-ebe4-4ccd-8fe3-58fdde762fa8",
   "metadata": {},
   "outputs": [
    {
     "name": "stderr",
     "output_type": "stream",
     "text": [
      "[W NNPACK.cpp:64] Could not initialize NNPACK! Reason: Unsupported hardware.\n"
     ]
    },
    {
     "data": {
      "text/plain": [
       "(torch.Size([1, 3, 32, 32]), torch.Size([1, 16, 30, 30]))"
      ]
     },
     "execution_count": 7,
     "metadata": {},
     "output_type": "execute_result"
    }
   ],
   "source": [
    "img, _ = cifar2[0]\n",
    "output = conv(img.unsqueeze(0))\n",
    "img.unsqueeze(0).shape, output.shape"
   ]
  },
  {
   "cell_type": "code",
   "execution_count": 8,
   "id": "d8ccf749-626d-4e52-9bad-c1894c6d2736",
   "metadata": {},
   "outputs": [
    {
     "data": {
      "image/png": "[encoded data removed]",
      "text/plain": [
       "<Figure size 640x480 with 2 Axes>"
      ]
     },
     "metadata": {},
     "output_type": "display_data"
    }
   ],
   "source": [
    "fig, axs = plt.subplots(nrows=1, ncols=2)\n",
    "\n",
    "axs[0].imshow(img[0], cmap=\"gray\")\n",
    "axs[1].imshow(output[0, 0].detach(), cmap=\"gray\")\n",
    "\n",
    "axs[0].set_title(\"Input\")\n",
    "axs[1].set_title(\"Output\")\n",
    "\n",
    "plt.tight_layout()\n",
    "plt.show()"
   ]
  },
  {
   "cell_type": "markdown",
   "id": "882dee07-19e8-414b-adfb-e786aa322c8b",
   "metadata": {},
   "source": [
    "## Kernels"
   ]
  },
  {
   "cell_type": "code",
   "execution_count": 9,
   "id": "62b2eaad-91c5-4a63-b0da-2a7108788396",
   "metadata": {},
   "outputs": [
    {
     "data": {
      "text/plain": [
       "(torch.Size([1, 3, 32, 32]), torch.Size([1, 1, 32, 32]))"
      ]
     },
     "execution_count": 9,
     "metadata": {},
     "output_type": "execute_result"
    }
   ],
   "source": [
    "conv = nn.Conv2d(in_channels=3, out_channels=1, kernel_size=3, padding=1)\n",
    "output = conv(img.unsqueeze(0))\n",
    "img.unsqueeze(0).shape, output.shape"
   ]
  },
  {
   "cell_type": "code",
   "execution_count": 10,
   "id": "a34c9695-4f50-4d3f-b6a6-f5298ebcafbb",
   "metadata": {},
   "outputs": [],
   "source": [
    "with torch.no_grad():\n",
    "    conv.bias.zero_()\n",
    "\n",
    "with torch.no_grad():\n",
    "    conv.weight.fill_(1.0 / 9.0)"
   ]
  },
  {
   "cell_type": "code",
   "execution_count": 11,
   "id": "807898c9-113a-49fb-9fb7-2b476f7ad7b8",
   "metadata": {},
   "outputs": [
    {
     "data": {
      "image/png": "[encoded data removed]",
      "text/plain": [
       "<Figure size 640x480 with 2 Axes>"
      ]
     },
     "metadata": {},
     "output_type": "display_data"
    }
   ],
   "source": [
    "output = conv(img.unsqueeze(0))\n",
    "\n",
    "fig, axs = plt.subplots(nrows=1, ncols=2)\n",
    "\n",
    "axs[0].imshow(img[0], cmap=\"gray\")\n",
    "axs[1].imshow(output[0, 0].detach(), cmap=\"gray\")\n",
    "\n",
    "axs[0].set_title(\"Input\")\n",
    "axs[1].set_title(\"Output\")\n",
    "\n",
    "plt.tight_layout()\n",
    "plt.show()"
   ]
  },
  {
   "cell_type": "code",
   "execution_count": 12,
   "id": "32530b50-25e8-425e-a874-14c12de6c729",
   "metadata": {},
   "outputs": [
    {
     "data": {
      "image/png": "[encoded data removed]",
      "text/plain": [
       "<Figure size 640x480 with 2 Axes>"
      ]
     },
     "metadata": {},
     "output_type": "display_data"
    }
   ],
   "source": [
    "conv = nn.Conv2d(3, 1, kernel_size=3, padding=1)\n",
    "\n",
    "with torch.no_grad():\n",
    "    conv.weight[:] = torch.tensor([[-1.0, 0.0, 1.0],\n",
    "                                   [-1.0, 0.0, 1.0],\n",
    "                                   [-1.0, 0.0, 1.0]])\n",
    "    conv.bias.zero_()\n",
    "\n",
    "output = conv(img.unsqueeze(0))\n",
    "\n",
    "fig, axs = plt.subplots(nrows=1, ncols=2)\n",
    "\n",
    "axs[0].imshow(img[0], cmap=\"gray\")\n",
    "axs[1].imshow(output[0, 0].detach(), cmap=\"gray\")\n",
    "\n",
    "axs[0].set_title(\"Input\")\n",
    "axs[1].set_title(\"Output\")\n",
    "\n",
    "plt.tight_layout()\n",
    "plt.show()"
   ]
  },
  {
   "cell_type": "markdown",
   "id": "187d199c-f9a2-4256-9341-b944a162dc59",
   "metadata": {},
   "source": [
    "## Downsampling"
   ]
  },
  {
   "cell_type": "code",
   "execution_count": 13,
   "id": "c7858a82-ac4d-4052-9703-f877cfba6b10",
   "metadata": {},
   "outputs": [
    {
     "data": {
      "text/plain": [
       "(torch.Size([1, 3, 32, 32]), torch.Size([1, 3, 16, 16]))"
      ]
     },
     "execution_count": 13,
     "metadata": {},
     "output_type": "execute_result"
    }
   ],
   "source": [
    "pool = nn.MaxPool2d(kernel_size=2)\n",
    "output = pool(img.unsqueeze(0))\n",
    "\n",
    "img.unsqueeze(0).shape, output.shape"
   ]
  },
  {
   "cell_type": "markdown",
   "id": "1883ec60-9030-4576-a1de-ca196d2af61e",
   "metadata": {
    "editable": true,
    "slideshow": {
     "slide_type": ""
    },
    "tags": []
   },
   "source": [
    "## Convolutional Neural Network"
   ]
  },
  {
   "cell_type": "code",
   "execution_count": 14,
   "id": "28d34c83-4917-45ed-b187-bf6da352d5b5",
   "metadata": {
    "editable": true,
    "slideshow": {
     "slide_type": ""
    },
    "tags": []
   },
   "outputs": [],
   "source": [
    "model = nn.Sequential(\n",
    "    nn.Conv2d(in_channels=3, out_channels=16, kernel_size=3, padding=1),\n",
    "    nn.Tanh(),\n",
    "    nn.MaxPool2d(kernel_size=2),\n",
    "    nn.Conv2d(in_channels=16, out_channels=8, kernel_size=3, padding=1),\n",
    "    nn.Tanh(),\n",
    "    nn.MaxPool2d(kernel_size=2),\n",
    "    nn.Flatten(),\n",
    "    nn.Linear(in_features=8 * 8 * 8, out_features=32),\n",
    "    nn.Tanh(),\n",
    "    nn.Linear(in_features=32, out_features=2),\n",
    ")"
   ]
  },
  {
   "cell_type": "code",
   "execution_count": 15,
   "id": "1925d9cf-cca8-4135-ad24-44e30745a0fa",
   "metadata": {},
   "outputs": [
    {
     "data": {
      "text/plain": [
       "(18090, [432, 16, 1152, 8, 16384, 32, 64, 2])"
      ]
     },
     "execution_count": 15,
     "metadata": {},
     "output_type": "execute_result"
    }
   ],
   "source": [
    "numel_list = [p.numel() for p in model.parameters()]\n",
    "sum(numel_list), numel_list"
   ]
  },
  {
   "cell_type": "code",
   "execution_count": 16,
   "id": "df7d304a-0e0d-4d9c-bb95-effa893ee877",
   "metadata": {},
   "outputs": [
    {
     "data": {
      "text/plain": [
       "tensor([[0.0877, 0.1735]], grad_fn=<AddmmBackward0>)"
      ]
     },
     "execution_count": 16,
     "metadata": {},
     "output_type": "execute_result"
    }
   ],
   "source": [
    "model(img.unsqueeze(0))"
   ]
  },
  {
   "cell_type": "markdown",
   "id": "a1bb8040-ccba-4bed-bbab-648610a3a043",
   "metadata": {},
   "source": [
    "## Custom Submodule"
   ]
  },
  {
   "cell_type": "code",
   "execution_count": 17,
   "id": "3238886a-f6f2-407c-9d8b-a0c0f872223d",
   "metadata": {},
   "outputs": [],
   "source": [
    "class Net(nn.Module):\n",
    "    def __init__(self):\n",
    "        super().__init__()\n",
    "        self.conv1 = nn.Conv2d(3, 16, kernel_size=3, padding=1)\n",
    "        self.act1 = nn.Tanh()\n",
    "        self.pool1 = nn.MaxPool2d(2)\n",
    "        self.conv2 = nn.Conv2d(16, 8, kernel_size=3, padding=1)\n",
    "        self.act2 = nn.Tanh()\n",
    "        self.pool2 = nn.MaxPool2d(2)\n",
    "        self.fc1 = nn.Linear(8 * 8 * 8, 32)\n",
    "        self.act3 = nn.Tanh()\n",
    "        self.fc2 = nn.Linear(32, 2)\n",
    "\n",
    "    def forward(self, x):\n",
    "        out = self.pool1(self.act1(self.conv1(x)))\n",
    "        out = self.pool2(self.act2(self.conv2(out)))\n",
    "        out = out.view(-1, 8 * 8 * 8)\n",
    "        out = self.act3(self.fc1(out))\n",
    "        out = self.fc2(out)\n",
    "        return out"
   ]
  },
  {
   "cell_type": "code",
   "execution_count": 18,
   "id": "80562dcd-2de9-4eb4-9c57-57cb1b6199e1",
   "metadata": {},
   "outputs": [],
   "source": [
    "model = Net()"
   ]
  },
  {
   "cell_type": "code",
   "execution_count": 19,
   "id": "2417675b-b309-4eb6-9df5-c20679686dbb",
   "metadata": {},
   "outputs": [
    {
     "data": {
      "text/plain": [
       "(18090, [432, 16, 1152, 8, 16384, 32, 64, 2])"
      ]
     },
     "execution_count": 19,
     "metadata": {},
     "output_type": "execute_result"
    }
   ],
   "source": [
    "numel_list = [p.numel() for p in model.parameters()]\n",
    "sum(numel_list), numel_list"
   ]
  },
  {
   "cell_type": "markdown",
   "id": "c85f64dd-0f12-4fee-b65d-db66e0e3be8e",
   "metadata": {},
   "source": [
    "## Functional API"
   ]
  },
  {
   "cell_type": "code",
   "execution_count": 22,
   "id": "8b846a53-9c72-42e9-9bfd-daf77919f7da",
   "metadata": {},
   "outputs": [],
   "source": [
    "class Net(nn.Module):\n",
    "    def __init__(self):\n",
    "        super().__init__()\n",
    "        self.conv1 = nn.Conv2d(3, 16, kernel_size=3, padding=1)\n",
    "        self.conv2 = nn.Conv2d(16, 8, kernel_size=3, padding=1)\n",
    "        self.fc1 = nn.Linear(8 * 8 * 8, 32)\n",
    "        self.fc2 = nn.Linear(32, 2)\n",
    "\n",
    "    def forward(self, x):\n",
    "        out = F.max_pool2d(torch.tanh(self.conv1(x)), 2)\n",
    "        out = F.max_pool2d(torch.tanh(self.conv2(out)), 2)\n",
    "        out = out.view(-1, 8 * 8 * 8)\n",
    "        out = torch.tanh(self.fc1(out))\n",
    "        out = self.fc2(out)\n",
    "        return out"
   ]
  },
  {
   "cell_type": "code",
   "execution_count": 23,
   "id": "c8354607-a003-4007-8bb1-b7a3bf86da9f",
   "metadata": {},
   "outputs": [],
   "source": [
    "model = Net()"
   ]
  },
  {
   "cell_type": "code",
   "execution_count": 24,
   "id": "7e3b4bd3-f09b-4460-bdf4-522143c1b5b2",
   "metadata": {},
   "outputs": [
    {
     "data": {
      "text/plain": [
       "tensor([[-0.1252, -0.1663]], grad_fn=<AddmmBackward0>)"
      ]
     },
     "execution_count": 24,
     "metadata": {},
     "output_type": "execute_result"
    }
   ],
   "source": [
    "model(img.unsqueeze(0))"
   ]
  },
  {
   "cell_type": "markdown",
   "id": "99d59357-be95-4963-b674-6909a500c32b",
   "metadata": {},
   "source": [
    "## Model Training"
   ]
  },
  {
   "cell_type": "code",
   "execution_count": 27,
   "id": "84fff2a5-1149-414d-a03e-1cf673f6f616",
   "metadata": {},
   "outputs": [],
   "source": [
    "def train(n_epochs, model, optimizer, loss_fn, train_loader):\n",
    "    for epoch in range(1, n_epochs + 1):\n",
    "        training_loss = 0.0\n",
    "\n",
    "        for inputs, targets in train_loader:\n",
    "            outputs = model(inputs)\n",
    "            loss = loss_fn(outputs, targets)\n",
    "\n",
    "            optimizer.zero_grad()\n",
    "            loss.backward()\n",
    "            optimizer.step()\n",
    "\n",
    "            training_loss += loss.item()\n",
    "\n",
    "        if epoch == 1 or epoch % 10 == 0:\n",
    "            average_loss = training_loss / len(train_loader)\n",
    "            print(f\"{datetime.datetime.now()} Epoch: {epoch}, Training loss: {average_loss:.4f}\")"
   ]
  },
  {
   "cell_type": "code",
   "execution_count": 29,
   "id": "d188d050-a0a8-434b-a0c7-0313b380e022",
   "metadata": {},
   "outputs": [],
   "source": [
    "train_loader = DataLoader(cifar2, batch_size=64, shuffle=True)"
   ]
  },
  {
   "cell_type": "code",
   "execution_count": 30,
   "id": "b8daccec-33a6-46d3-b0d5-8dbe06427ad3",
   "metadata": {},
   "outputs": [],
   "source": [
    "model = Net()\n",
    "optimizer = optim.SGD(model.parameters(), lr=1e-2)\n",
    "loss_fn = nn.CrossEntropyLoss()"
   ]
  },
  {
   "cell_type": "code",
   "execution_count": 31,
   "id": "79ecef7e-f382-4dc8-a3ea-63cc8060ffb4",
   "metadata": {},
   "outputs": [
    {
     "name": "stdout",
     "output_type": "stream",
     "text": [
      "2024-07-25 19:14:01.187869 Epoch: 1, Training loss: 0.5883\n",
      "2024-07-25 19:14:26.296607 Epoch: 10, Training loss: 0.3268\n",
      "2024-07-25 19:14:53.683500 Epoch: 20, Training loss: 0.2912\n",
      "2024-07-25 19:15:23.207957 Epoch: 30, Training loss: 0.2703\n",
      "2024-07-25 19:15:52.867091 Epoch: 40, Training loss: 0.2533\n",
      "2024-07-25 19:16:22.750624 Epoch: 50, Training loss: 0.2345\n",
      "2024-07-25 19:16:53.653921 Epoch: 60, Training loss: 0.2193\n",
      "2024-07-25 19:17:19.786414 Epoch: 70, Training loss: 0.2015\n",
      "2024-07-25 19:17:47.951991 Epoch: 80, Training loss: 0.1845\n",
      "2024-07-25 19:18:18.368832 Epoch: 90, Training loss: 0.1716\n",
      "2024-07-25 19:18:48.911408 Epoch: 100, Training loss: 0.1574\n"
     ]
    }
   ],
   "source": [
    "train(\n",
    "    n_epochs=100,\n",
    "    model=model,\n",
    "    optimizer=optimizer,\n",
    "    loss_fn=loss_fn,\n",
    "    train_loader=train_loader,\n",
    ")"
   ]
  },
  {
   "cell_type": "markdown",
   "id": "468ee6b8-2641-410c-885e-8155dd61b972",
   "metadata": {},
   "source": [
    "## Measuring Accuracy"
   ]
  },
  {
   "cell_type": "code",
   "execution_count": 32,
   "id": "738a668d-6112-4de2-8494-146f4d090fa3",
   "metadata": {},
   "outputs": [],
   "source": [
    "train_loader = DataLoader(cifar2, batch_size=64, shuffle=False)\n",
    "val_loader = DataLoader(cifar2_val, batch_size=64, shuffle=False)"
   ]
  },
  {
   "cell_type": "code",
   "execution_count": 34,
   "id": "5e101046-e663-4fe1-a2f6-435649ec296d",
   "metadata": {},
   "outputs": [],
   "source": [
    "def validate(model, train_loader, val_loader):\n",
    "    for name, loader in [(\"Training\", train_loader), (\"Validation\", val_loader)]:\n",
    "        correct = 0\n",
    "        total = 0\n",
    "\n",
    "        with torch.no_grad():\n",
    "            for inputs, targets in loader:\n",
    "                outputs = model(inputs)\n",
    "                _, predictions = torch.max(outputs, dim=1)\n",
    "                total += targets.shape[0]\n",
    "                correct += int((predictions == targets).sum())\n",
    "\n",
    "        accuracy = (correct / total) * 100\n",
    "        print(f\"{name} accuracy: {accuracy:.2f}%\")"
   ]
  },
  {
   "cell_type": "code",
   "execution_count": 35,
   "id": "86f31a9f-80cc-423c-8c59-a747f39f9dc2",
   "metadata": {},
   "outputs": [
    {
     "name": "stdout",
     "output_type": "stream",
     "text": [
      "Training accuracy: 92.99%\n",
      "Validation accuracy: 90.05%\n"
     ]
    }
   ],
   "source": [
    "validate(model, train_loader, val_loader)"
   ]
  },
  {
   "cell_type": "markdown",
   "id": "bca0d398-5451-49d8-9043-2ea847f58772",
   "metadata": {},
   "source": [
    "## Saving Model"
   ]
  },
  {
   "cell_type": "code",
   "execution_count": 36,
   "id": "c337604e-ee5d-44f4-b3d1-b7b3fb0e111d",
   "metadata": {},
   "outputs": [],
   "source": [
    "torch.save(model.state_dict(), \"data/cifar2.pt\")"
   ]
  },
  {
   "cell_type": "code",
   "execution_count": 37,
   "id": "2b614c5f-90a8-494b-8ea3-255d5ed8003d",
   "metadata": {},
   "outputs": [
    {
     "data": {
      "text/plain": [
       "<All keys matched successfully>"
      ]
     },
     "execution_count": 37,
     "metadata": {},
     "output_type": "execute_result"
    }
   ],
   "source": [
    "loaded_model = Net()\n",
    "loaded_model.load_state_dict(torch.load(\"data/cifar2.pt\"))"
   ]
  },
  {
   "cell_type": "markdown",
   "id": "41eda488-96ec-4216-ba36-0a3a51a9eeb5",
   "metadata": {},
   "source": [
    "## Training on GPU"
   ]
  },
  {
   "cell_type": "code",
   "execution_count": 38,
   "id": "5e5b179f-6c16-46f8-afc5-7d355397d518",
   "metadata": {},
   "outputs": [
    {
     "name": "stdout",
     "output_type": "stream",
     "text": [
      "Training on device: cpu\n"
     ]
    }
   ],
   "source": [
    "device = (torch.device(\"cuda\") if torch.cuda.is_available() else torch.device(\"cpu\"))\n",
    "print(f\"Training on device: {device}\")"
   ]
  },
  {
   "cell_type": "code",
   "execution_count": 39,
   "id": "2c920930-cd17-4d26-9b72-3556e258bc4c",
   "metadata": {},
   "outputs": [],
   "source": [
    "def train(n_epochs, model, optimizer, loss_fn, train_loader):\n",
    "    for epoch in range(1, n_epochs + 1):\n",
    "        training_loss = 0.0\n",
    "\n",
    "        for inputs, targets in train_loader:\n",
    "            inputs = inputs.to(device=device)\n",
    "            targets = targets.to(device=device)\n",
    "            \n",
    "            outputs = model(inputs)\n",
    "            loss = loss_fn(outputs, targets)\n",
    "\n",
    "            optimizer.zero_grad()\n",
    "            loss.backward()\n",
    "            optimizer.step()\n",
    "\n",
    "            training_loss += loss.item()\n",
    "\n",
    "        if epoch == 1 or epoch % 10 == 0:\n",
    "            average_loss = training_loss / len(train_loader)\n",
    "            print(f\"{datetime.datetime.now()} Epoch: {epoch}, Training loss: {average_loss:.4f}\")"
   ]
  },
  {
   "cell_type": "code",
   "execution_count": 40,
   "id": "2264ee3c-c615-4359-97dc-4d859780a4d4",
   "metadata": {},
   "outputs": [],
   "source": [
    "train_loader = DataLoader(cifar2, batch_size=64, shuffle=True)"
   ]
  },
  {
   "cell_type": "code",
   "execution_count": 41,
   "id": "826eab88-a95a-4635-a2d8-76edefebdbb8",
   "metadata": {},
   "outputs": [],
   "source": [
    "model = Net().to(device=device)\n",
    "optimizer = optim.SGD(model.parameters(), lr=1e-2)\n",
    "loss_fn = nn.CrossEntropyLoss()"
   ]
  },
  {
   "cell_type": "code",
   "execution_count": 42,
   "id": "7fbab901-0641-4f5d-97d2-1f63cb22f4ee",
   "metadata": {},
   "outputs": [
    {
     "name": "stdout",
     "output_type": "stream",
     "text": [
      "2024-07-25 19:33:02.293235 Epoch: 1, Training loss: 0.5928\n",
      "2024-07-25 19:33:30.655568 Epoch: 10, Training loss: 0.3448\n",
      "2024-07-25 19:34:01.214162 Epoch: 20, Training loss: 0.2998\n",
      "2024-07-25 19:34:36.560403 Epoch: 30, Training loss: 0.2732\n",
      "2024-07-25 19:35:06.156348 Epoch: 40, Training loss: 0.2471\n",
      "2024-07-25 19:35:36.708380 Epoch: 50, Training loss: 0.2248\n",
      "2024-07-25 19:36:05.614502 Epoch: 60, Training loss: 0.2058\n",
      "2024-07-25 19:36:36.083663 Epoch: 70, Training loss: 0.1932\n",
      "2024-07-25 19:37:06.675339 Epoch: 80, Training loss: 0.1781\n",
      "2024-07-25 19:37:43.329905 Epoch: 90, Training loss: 0.1648\n",
      "2024-07-25 19:38:18.340637 Epoch: 100, Training loss: 0.1523\n"
     ]
    }
   ],
   "source": [
    "train(\n",
    "    n_epochs=100,\n",
    "    model=model,\n",
    "    optimizer=optimizer,\n",
    "    loss_fn=loss_fn,\n",
    "    train_loader=train_loader,\n",
    ")"
   ]
  },
  {
   "cell_type": "code",
   "execution_count": 49,
   "id": "3cfd7716-3e78-43be-8ad5-8301839ddbf8",
   "metadata": {},
   "outputs": [],
   "source": [
    "train_loader = DataLoader(cifar2, batch_size=64, shuffle=False)\n",
    "val_loader = DataLoader(cifar2_val, batch_size=64, shuffle=False)"
   ]
  },
  {
   "cell_type": "code",
   "execution_count": 50,
   "id": "5a1722fa-6bdd-4f3f-9605-fd6275d25400",
   "metadata": {},
   "outputs": [],
   "source": [
    "def validate(model, train_loader, val_loader):\n",
    "    for name, loader in [(\"Training\", train_loader), (\"Validation\", val_loader)]:\n",
    "        correct = 0\n",
    "        total = 0\n",
    "\n",
    "        with torch.no_grad():\n",
    "            for inputs, targets in loader:\n",
    "                inputs = inputs.to(device)\n",
    "                targets = targets.to(device)\n",
    "\n",
    "                outputs = model(inputs)\n",
    "                _, predictions = torch.max(outputs, dim=1)\n",
    "                total += targets.shape[0]\n",
    "                correct += int((predictions == targets).sum())\n",
    "\n",
    "        accuracy = (correct / total) * 100\n",
    "        print(f\"{name} accuracy: {accuracy:.2f}%\")"
   ]
  },
  {
   "cell_type": "code",
   "execution_count": 51,
   "id": "96cca64d-995a-4db5-9aca-0c753318ff4b",
   "metadata": {},
   "outputs": [
    {
     "name": "stdout",
     "output_type": "stream",
     "text": [
      "Training accuracy: 83.82%\n",
      "Validation accuracy: 80.75%\n"
     ]
    }
   ],
   "source": [
    "validate(model, train_loader, val_loader)"
   ]
  },
  {
   "cell_type": "code",
   "execution_count": 47,
   "id": "faaf76a7-8cea-4920-a59d-cd7d4bea91a0",
   "metadata": {},
   "outputs": [],
   "source": [
    "torch.save(model.state_dict(), \"data/cifar2.pt\")"
   ]
  },
  {
   "cell_type": "code",
   "execution_count": 48,
   "id": "2a8c35d8-5947-4a40-96ad-e169819040ff",
   "metadata": {},
   "outputs": [
    {
     "data": {
      "text/plain": [
       "<All keys matched successfully>"
      ]
     },
     "execution_count": 48,
     "metadata": {},
     "output_type": "execute_result"
    }
   ],
   "source": [
    "loaded_model = Net().to(device=device)\n",
    "loaded_model.load_state_dict(torch.load(\"data/cifar2.pt\", map_location=device))"
   ]
  },
  {
   "cell_type": "markdown",
   "id": "75e51ec2-4c2f-464e-a1ad-42c64089daf0",
   "metadata": {},
   "source": [
    "## Wider Network"
   ]
  },
  {
   "cell_type": "code",
   "execution_count": 52,
   "id": "9ca516f6-4a6d-4a1c-956d-84d9e0af8db8",
   "metadata": {},
   "outputs": [],
   "source": [
    "class NetWidth(nn.Module):\n",
    "    def __init__(self, n_channels1=32):\n",
    "        super().__init__()\n",
    "        self.n_channels1 = n_channels1\n",
    "        self.conv1 = nn.Conv2d(3, n_channels1, kernel_size=3, padding=1)\n",
    "        self.conv2 = nn.Conv2d(n_channels1, n_channels1 // 2, kernel_size=3, padding=1)\n",
    "        self.fc1 = nn.Linear(8 * 8 * n_channels1 // 2, 32)\n",
    "        self.fc2 = nn.Linear(32, 2)\n",
    "\n",
    "    def forward(self, x):\n",
    "        out = F.max_pool2d(torch.tanh(self.conv1(x)), 2)\n",
    "        out = F.max_pool2d(torch.tanh(self.conv2(out)), 2)\n",
    "        out = out.view(-1, 8 * 8 * self.n_channels1 // 2)\n",
    "        out = torch.tanh(self.fc1(out))\n",
    "        out = self.fc2(out)\n",
    "        return out"
   ]
  },
  {
   "cell_type": "code",
   "execution_count": 54,
   "id": "68e7ddc8-51fb-4f94-a53a-bcbc62a9d200",
   "metadata": {},
   "outputs": [
    {
     "data": {
      "text/plain": [
       "38386"
      ]
     },
     "execution_count": 54,
     "metadata": {},
     "output_type": "execute_result"
    }
   ],
   "source": [
    "model = NetWidth()\n",
    "\n",
    "sum(p.numel() for p in model.parameters())"
   ]
  },
  {
   "cell_type": "markdown",
   "id": "ac0757b1-6e16-4023-a168-561c7c1102c4",
   "metadata": {},
   "source": [
    "## Weight Decay"
   ]
  },
  {
   "cell_type": "code",
   "execution_count": 55,
   "id": "7001d568-5de6-49ad-b7b8-f97b8fc41e00",
   "metadata": {},
   "outputs": [
    {
     "name": "stdout",
     "output_type": "stream",
     "text": [
      "Device: cpu\n"
     ]
    }
   ],
   "source": [
    "device = torch.device(\"cuda\" if torch.cuda.is_available() else \"cpu\")\n",
    "print(f\"Device: {device}\")"
   ]
  },
  {
   "cell_type": "code",
   "execution_count": 56,
   "id": "b3c53126-ff12-417a-9f30-1c9a53a179f1",
   "metadata": {},
   "outputs": [],
   "source": [
    "def training_with_weight_decay(n_epochs, model, optimizer, loss_fn, train_loader):\n",
    "    for epoch in range(1, n_epochs + 1):\n",
    "        training_loss = 0.0\n",
    "\n",
    "        for inputs, targets in train_loader:\n",
    "            inputs.to(device)\n",
    "            targets.to(device)\n",
    "\n",
    "            outputs = model(inputs)\n",
    "            loss = loss_fn(outputs, targets)\n",
    "\n",
    "            alpha = 1e-3\n",
    "            # l1_norm = sum(p.abs().sum() for p in model.parameters())\n",
    "            l2_norm = sum(p.pow(2.0).sum() for p in model.parameters())\n",
    "            loss = loss + alpha * l2_norm\n",
    "\n",
    "            optimizer.zero_grad()\n",
    "            loss.backward()\n",
    "            optimizer.step()\n",
    "\n",
    "            training_loss += loss.item()\n",
    "\n",
    "        if epoch == 1 or epoch % 10 == 0:\n",
    "            average_loss = training_loss / len(train_loader)\n",
    "            print(f\"{datetime.datetime.now()} Epoch: {epoch}, Training loss: {average_loss:.4f}\")"
   ]
  },
  {
   "cell_type": "code",
   "execution_count": 57,
   "id": "5cc7141b-bf64-4728-a57c-2ea8538b245a",
   "metadata": {},
   "outputs": [
    {
     "name": "stdout",
     "output_type": "stream",
     "text": [
      "2024-07-25 21:37:49.948335 Epoch: 1, Training loss: 0.4246\n",
      "2024-07-25 21:38:18.805210 Epoch: 10, Training loss: 0.3421\n"
     ]
    }
   ],
   "source": [
    "train_loader = DataLoader(cifar2, batch_size=64, shuffle=True)\n",
    "\n",
    "model = Net().to(device)\n",
    "optimizer = optim.Adam(model.parameters(), lr=1e-2)\n",
    "loss_fn = nn.CrossEntropyLoss()\n",
    "\n",
    "train(10, model, optimizer, loss_fn, train_loader)"
   ]
  },
  {
   "cell_type": "code",
   "execution_count": 58,
   "id": "9e1c2e2a-147b-4778-aa71-125615491174",
   "metadata": {},
   "outputs": [],
   "source": [
    "def training_with_builtin_weight_decay(n_epochs, model, optimizer, loss_fn, train_loader):\n",
    "     for epoch in range(1, n_epochs + 1):\n",
    "        training_loss = 0.0\n",
    "\n",
    "        for inputs, targets in train_loader:\n",
    "            inputs.to(device)\n",
    "            targets.to(device)\n",
    "\n",
    "            outputs = model(inputs)\n",
    "            loss = loss_fn(outputs, targets)\n",
    "\n",
    "            optimizer.zero_grad()\n",
    "            loss.backward()\n",
    "            optimizer.step()\n",
    "\n",
    "            training_loss += loss.item()\n",
    "\n",
    "        if epoch == 1 or epoch % 10 == 0:\n",
    "            average_loss = training_loss / len(train_loader)\n",
    "            print(f\"{datetime.datetime.now()} Epoch: {epoch}, Training loss: {average_loss:.4f}\")"
   ]
  },
  {
   "cell_type": "code",
   "execution_count": 59,
   "id": "6b9da975-e8c7-4fb2-99a7-4a6ae21ab760",
   "metadata": {},
   "outputs": [
    {
     "name": "stdout",
     "output_type": "stream",
     "text": [
      "2024-07-25 21:42:55.403503 Epoch: 1, Training loss: 0.6771\n",
      "2024-07-25 21:43:30.143541 Epoch: 10, Training loss: 0.5734\n"
     ]
    }
   ],
   "source": [
    "train_loader = DataLoader(cifar2, batch_size=64, shuffle=True)\n",
    "\n",
    "model = Net().to(device)\n",
    "optimizer = optim.SGD(model.parameters(), lr=1e-2, weight_decay=0.5)\n",
    "loss_fn = nn.CrossEntropyLoss()\n",
    "\n",
    "train(10, model, optimizer, loss_fn, train_loader)"
   ]
  },
  {
   "cell_type": "markdown",
   "id": "38a6d4b4-f205-447b-873e-d5178b6c2970",
   "metadata": {},
   "source": [
    "## Dropout"
   ]
  },
  {
   "cell_type": "code",
   "execution_count": 60,
   "id": "c7e5fdfd-dacd-4d87-879c-0df6e037d942",
   "metadata": {},
   "outputs": [],
   "source": [
    "class NetDropout(nn.Module):\n",
    "    def __init__(self, n_channels1=32):\n",
    "        super().__init__()\n",
    "        self.n_channels1 = n_channels1\n",
    "        self.conv1 = nn.Conv2d(3, n_channels1, kernel_size=3, padding=1)\n",
    "        self.conv1_dropout = nn.Dropout2d(p=0.4)\n",
    "        self.conv2 = nn.Conv2d(n_channels1, n_channels1 // 2, kernel_size=3, padding=1)\n",
    "        self.conv2_dropout = nn.Dropout2d(p=0.4)\n",
    "        self.fc1 = nn.Linear(8 * 8 * n_channels1 // 2, 32)\n",
    "        self.fc2 = nn.Linear(32, 2)\n",
    "\n",
    "    def forward(self, x):\n",
    "        out = F.max_pool2d(torch.tanh(self.conv1(x)), 2)\n",
    "        out = self.conv1_dropout(out)\n",
    "        out = F.max_pool2d(torch.tanh(self.conv2(out)), 2)\n",
    "        out = self.conv2_dropout(out)\n",
    "        out = out.view(-1, 8 * 8 * self.n_channels1 // 2)\n",
    "        out = torch.tanh(self.fc1(out))\n",
    "        out = self.fc2(out)\n",
    "        return out"
   ]
  },
  {
   "cell_type": "code",
   "execution_count": 61,
   "id": "3c6bd188-ab46-4bde-add8-225307010439",
   "metadata": {},
   "outputs": [
    {
     "name": "stdout",
     "output_type": "stream",
     "text": [
      "2024-07-25 21:49:08.333949 Epoch: 1, Training loss: 0.5706\n",
      "2024-07-25 21:49:34.377883 Epoch: 10, Training loss: 0.3271\n"
     ]
    }
   ],
   "source": [
    "train_loader = DataLoader(cifar2, batch_size=64, shuffle=True)\n",
    "\n",
    "model = Net().to(device)\n",
    "optimizer = optim.SGD(model.parameters(), lr=1e-2)\n",
    "loss_fn = nn.CrossEntropyLoss()\n",
    "\n",
    "model.train()\n",
    "\n",
    "train(10, model, optimizer, loss_fn, train_loader)"
   ]
  },
  {
   "cell_type": "markdown",
   "id": "b06c86b2-a854-41b2-b223-3299c20a93a6",
   "metadata": {},
   "source": [
    "## Batch Normalization"
   ]
  },
  {
   "cell_type": "code",
   "execution_count": 70,
   "id": "ef86eb67-169f-4a50-b6e4-4f8daf2f037e",
   "metadata": {},
   "outputs": [],
   "source": [
    "class NetBatchNorm(nn.Module):\n",
    "    def __init__(self, n_channels1=32):\n",
    "        super().__init__()\n",
    "        self.n_channels1 = n_channels1\n",
    "        self.conv1 = nn.Conv2d(3, n_channels1, kernel_size=3, padding=1)\n",
    "        self.conv1_batchnorm = nn.BatchNorm2d(num_features=n_channels1)\n",
    "        self.conv2 = nn.Conv2d(n_channels1, n_channels1 // 2, kernel_size=3, padding=1)\n",
    "        self.conv2_batchnorm = nn.BatchNorm2d(num_features=n_channels // 2)\n",
    "        self.fc1 = nn.Linear(8 * 8 * n_channels1 // 2, 32)\n",
    "        self.fc2 = nn.Linear(32, 2)\n",
    "\n",
    "    def forward(self, x):\n",
    "        out = self.conv1_batchnorm(self.conv1(x))\n",
    "        out = F.max_pool2d(torch.tanh(out), 2)\n",
    "        out = self.conv2_batchnorm(self.conv2(out))\n",
    "        out = F.max_pool2d(torch.tanh(out), 2)\n",
    "        out = out.view(-1, 8 * 8 * self.n_channels1 // 2)\n",
    "        out = torch.tanh(self.fc1(out))\n",
    "        out = self.fc2(out)\n",
    "        return out"
   ]
  },
  {
   "cell_type": "code",
   "execution_count": 71,
   "id": "c94d2dd4-a868-4c8a-9e15-97e68c2bdee6",
   "metadata": {},
   "outputs": [
    {
     "name": "stdout",
     "output_type": "stream",
     "text": [
      "2024-07-25 22:03:35.108039 Epoch: 1, Training loss: 0.5871\n",
      "2024-07-25 22:04:01.659310 Epoch: 10, Training loss: 0.3318\n"
     ]
    }
   ],
   "source": [
    "train_loader = DataLoader(cifar2, batch_size=64, shuffle=True)\n",
    "\n",
    "model = Net().to(device)\n",
    "optimizer = optim.SGD(model.parameters(), lr=1e-2)\n",
    "loss_fn = nn.CrossEntropyLoss()\n",
    "\n",
    "model.train()\n",
    "\n",
    "train(10, model, optimizer, loss_fn, train_loader)"
   ]
  },
  {
   "cell_type": "markdown",
   "id": "20129bb9-6e01-4c13-9b31-84fcdb4a6f3b",
   "metadata": {},
   "source": [
    "## Deeper Networks"
   ]
  },
  {
   "cell_type": "code",
   "execution_count": 72,
   "id": "53afe505-a1d5-4717-9b6c-b81267df2b62",
   "metadata": {},
   "outputs": [],
   "source": [
    "class NetDepth(nn.Module):\n",
    "    def __init__(self, n_channels1=32):\n",
    "        super().__init__()\n",
    "        self.n_channels1 = n_channels1\n",
    "        self.conv1 = nn.Conv2d(3, n_channels1, kernel_size=3, padding=1)\n",
    "        self.conv2 = nn.Conv2d(n_channels1, n_channels1 // 2, kernel_size=3, padding=1)\n",
    "        self.conv3 = nn.Conv2d(n_channels1 // 2, n_channels1 // 2, kernel_size=3, padding=1)\n",
    "        self.fc1 = nn.Linear(4 * 4 * n_channels1 // 2, 32)\n",
    "        self.fc2 = nn.Linear(32, 2)\n",
    "\n",
    "    def forward(self, x):\n",
    "        out = F.max_pool2d(torch.relu(self.conv1(x)), 2)\n",
    "        out = F.max_pool2d(torch.relu(self.conv2(out)), 2)\n",
    "        out = F.max_pool2d(torch.relu(self.conv3(out)), 2)\n",
    "        out = out.view(-1, 4 * 4 * self.n_channels1 // 2)\n",
    "        out = torch.relu(self.fc1(out))\n",
    "        out = self.fc2(out)\n",
    "        return out"
   ]
  },
  {
   "cell_type": "markdown",
   "id": "3254d49a-4720-48a6-b688-c4ebb26d61aa",
   "metadata": {},
   "source": [
    "## Skip Connections"
   ]
  },
  {
   "cell_type": "code",
   "execution_count": 73,
   "id": "70c4282c-3622-4113-971a-22574abaca45",
   "metadata": {},
   "outputs": [],
   "source": [
    "class NetRes(nn.Module):\n",
    "    def __init__(self, n_channels1=32):\n",
    "        super().__init__()\n",
    "        self.n_channels1 = n_channels1\n",
    "        self.conv1 = nn.Conv2d(3, n_channels1, kernel_size=3, padding=1)\n",
    "        self.conv2 = nn.Conv2d(n_channels1, n_channels1 // 2, kernel_size=3, padding=1)\n",
    "        self.conv3 = nn.Conv2d(n_channels1 // 2, n_channels1 // 2, kernel_size=3, padding=1)\n",
    "        self.fc1 = nn.Linear(4 * 4 * n_channels1 // 2, 32)\n",
    "        self.fc2 = nn.Linear(32, 2)\n",
    "\n",
    "    def forward(self, x):\n",
    "        out = F.max_pool2d(torch.relu(self.conv1(x)), 2)\n",
    "        out = F.max_pool2d(torch.relu(self.conv2(out)), 2)\n",
    "        out1 = out\n",
    "        out = F.max_pool2d(torch.relu(self.conv3(out)) + out1, 2)\n",
    "        out = out.view(-1, 4 * 4 * self.n_channels1 // 2)\n",
    "        out = torch.relu(self.fc1(out))\n",
    "        out = self.fc2(out)\n",
    "        return out"
   ]
  },
  {
   "cell_type": "markdown",
   "id": "25ec71b6-869d-4b25-8cf4-90ec02525f06",
   "metadata": {},
   "source": [
    "## Very Deep Networks"
   ]
  },
  {
   "cell_type": "code",
   "execution_count": 7,
   "id": "c2f755c8-f597-4349-8741-259b0e3f1178",
   "metadata": {
    "execution": {
     "iopub.execute_input": "2024-07-25T18:30:28.361591Z",
     "iopub.status.busy": "2024-07-25T18:30:28.361325Z",
     "iopub.status.idle": "2024-07-25T18:30:28.366855Z",
     "shell.execute_reply": "2024-07-25T18:30:28.366166Z",
     "shell.execute_reply.started": "2024-07-25T18:30:28.361571Z"
    }
   },
   "outputs": [],
   "source": [
    "class ResBlock(nn.Module):\n",
    "    def __init__(self, n_channels):\n",
    "        super().__init__()\n",
    "        self.conv = nn.Conv2d(n_channels, n_channels, kernel_size=3, padding=1, bias=False)\n",
    "        self.batch_norm = nn.BatchNorm2d(num_features=n_channels)\n",
    "        nn.init.kaiming_normal_(self.conv.weight, nonlinearity=\"relu\")\n",
    "        nn.init.constant_(self.batch_norm.weight, 0.5)\n",
    "        nn.init.zeros_(self.batch_norm.bias)\n",
    "\n",
    "    def forward(self, x):\n",
    "        out = self.conv(x)\n",
    "        out = self.batch_norm(out)\n",
    "        out = torch.relu(out)\n",
    "        return out + x"
   ]
  },
  {
   "cell_type": "code",
   "execution_count": 8,
   "id": "898f7e14-c7bc-4032-a6e9-77a0abd5a71a",
   "metadata": {
    "execution": {
     "iopub.execute_input": "2024-07-25T18:30:28.589275Z",
     "iopub.status.busy": "2024-07-25T18:30:28.588942Z",
     "iopub.status.idle": "2024-07-25T18:30:28.595476Z",
     "shell.execute_reply": "2024-07-25T18:30:28.594700Z",
     "shell.execute_reply.started": "2024-07-25T18:30:28.589250Z"
    }
   },
   "outputs": [],
   "source": [
    "class NetResDeep(nn.Module):\n",
    "    def __init__(self, n_channels1=32, n_blocks=10):\n",
    "        super().__init__()\n",
    "        self.n_channels1 = n_channels1\n",
    "        self.conv1 = nn.Conv2d(3, n_channels1, kernel_size=3, padding=1)\n",
    "        self.resblocks = nn.Sequential(\n",
    "            *(n_blocks * [ResBlock(n_channels=n_channels1)])\n",
    "        )\n",
    "        self.fc1 = nn.Linear(8 * 8 * n_channels1, 32)\n",
    "        self.fc2 = nn.Linear(32, 2)\n",
    "\n",
    "    def forward(self, x):\n",
    "        out = F.max_pool2d(torch.relu(self.conv1(x)), 2)\n",
    "        out = self.resblocks(out)\n",
    "        out = F.max_pool2d(out, 2)\n",
    "        out = out.view(-1, 8 * 8 * self.n_channels1)\n",
    "        out = torch.relu(self.fc1(out))\n",
    "        out = self.fc2(out)\n",
    "        return out"
   ]
  },
  {
   "cell_type": "code",
   "execution_count": 11,
   "id": "3aec658f-780f-4c16-9507-8c6d1bc129cc",
   "metadata": {
    "execution": {
     "iopub.execute_input": "2024-07-25T18:31:46.230747Z",
     "iopub.status.busy": "2024-07-25T18:31:46.230274Z",
     "iopub.status.idle": "2024-07-25T18:31:46.303931Z",
     "shell.execute_reply": "2024-07-25T18:31:46.303285Z",
     "shell.execute_reply.started": "2024-07-25T18:31:46.230711Z"
    }
   },
   "outputs": [
    {
     "name": "stdout",
     "output_type": "stream",
     "text": [
      "Device: cpu\n"
     ]
    }
   ],
   "source": [
    "device = torch.device(\"cuda\" if torch.cuda.is_available() else \"cpu\")\n",
    "print(f\"Device: {device}\")"
   ]
  },
  {
   "cell_type": "code",
   "execution_count": 12,
   "id": "16e2a8c8-4f09-44d9-b68c-bb18b8e92def",
   "metadata": {
    "execution": {
     "iopub.execute_input": "2024-07-25T18:32:23.373865Z",
     "iopub.status.busy": "2024-07-25T18:32:23.372875Z",
     "iopub.status.idle": "2024-07-25T18:32:23.382626Z",
     "shell.execute_reply": "2024-07-25T18:32:23.380594Z",
     "shell.execute_reply.started": "2024-07-25T18:32:23.373816Z"
    }
   },
   "outputs": [],
   "source": [
    "def train(n_epochs, model, optimizer, loss_fn, train_loader):\n",
    "    for epoch in range(1, n_epochs + 1):\n",
    "        training_loss = 0.0\n",
    "\n",
    "        for inputs, targets in train_loader:\n",
    "            inputs.to(device)\n",
    "            targets.to(device)\n",
    "\n",
    "            outputs = model(inputs)\n",
    "            loss = loss_fn(outputs, targets)\n",
    "\n",
    "            optimizer.zero_grad()\n",
    "            loss.backward()\n",
    "            optimizer.step()\n",
    "\n",
    "            training_loss += loss.item()\n",
    "\n",
    "        if epoch == 1 or epoch % 10 == 0:\n",
    "            average_loss = training_loss / len(train_loader)\n",
    "            print(f\"{datetime.datetime.now()} Epoch: {epoch}, Training loss: {average_loss:.4f}\")"
   ]
  },
  {
   "cell_type": "code",
   "execution_count": 13,
   "id": "e59327e1-80db-4e62-b877-cd640edcde6c",
   "metadata": {
    "execution": {
     "iopub.execute_input": "2024-07-25T18:32:38.014862Z",
     "iopub.status.busy": "2024-07-25T18:32:38.013990Z",
     "iopub.status.idle": "2024-07-25T18:37:42.824579Z",
     "shell.execute_reply": "2024-07-25T18:37:42.807635Z",
     "shell.execute_reply.started": "2024-07-25T18:32:38.014824Z"
    }
   },
   "outputs": [
    {
     "name": "stdout",
     "output_type": "stream",
     "text": [
      "2024-07-25 23:33:11.706744 Epoch: 1, Training loss: 0.5020\n",
      "2024-07-25 23:37:42.805976 Epoch: 10, Training loss: 0.2529\n"
     ]
    }
   ],
   "source": [
    "train_loader = DataLoader(cifar2, batch_size=64, shuffle=True)\n",
    "\n",
    "model = NetResDeep().to(device)\n",
    "optimizer = optim.SGD(model.parameters(), lr=3e-3)\n",
    "loss_fn = nn.CrossEntropyLoss()\n",
    "\n",
    "model.train()\n",
    "\n",
    "train(10, model, optimizer, loss_fn, train_loader)"
   ]
  },
  {
   "cell_type": "code",
   "execution_count": 14,
   "id": "9101da6c-f90a-4a4d-8a86-3c00d7d4bbd5",
   "metadata": {
    "execution": {
     "iopub.execute_input": "2024-07-25T18:37:42.825769Z",
     "iopub.status.busy": "2024-07-25T18:37:42.825558Z",
     "iopub.status.idle": "2024-07-25T18:37:42.844497Z",
     "shell.execute_reply": "2024-07-25T18:37:42.843941Z",
     "shell.execute_reply.started": "2024-07-25T18:37:42.825751Z"
    }
   },
   "outputs": [],
   "source": [
    "def validate(model, train_loader, val_loader):\n",
    "    for name, loader in [(\"Training\", train_loader), (\"Validation\", val_loader)]:\n",
    "        correct = 0\n",
    "        total = 0\n",
    "\n",
    "        with torch.no_grad():\n",
    "            for inputs, targets in loader:\n",
    "                inputs = inputs.to(device)\n",
    "                targets = targets.to(device)\n",
    "\n",
    "                outputs = model(inputs)\n",
    "                _, predictions = torch.max(outputs, dim=1)\n",
    "                total += targets.shape[0]\n",
    "                correct += int((predictions == targets).sum())\n",
    "\n",
    "        accuracy = (correct / total) * 100\n",
    "        print(f\"{name} accuracy: {accuracy:.2f}%\")"
   ]
  },
  {
   "cell_type": "code",
   "execution_count": 16,
   "id": "2583479f-a347-4a79-9df0-fc18603bfa39",
   "metadata": {
    "execution": {
     "iopub.execute_input": "2024-07-25T18:42:26.094661Z",
     "iopub.status.busy": "2024-07-25T18:42:26.094242Z",
     "iopub.status.idle": "2024-07-25T18:42:26.099452Z",
     "shell.execute_reply": "2024-07-25T18:42:26.098359Z",
     "shell.execute_reply.started": "2024-07-25T18:42:26.094638Z"
    }
   },
   "outputs": [],
   "source": [
    "train_loader = DataLoader(cifar2, batch_size=64, shuffle=False)\n",
    "val_loader = DataLoader(cifar2_val, batch_size=64, shuffle=False)"
   ]
  },
  {
   "cell_type": "code",
   "execution_count": 17,
   "id": "2a5e1371-c51a-40a2-8a8e-b3ef766303c0",
   "metadata": {
    "execution": {
     "iopub.execute_input": "2024-07-25T18:42:26.398108Z",
     "iopub.status.busy": "2024-07-25T18:42:26.397630Z",
     "iopub.status.idle": "2024-07-25T18:42:36.192233Z",
     "shell.execute_reply": "2024-07-25T18:42:36.189535Z",
     "shell.execute_reply.started": "2024-07-25T18:42:26.398071Z"
    }
   },
   "outputs": [
    {
     "name": "stdout",
     "output_type": "stream",
     "text": [
      "Training accuracy: 89.91%\n",
      "Validation accuracy: 86.85%\n"
     ]
    }
   ],
   "source": [
    "validate(model, train_loader, val_loader)"
   ]
  },
  {
   "cell_type": "markdown",
   "id": "4e14bcbc-54d7-436a-bca2-09fcaec2616f",
   "metadata": {},
   "source": [
    "## Exercises"
   ]
  },
  {
   "cell_type": "code",
   "execution_count": null,
   "id": "e4fc8bb3-39bb-48ca-a1c9-e6d11b47e90d",
   "metadata": {},
   "outputs": [],
   "source": []
  }
 ],
 "metadata": {
  "kernelspec": {
   "display_name": "Python 3 (ipykernel)",
   "language": "python",
   "name": "python3"
  },
  "language_info": {
   "codemirror_mode": {
    "name": "ipython",
    "version": 3
   },
   "file_extension": ".py",
   "mimetype": "text/x-python",
   "name": "python",
   "nbconvert_exporter": "python",
   "pygments_lexer": "ipython3",
   "version": "3.12.2"
  }
 },
 "nbformat": 4,
 "nbformat_minor": 5
}
