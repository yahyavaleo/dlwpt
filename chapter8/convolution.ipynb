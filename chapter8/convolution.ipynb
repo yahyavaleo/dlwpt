{
 "cells": [
  {
   "cell_type": "markdown",
   "id": "f14132b8-f22c-42a7-96fb-10633d9bfc2c",
   "metadata": {},
   "source": [
    "# Convolution"
   ]
  },
  {
   "cell_type": "code",
   "execution_count": 1,
   "id": "6fe7ea9b-08f1-4921-884b-10cadc00f09a",
   "metadata": {
    "execution": {
     "iopub.execute_input": "2024-08-21T15:45:17.959761Z",
     "iopub.status.busy": "2024-08-21T15:45:17.959236Z",
     "iopub.status.idle": "2024-08-21T15:45:19.389513Z",
     "shell.execute_reply": "2024-08-21T15:45:19.389220Z",
     "shell.execute_reply.started": "2024-08-21T15:45:17.959736Z"
    }
   },
   "outputs": [],
   "source": [
    "import datetime\n",
    "import collections\n",
    "import numpy as np\n",
    "import matplotlib.pyplot as plt\n",
    "\n",
    "import torch\n",
    "import torch.nn as nn\n",
    "import torch.nn.functional as F\n",
    "import torch.optim as optim\n",
    "from torch.utils.data import DataLoader\n",
    "\n",
    "from torchvision import datasets\n",
    "from torchvision import transforms"
   ]
  },
  {
   "cell_type": "code",
   "execution_count": 2,
   "id": "7f087416-ea60-42e6-9a1e-1571010a64d4",
   "metadata": {
    "execution": {
     "iopub.execute_input": "2024-08-21T15:45:19.390230Z",
     "iopub.status.busy": "2024-08-21T15:45:19.390070Z",
     "iopub.status.idle": "2024-08-21T15:45:19.392302Z",
     "shell.execute_reply": "2024-08-21T15:45:19.391983Z",
     "shell.execute_reply.started": "2024-08-21T15:45:19.390220Z"
    }
   },
   "outputs": [],
   "source": [
    "transform = transforms.Compose([\n",
    "    transforms.ToTensor(),\n",
    "    transforms.Normalize(mean=(0.4915, 0.4823, 0.4468), std=(0.2470, 0.2435, 0.2616)),\n",
    "])"
   ]
  },
  {
   "cell_type": "code",
   "execution_count": 3,
   "id": "32fda9a6-d9d6-41bd-970d-916ebcfbea8f",
   "metadata": {
    "execution": {
     "iopub.execute_input": "2024-08-21T15:45:19.392770Z",
     "iopub.status.busy": "2024-08-21T15:45:19.392656Z",
     "iopub.status.idle": "2024-08-21T15:45:20.808910Z",
     "shell.execute_reply": "2024-08-21T15:45:20.808622Z",
     "shell.execute_reply.started": "2024-08-21T15:45:19.392759Z"
    }
   },
   "outputs": [],
   "source": [
    "cifar10 = datasets.CIFAR10(\"data/\", train=True, transform=transform)\n",
    "cifar10_val = datasets.CIFAR10(\"data/\", train=False, transform=transform)"
   ]
  },
  {
   "cell_type": "code",
   "execution_count": 4,
   "id": "c22add95-7ea8-47d2-bbe8-a41cee02693b",
   "metadata": {
    "execution": {
     "iopub.execute_input": "2024-08-21T15:45:20.809662Z",
     "iopub.status.busy": "2024-08-21T15:45:20.809559Z",
     "iopub.status.idle": "2024-08-21T15:45:27.130902Z",
     "shell.execute_reply": "2024-08-21T15:45:27.130557Z",
     "shell.execute_reply.started": "2024-08-21T15:45:20.809653Z"
    }
   },
   "outputs": [],
   "source": [
    "label_map = {0: 0, 2: 1}\n",
    "class_names = [\"airplane\", \"bird\"]\n",
    "\n",
    "cifar2 = [(img, label_map[label]) for img, label in cifar10 if label in [0, 2]]\n",
    "cifar2_val = [(img, label_map[label]) for img, label in cifar10_val if label in [0, 2]]"
   ]
  },
  {
   "cell_type": "code",
   "execution_count": 5,
   "id": "15321a12-665f-479f-b668-ebe671489e98",
   "metadata": {
    "execution": {
     "iopub.execute_input": "2024-08-21T15:45:27.131400Z",
     "iopub.status.busy": "2024-08-21T15:45:27.131273Z",
     "iopub.status.idle": "2024-08-21T15:45:27.136522Z",
     "shell.execute_reply": "2024-08-21T15:45:27.136198Z",
     "shell.execute_reply.started": "2024-08-21T15:45:27.131387Z"
    }
   },
   "outputs": [
    {
     "data": {
      "text/plain": [
       "Conv2d(3, 16, kernel_size=(3, 3), stride=(1, 1))"
      ]
     },
     "execution_count": 5,
     "metadata": {},
     "output_type": "execute_result"
    }
   ],
   "source": [
    "conv = nn.Conv2d(in_channels=3, out_channels=16, kernel_size=3)\n",
    "conv"
   ]
  },
  {
   "cell_type": "code",
   "execution_count": 6,
   "id": "e4f7802a-26e8-46b0-b6c8-1bcffcf0f356",
   "metadata": {
    "execution": {
     "iopub.execute_input": "2024-08-21T15:45:27.137075Z",
     "iopub.status.busy": "2024-08-21T15:45:27.136950Z",
     "iopub.status.idle": "2024-08-21T15:45:27.185405Z",
     "shell.execute_reply": "2024-08-21T15:45:27.185014Z",
     "shell.execute_reply.started": "2024-08-21T15:45:27.137066Z"
    }
   },
   "outputs": [
    {
     "data": {
      "text/plain": [
       "(torch.Size([16, 3, 3, 3]), torch.Size([16]))"
      ]
     },
     "execution_count": 6,
     "metadata": {},
     "output_type": "execute_result"
    }
   ],
   "source": [
    "conv.weight.shape, conv.bias.shape"
   ]
  },
  {
   "cell_type": "code",
   "execution_count": 7,
   "id": "0450731e-ebe4-4ccd-8fe3-58fdde762fa8",
   "metadata": {
    "execution": {
     "iopub.execute_input": "2024-08-21T15:45:27.186516Z",
     "iopub.status.busy": "2024-08-21T15:45:27.186391Z",
     "iopub.status.idle": "2024-08-21T15:45:27.298234Z",
     "shell.execute_reply": "2024-08-21T15:45:27.297886Z",
     "shell.execute_reply.started": "2024-08-21T15:45:27.186504Z"
    }
   },
   "outputs": [
    {
     "data": {
      "text/plain": [
       "(torch.Size([1, 3, 32, 32]), torch.Size([1, 16, 30, 30]))"
      ]
     },
     "execution_count": 7,
     "metadata": {},
     "output_type": "execute_result"
    }
   ],
   "source": [
    "img, _ = cifar2[0]\n",
    "output = conv(img.unsqueeze(0))\n",
    "img.unsqueeze(0).shape, output.shape"
   ]
  },
  {
   "cell_type": "code",
   "execution_count": 8,
   "id": "d8ccf749-626d-4e52-9bad-c1894c6d2736",
   "metadata": {
    "execution": {
     "iopub.execute_input": "2024-08-21T15:45:27.298827Z",
     "iopub.status.busy": "2024-08-21T15:45:27.298703Z",
     "iopub.status.idle": "2024-08-21T15:45:27.528491Z",
     "shell.execute_reply": "2024-08-21T15:45:27.528208Z",
     "shell.execute_reply.started": "2024-08-21T15:45:27.298816Z"
    }
   },
   "outputs": [
    {
     "data": {
      "image/png": "[encoded data removed]",
      "text/plain": [
       "<Figure size 640x480 with 2 Axes>"
      ]
     },
     "metadata": {},
     "output_type": "display_data"
    }
   ],
   "source": [
    "fig, axs = plt.subplots(nrows=1, ncols=2)\n",
    "\n",
    "axs[0].imshow(img[0], cmap=\"gray\")\n",
    "axs[1].imshow(output[0, 0].detach(), cmap=\"gray\")\n",
    "\n",
    "axs[0].set_title(\"Input\")\n",
    "axs[1].set_title(\"Output\")\n",
    "\n",
    "plt.tight_layout()\n",
    "plt.show()"
   ]
  },
  {
   "cell_type": "markdown",
   "id": "882dee07-19e8-414b-adfb-e786aa322c8b",
   "metadata": {},
   "source": [
    "## Kernels"
   ]
  },
  {
   "cell_type": "code",
   "execution_count": 9,
   "id": "62b2eaad-91c5-4a63-b0da-2a7108788396",
   "metadata": {
    "execution": {
     "iopub.execute_input": "2024-08-21T15:45:27.529004Z",
     "iopub.status.busy": "2024-08-21T15:45:27.528899Z",
     "iopub.status.idle": "2024-08-21T15:45:27.531901Z",
     "shell.execute_reply": "2024-08-21T15:45:27.531612Z",
     "shell.execute_reply.started": "2024-08-21T15:45:27.528994Z"
    }
   },
   "outputs": [
    {
     "data": {
      "text/plain": [
       "(torch.Size([1, 3, 32, 32]), torch.Size([1, 1, 32, 32]))"
      ]
     },
     "execution_count": 9,
     "metadata": {},
     "output_type": "execute_result"
    }
   ],
   "source": [
    "conv = nn.Conv2d(in_channels=3, out_channels=1, kernel_size=3, padding=1)\n",
    "output = conv(img.unsqueeze(0))\n",
    "img.unsqueeze(0).shape, output.shape"
   ]
  },
  {
   "cell_type": "code",
   "execution_count": 10,
   "id": "a34c9695-4f50-4d3f-b6a6-f5298ebcafbb",
   "metadata": {
    "execution": {
     "iopub.execute_input": "2024-08-21T15:45:27.532349Z",
     "iopub.status.busy": "2024-08-21T15:45:27.532243Z",
     "iopub.status.idle": "2024-08-21T15:45:27.541745Z",
     "shell.execute_reply": "2024-08-21T15:45:27.541501Z",
     "shell.execute_reply.started": "2024-08-21T15:45:27.532339Z"
    }
   },
   "outputs": [],
   "source": [
    "with torch.no_grad():\n",
    "    conv.bias.zero_()\n",
    "\n",
    "with torch.no_grad():\n",
    "    conv.weight.fill_(1.0 / 9.0)"
   ]
  },
  {
   "cell_type": "code",
   "execution_count": 11,
   "id": "807898c9-113a-49fb-9fb7-2b476f7ad7b8",
   "metadata": {
    "execution": {
     "iopub.execute_input": "2024-08-21T15:45:27.542231Z",
     "iopub.status.busy": "2024-08-21T15:45:27.542118Z",
     "iopub.status.idle": "2024-08-21T15:45:27.723888Z",
     "shell.execute_reply": "2024-08-21T15:45:27.723511Z",
     "shell.execute_reply.started": "2024-08-21T15:45:27.542221Z"
    }
   },
   "outputs": [
    {
     "data": {
      "image/png": "[encoded data removed]",
      "text/plain": [
       "<Figure size 640x480 with 2 Axes>"
      ]
     },
     "metadata": {},
     "output_type": "display_data"
    }
   ],
   "source": [
    "output = conv(img.unsqueeze(0))\n",
    "\n",
    "fig, axs = plt.subplots(nrows=1, ncols=2)\n",
    "\n",
    "axs[0].imshow(img[0], cmap=\"gray\")\n",
    "axs[1].imshow(output[0, 0].detach(), cmap=\"gray\")\n",
    "\n",
    "axs[0].set_title(\"Input\")\n",
    "axs[1].set_title(\"Output\")\n",
    "\n",
    "plt.tight_layout()\n",
    "plt.show()"
   ]
  },
  {
   "cell_type": "code",
   "execution_count": 12,
   "id": "32530b50-25e8-425e-a874-14c12de6c729",
   "metadata": {
    "execution": {
     "iopub.execute_input": "2024-08-21T15:45:27.724618Z",
     "iopub.status.busy": "2024-08-21T15:45:27.724459Z",
     "iopub.status.idle": "2024-08-21T15:45:27.902143Z",
     "shell.execute_reply": "2024-08-21T15:45:27.901832Z",
     "shell.execute_reply.started": "2024-08-21T15:45:27.724607Z"
    }
   },
   "outputs": [
    {
     "data": {
      "image/png": "[encoded data removed]",
      "text/plain": [
       "<Figure size 640x480 with 2 Axes>"
      ]
     },
     "metadata": {},
     "output_type": "display_data"
    }
   ],
   "source": [
    "conv = nn.Conv2d(3, 1, kernel_size=3, padding=1)\n",
    "\n",
    "with torch.no_grad():\n",
    "    conv.weight[:] = torch.tensor([[-1.0, 0.0, 1.0],\n",
    "                                   [-1.0, 0.0, 1.0],\n",
    "                                   [-1.0, 0.0, 1.0]])\n",
    "    conv.bias.zero_()\n",
    "\n",
    "output = conv(img.unsqueeze(0))\n",
    "\n",
    "fig, axs = plt.subplots(nrows=1, ncols=2)\n",
    "\n",
    "axs[0].imshow(img[0], cmap=\"gray\")\n",
    "axs[1].imshow(output[0, 0].detach(), cmap=\"gray\")\n",
    "\n",
    "axs[0].set_title(\"Input\")\n",
    "axs[1].set_title(\"Output\")\n",
    "\n",
    "plt.tight_layout()\n",
    "plt.show()"
   ]
  },
  {
   "cell_type": "markdown",
   "id": "187d199c-f9a2-4256-9341-b944a162dc59",
   "metadata": {},
   "source": [
    "## Downsampling"
   ]
  },
  {
   "cell_type": "code",
   "execution_count": 13,
   "id": "c7858a82-ac4d-4052-9703-f877cfba6b10",
   "metadata": {
    "execution": {
     "iopub.execute_input": "2024-08-21T15:45:27.903106Z",
     "iopub.status.busy": "2024-08-21T15:45:27.902983Z",
     "iopub.status.idle": "2024-08-21T15:45:27.913500Z",
     "shell.execute_reply": "2024-08-21T15:45:27.913194Z",
     "shell.execute_reply.started": "2024-08-21T15:45:27.903095Z"
    }
   },
   "outputs": [
    {
     "data": {
      "text/plain": [
       "(torch.Size([1, 3, 32, 32]), torch.Size([1, 3, 16, 16]))"
      ]
     },
     "execution_count": 13,
     "metadata": {},
     "output_type": "execute_result"
    }
   ],
   "source": [
    "pool = nn.MaxPool2d(kernel_size=2)\n",
    "output = pool(img.unsqueeze(0))\n",
    "\n",
    "img.unsqueeze(0).shape, output.shape"
   ]
  },
  {
   "cell_type": "markdown",
   "id": "1883ec60-9030-4576-a1de-ca196d2af61e",
   "metadata": {
    "editable": true,
    "slideshow": {
     "slide_type": ""
    },
    "tags": []
   },
   "source": [
    "## Convolutional Neural Network"
   ]
  },
  {
   "cell_type": "code",
   "execution_count": 14,
   "id": "28d34c83-4917-45ed-b187-bf6da352d5b5",
   "metadata": {
    "editable": true,
    "execution": {
     "iopub.execute_input": "2024-08-21T15:45:29.234305Z",
     "iopub.status.busy": "2024-08-21T15:45:29.233918Z",
     "iopub.status.idle": "2024-08-21T15:45:29.238017Z",
     "shell.execute_reply": "2024-08-21T15:45:29.237691Z",
     "shell.execute_reply.started": "2024-08-21T15:45:29.234274Z"
    },
    "slideshow": {
     "slide_type": ""
    },
    "tags": []
   },
   "outputs": [],
   "source": [
    "model = nn.Sequential(\n",
    "    nn.Conv2d(in_channels=3, out_channels=16, kernel_size=3, padding=1),\n",
    "    nn.Tanh(),\n",
    "    nn.MaxPool2d(kernel_size=2),\n",
    "    nn.Conv2d(in_channels=16, out_channels=8, kernel_size=3, padding=1),\n",
    "    nn.Tanh(),\n",
    "    nn.MaxPool2d(kernel_size=2),\n",
    "    nn.Flatten(),\n",
    "    nn.Linear(in_features=8 * 8 * 8, out_features=32),\n",
    "    nn.Tanh(),\n",
    "    nn.Linear(in_features=32, out_features=2),\n",
    ")"
   ]
  },
  {
   "cell_type": "code",
   "execution_count": 15,
   "id": "1925d9cf-cca8-4135-ad24-44e30745a0fa",
   "metadata": {
    "execution": {
     "iopub.execute_input": "2024-08-21T15:45:30.034662Z",
     "iopub.status.busy": "2024-08-21T15:45:30.034242Z",
     "iopub.status.idle": "2024-08-21T15:45:30.039175Z",
     "shell.execute_reply": "2024-08-21T15:45:30.038388Z",
     "shell.execute_reply.started": "2024-08-21T15:45:30.034640Z"
    }
   },
   "outputs": [
    {
     "data": {
      "text/plain": [
       "(18090, [432, 16, 1152, 8, 16384, 32, 64, 2])"
      ]
     },
     "execution_count": 15,
     "metadata": {},
     "output_type": "execute_result"
    }
   ],
   "source": [
    "numel_list = [p.numel() for p in model.parameters()]\n",
    "sum(numel_list), numel_list"
   ]
  },
  {
   "cell_type": "code",
   "execution_count": 16,
   "id": "df7d304a-0e0d-4d9c-bb95-effa893ee877",
   "metadata": {
    "execution": {
     "iopub.execute_input": "2024-08-21T15:45:30.836515Z",
     "iopub.status.busy": "2024-08-21T15:45:30.836096Z",
     "iopub.status.idle": "2024-08-21T15:45:30.840961Z",
     "shell.execute_reply": "2024-08-21T15:45:30.840688Z",
     "shell.execute_reply.started": "2024-08-21T15:45:30.836493Z"
    }
   },
   "outputs": [
    {
     "data": {
      "text/plain": [
       "tensor([[ 0.1498, -0.0625]], grad_fn=<AddmmBackward0>)"
      ]
     },
     "execution_count": 16,
     "metadata": {},
     "output_type": "execute_result"
    }
   ],
   "source": [
    "model(img.unsqueeze(0))"
   ]
  },
  {
   "cell_type": "markdown",
   "id": "a1bb8040-ccba-4bed-bbab-648610a3a043",
   "metadata": {},
   "source": [
    "## Custom Submodule"
   ]
  },
  {
   "cell_type": "code",
   "execution_count": 17,
   "id": "3238886a-f6f2-407c-9d8b-a0c0f872223d",
   "metadata": {
    "execution": {
     "iopub.execute_input": "2024-08-21T15:45:32.689026Z",
     "iopub.status.busy": "2024-08-21T15:45:32.688778Z",
     "iopub.status.idle": "2024-08-21T15:45:32.694262Z",
     "shell.execute_reply": "2024-08-21T15:45:32.693651Z",
     "shell.execute_reply.started": "2024-08-21T15:45:32.689006Z"
    }
   },
   "outputs": [],
   "source": [
    "class Net(nn.Module):\n",
    "    def __init__(self):\n",
    "        super().__init__()\n",
    "        self.conv1 = nn.Conv2d(3, 16, kernel_size=3, padding=1)\n",
    "        self.act1 = nn.Tanh()\n",
    "        self.pool1 = nn.MaxPool2d(2)\n",
    "        self.conv2 = nn.Conv2d(16, 8, kernel_size=3, padding=1)\n",
    "        self.act2 = nn.Tanh()\n",
    "        self.pool2 = nn.MaxPool2d(2)\n",
    "        self.fc1 = nn.Linear(8 * 8 * 8, 32)\n",
    "        self.act3 = nn.Tanh()\n",
    "        self.fc2 = nn.Linear(32, 2)\n",
    "\n",
    "    def forward(self, x):\n",
    "        out = self.pool1(self.act1(self.conv1(x)))\n",
    "        out = self.pool2(self.act2(self.conv2(out)))\n",
    "        out = out.view(-1, 8 * 8 * 8)\n",
    "        out = self.act3(self.fc1(out))\n",
    "        out = self.fc2(out)\n",
    "        return out"
   ]
  },
  {
   "cell_type": "code",
   "execution_count": 18,
   "id": "80562dcd-2de9-4eb4-9c57-57cb1b6199e1",
   "metadata": {
    "execution": {
     "iopub.execute_input": "2024-08-21T15:45:33.511523Z",
     "iopub.status.busy": "2024-08-21T15:45:33.510770Z",
     "iopub.status.idle": "2024-08-21T15:45:33.516104Z",
     "shell.execute_reply": "2024-08-21T15:45:33.515358Z",
     "shell.execute_reply.started": "2024-08-21T15:45:33.511488Z"
    }
   },
   "outputs": [],
   "source": [
    "model = Net()"
   ]
  },
  {
   "cell_type": "code",
   "execution_count": 19,
   "id": "2417675b-b309-4eb6-9df5-c20679686dbb",
   "metadata": {
    "execution": {
     "iopub.execute_input": "2024-08-21T15:45:34.159337Z",
     "iopub.status.busy": "2024-08-21T15:45:34.158869Z",
     "iopub.status.idle": "2024-08-21T15:45:34.162568Z",
     "shell.execute_reply": "2024-08-21T15:45:34.162193Z",
     "shell.execute_reply.started": "2024-08-21T15:45:34.159322Z"
    }
   },
   "outputs": [
    {
     "data": {
      "text/plain": [
       "(18090, [432, 16, 1152, 8, 16384, 32, 64, 2])"
      ]
     },
     "execution_count": 19,
     "metadata": {},
     "output_type": "execute_result"
    }
   ],
   "source": [
    "numel_list = [p.numel() for p in model.parameters()]\n",
    "sum(numel_list), numel_list"
   ]
  },
  {
   "cell_type": "markdown",
   "id": "c85f64dd-0f12-4fee-b65d-db66e0e3be8e",
   "metadata": {},
   "source": [
    "## Functional API"
   ]
  },
  {
   "cell_type": "code",
   "execution_count": 20,
   "id": "8b846a53-9c72-42e9-9bfd-daf77919f7da",
   "metadata": {
    "execution": {
     "iopub.execute_input": "2024-08-21T15:45:35.883445Z",
     "iopub.status.busy": "2024-08-21T15:45:35.883196Z",
     "iopub.status.idle": "2024-08-21T15:45:35.887978Z",
     "shell.execute_reply": "2024-08-21T15:45:35.887526Z",
     "shell.execute_reply.started": "2024-08-21T15:45:35.883427Z"
    }
   },
   "outputs": [],
   "source": [
    "class Net(nn.Module):\n",
    "    def __init__(self):\n",
    "        super().__init__()\n",
    "        self.conv1 = nn.Conv2d(3, 16, kernel_size=3, padding=1)\n",
    "        self.conv2 = nn.Conv2d(16, 8, kernel_size=3, padding=1)\n",
    "        self.fc1 = nn.Linear(8 * 8 * 8, 32)\n",
    "        self.fc2 = nn.Linear(32, 2)\n",
    "\n",
    "    def forward(self, x):\n",
    "        out = F.max_pool2d(torch.tanh(self.conv1(x)), 2)\n",
    "        out = F.max_pool2d(torch.tanh(self.conv2(out)), 2)\n",
    "        out = out.view(-1, 8 * 8 * 8)\n",
    "        out = torch.tanh(self.fc1(out))\n",
    "        out = self.fc2(out)\n",
    "        return out"
   ]
  },
  {
   "cell_type": "code",
   "execution_count": 21,
   "id": "c8354607-a003-4007-8bb1-b7a3bf86da9f",
   "metadata": {
    "execution": {
     "iopub.execute_input": "2024-08-21T15:45:36.765335Z",
     "iopub.status.busy": "2024-08-21T15:45:36.764887Z",
     "iopub.status.idle": "2024-08-21T15:45:36.769203Z",
     "shell.execute_reply": "2024-08-21T15:45:36.768680Z",
     "shell.execute_reply.started": "2024-08-21T15:45:36.765313Z"
    }
   },
   "outputs": [],
   "source": [
    "model = Net()"
   ]
  },
  {
   "cell_type": "code",
   "execution_count": 22,
   "id": "7e3b4bd3-f09b-4460-bdf4-522143c1b5b2",
   "metadata": {
    "execution": {
     "iopub.execute_input": "2024-08-21T15:45:37.451800Z",
     "iopub.status.busy": "2024-08-21T15:45:37.451353Z",
     "iopub.status.idle": "2024-08-21T15:45:37.455584Z",
     "shell.execute_reply": "2024-08-21T15:45:37.455254Z",
     "shell.execute_reply.started": "2024-08-21T15:45:37.451780Z"
    }
   },
   "outputs": [
    {
     "data": {
      "text/plain": [
       "tensor([[-0.1304, -0.1244]], grad_fn=<AddmmBackward0>)"
      ]
     },
     "execution_count": 22,
     "metadata": {},
     "output_type": "execute_result"
    }
   ],
   "source": [
    "model(img.unsqueeze(0))"
   ]
  },
  {
   "cell_type": "markdown",
   "id": "99d59357-be95-4963-b674-6909a500c32b",
   "metadata": {},
   "source": [
    "## Model Training"
   ]
  },
  {
   "cell_type": "code",
   "execution_count": 23,
   "id": "84fff2a5-1149-414d-a03e-1cf673f6f616",
   "metadata": {
    "execution": {
     "iopub.execute_input": "2024-08-21T15:45:43.142906Z",
     "iopub.status.busy": "2024-08-21T15:45:43.142303Z",
     "iopub.status.idle": "2024-08-21T15:45:43.147095Z",
     "shell.execute_reply": "2024-08-21T15:45:43.146545Z",
     "shell.execute_reply.started": "2024-08-21T15:45:43.142882Z"
    }
   },
   "outputs": [],
   "source": [
    "def train(n_epochs, model, optimizer, loss_fn, train_loader):\n",
    "    for epoch in range(1, n_epochs + 1):\n",
    "        training_loss = 0.0\n",
    "\n",
    "        for inputs, targets in train_loader:\n",
    "            outputs = model(inputs)\n",
    "            loss = loss_fn(outputs, targets)\n",
    "\n",
    "            optimizer.zero_grad()\n",
    "            loss.backward()\n",
    "            optimizer.step()\n",
    "\n",
    "            training_loss += loss.item()\n",
    "\n",
    "        if epoch == 1 or epoch % 10 == 0:\n",
    "            average_loss = training_loss / len(train_loader)\n",
    "            print(f\"{datetime.datetime.now()} Epoch: {epoch}, Training loss: {average_loss:.4f}\")"
   ]
  },
  {
   "cell_type": "code",
   "execution_count": 24,
   "id": "d188d050-a0a8-434b-a0c7-0313b380e022",
   "metadata": {
    "execution": {
     "iopub.execute_input": "2024-08-21T15:45:43.519843Z",
     "iopub.status.busy": "2024-08-21T15:45:43.519412Z",
     "iopub.status.idle": "2024-08-21T15:45:43.523170Z",
     "shell.execute_reply": "2024-08-21T15:45:43.522409Z",
     "shell.execute_reply.started": "2024-08-21T15:45:43.519824Z"
    }
   },
   "outputs": [],
   "source": [
    "train_loader = DataLoader(cifar2, batch_size=64, shuffle=True)"
   ]
  },
  {
   "cell_type": "code",
   "execution_count": 25,
   "id": "b8daccec-33a6-46d3-b0d5-8dbe06427ad3",
   "metadata": {
    "execution": {
     "iopub.execute_input": "2024-08-21T15:45:44.001943Z",
     "iopub.status.busy": "2024-08-21T15:45:44.001520Z",
     "iopub.status.idle": "2024-08-21T15:45:44.006423Z",
     "shell.execute_reply": "2024-08-21T15:45:44.005944Z",
     "shell.execute_reply.started": "2024-08-21T15:45:44.001923Z"
    }
   },
   "outputs": [],
   "source": [
    "model = Net()\n",
    "optimizer = optim.SGD(model.parameters(), lr=1e-2)\n",
    "loss_fn = nn.CrossEntropyLoss()"
   ]
  },
  {
   "cell_type": "code",
   "execution_count": 26,
   "id": "79ecef7e-f382-4dc8-a3ea-63cc8060ffb4",
   "metadata": {
    "execution": {
     "iopub.execute_input": "2024-08-21T15:45:58.794833Z",
     "iopub.status.busy": "2024-08-21T15:45:58.794515Z",
     "iopub.status.idle": "2024-08-21T15:47:01.180414Z",
     "shell.execute_reply": "2024-08-21T15:47:01.180024Z",
     "shell.execute_reply.started": "2024-08-21T15:45:58.794818Z"
    }
   },
   "outputs": [
    {
     "name": "stdout",
     "output_type": "stream",
     "text": [
      "2024-08-21 20:45:59.719009 Epoch: 1, Training loss: 0.5469\n",
      "2024-08-21 20:46:05.244161 Epoch: 10, Training loss: 0.3326\n",
      "2024-08-21 20:46:11.180636 Epoch: 20, Training loss: 0.2959\n",
      "2024-08-21 20:46:17.180058 Epoch: 30, Training loss: 0.2696\n",
      "2024-08-21 20:46:23.073631 Epoch: 40, Training loss: 0.2474\n",
      "2024-08-21 20:46:29.025723 Epoch: 50, Training loss: 0.2332\n",
      "2024-08-21 20:46:34.943090 Epoch: 60, Training loss: 0.2134\n",
      "2024-08-21 20:46:40.842697 Epoch: 70, Training loss: 0.2004\n",
      "2024-08-21 20:46:46.741630 Epoch: 80, Training loss: 0.1846\n",
      "2024-08-21 20:46:53.722438 Epoch: 90, Training loss: 0.1724\n",
      "2024-08-21 20:47:01.178831 Epoch: 100, Training loss: 0.1586\n"
     ]
    }
   ],
   "source": [
    "train(\n",
    "    n_epochs=100,\n",
    "    model=model,\n",
    "    optimizer=optimizer,\n",
    "    loss_fn=loss_fn,\n",
    "    train_loader=train_loader,\n",
    ")"
   ]
  },
  {
   "cell_type": "markdown",
   "id": "468ee6b8-2641-410c-885e-8155dd61b972",
   "metadata": {},
   "source": [
    "## Measuring Accuracy"
   ]
  },
  {
   "cell_type": "code",
   "execution_count": 32,
   "id": "738a668d-6112-4de2-8494-146f4d090fa3",
   "metadata": {},
   "outputs": [],
   "source": [
    "train_loader = DataLoader(cifar2, batch_size=64, shuffle=False)\n",
    "val_loader = DataLoader(cifar2_val, batch_size=64, shuffle=False)"
   ]
  },
  {
   "cell_type": "code",
   "execution_count": 34,
   "id": "5e101046-e663-4fe1-a2f6-435649ec296d",
   "metadata": {},
   "outputs": [],
   "source": [
    "def validate(model, train_loader, val_loader):\n",
    "    for name, loader in [(\"Training\", train_loader), (\"Validation\", val_loader)]:\n",
    "        correct = 0\n",
    "        total = 0\n",
    "\n",
    "        with torch.no_grad():\n",
    "            for inputs, targets in loader:\n",
    "                outputs = model(inputs)\n",
    "                _, predictions = torch.max(outputs, dim=1)\n",
    "                total += targets.shape[0]\n",
    "                correct += int((predictions == targets).sum())\n",
    "\n",
    "        accuracy = (correct / total) * 100\n",
    "        print(f\"{name} accuracy: {accuracy:.2f}%\")"
   ]
  },
  {
   "cell_type": "code",
   "execution_count": 35,
   "id": "86f31a9f-80cc-423c-8c59-a747f39f9dc2",
   "metadata": {},
   "outputs": [
    {
     "name": "stdout",
     "output_type": "stream",
     "text": [
      "Training accuracy: 92.99%\n",
      "Validation accuracy: 90.05%\n"
     ]
    }
   ],
   "source": [
    "validate(model, train_loader, val_loader)"
   ]
  },
  {
   "cell_type": "markdown",
   "id": "bca0d398-5451-49d8-9043-2ea847f58772",
   "metadata": {},
   "source": [
    "## Saving Model"
   ]
  },
  {
   "cell_type": "code",
   "execution_count": 36,
   "id": "c337604e-ee5d-44f4-b3d1-b7b3fb0e111d",
   "metadata": {},
   "outputs": [],
   "source": [
    "torch.save(model.state_dict(), \"data/cifar2.pt\")"
   ]
  },
  {
   "cell_type": "code",
   "execution_count": 37,
   "id": "2b614c5f-90a8-494b-8ea3-255d5ed8003d",
   "metadata": {},
   "outputs": [
    {
     "data": {
      "text/plain": [
       "<All keys matched successfully>"
      ]
     },
     "execution_count": 37,
     "metadata": {},
     "output_type": "execute_result"
    }
   ],
   "source": [
    "loaded_model = Net()\n",
    "loaded_model.load_state_dict(torch.load(\"data/cifar2.pt\"))"
   ]
  },
  {
   "cell_type": "markdown",
   "id": "41eda488-96ec-4216-ba36-0a3a51a9eeb5",
   "metadata": {},
   "source": [
    "## Training on GPU"
   ]
  },
  {
   "cell_type": "code",
   "execution_count": 38,
   "id": "5e5b179f-6c16-46f8-afc5-7d355397d518",
   "metadata": {},
   "outputs": [
    {
     "name": "stdout",
     "output_type": "stream",
     "text": [
      "Training on device: cpu\n"
     ]
    }
   ],
   "source": [
    "device = (torch.device(\"cuda\") if torch.cuda.is_available() else torch.device(\"cpu\"))\n",
    "print(f\"Training on device: {device}\")"
   ]
  },
  {
   "cell_type": "code",
   "execution_count": 39,
   "id": "2c920930-cd17-4d26-9b72-3556e258bc4c",
   "metadata": {},
   "outputs": [],
   "source": [
    "def train(n_epochs, model, optimizer, loss_fn, train_loader):\n",
    "    for epoch in range(1, n_epochs + 1):\n",
    "        training_loss = 0.0\n",
    "\n",
    "        for inputs, targets in train_loader:\n",
    "            inputs = inputs.to(device=device)\n",
    "            targets = targets.to(device=device)\n",
    "            \n",
    "            outputs = model(inputs)\n",
    "            loss = loss_fn(outputs, targets)\n",
    "\n",
    "            optimizer.zero_grad()\n",
    "            loss.backward()\n",
    "            optimizer.step()\n",
    "\n",
    "            training_loss += loss.item()\n",
    "\n",
    "        if epoch == 1 or epoch % 10 == 0:\n",
    "            average_loss = training_loss / len(train_loader)\n",
    "            print(f\"{datetime.datetime.now()} Epoch: {epoch}, Training loss: {average_loss:.4f}\")"
   ]
  },
  {
   "cell_type": "code",
   "execution_count": 40,
   "id": "2264ee3c-c615-4359-97dc-4d859780a4d4",
   "metadata": {},
   "outputs": [],
   "source": [
    "train_loader = DataLoader(cifar2, batch_size=64, shuffle=True)"
   ]
  },
  {
   "cell_type": "code",
   "execution_count": 41,
   "id": "826eab88-a95a-4635-a2d8-76edefebdbb8",
   "metadata": {},
   "outputs": [],
   "source": [
    "model = Net().to(device=device)\n",
    "optimizer = optim.SGD(model.parameters(), lr=1e-2)\n",
    "loss_fn = nn.CrossEntropyLoss()"
   ]
  },
  {
   "cell_type": "code",
   "execution_count": 42,
   "id": "7fbab901-0641-4f5d-97d2-1f63cb22f4ee",
   "metadata": {},
   "outputs": [
    {
     "name": "stdout",
     "output_type": "stream",
     "text": [
      "2024-07-25 19:33:02.293235 Epoch: 1, Training loss: 0.5928\n",
      "2024-07-25 19:33:30.655568 Epoch: 10, Training loss: 0.3448\n",
      "2024-07-25 19:34:01.214162 Epoch: 20, Training loss: 0.2998\n",
      "2024-07-25 19:34:36.560403 Epoch: 30, Training loss: 0.2732\n",
      "2024-07-25 19:35:06.156348 Epoch: 40, Training loss: 0.2471\n",
      "2024-07-25 19:35:36.708380 Epoch: 50, Training loss: 0.2248\n",
      "2024-07-25 19:36:05.614502 Epoch: 60, Training loss: 0.2058\n",
      "2024-07-25 19:36:36.083663 Epoch: 70, Training loss: 0.1932\n",
      "2024-07-25 19:37:06.675339 Epoch: 80, Training loss: 0.1781\n",
      "2024-07-25 19:37:43.329905 Epoch: 90, Training loss: 0.1648\n",
      "2024-07-25 19:38:18.340637 Epoch: 100, Training loss: 0.1523\n"
     ]
    }
   ],
   "source": [
    "train(\n",
    "    n_epochs=100,\n",
    "    model=model,\n",
    "    optimizer=optimizer,\n",
    "    loss_fn=loss_fn,\n",
    "    train_loader=train_loader,\n",
    ")"
   ]
  },
  {
   "cell_type": "code",
   "execution_count": 49,
   "id": "3cfd7716-3e78-43be-8ad5-8301839ddbf8",
   "metadata": {},
   "outputs": [],
   "source": [
    "train_loader = DataLoader(cifar2, batch_size=64, shuffle=False)\n",
    "val_loader = DataLoader(cifar2_val, batch_size=64, shuffle=False)"
   ]
  },
  {
   "cell_type": "code",
   "execution_count": 50,
   "id": "5a1722fa-6bdd-4f3f-9605-fd6275d25400",
   "metadata": {},
   "outputs": [],
   "source": [
    "def validate(model, train_loader, val_loader):\n",
    "    for name, loader in [(\"Training\", train_loader), (\"Validation\", val_loader)]:\n",
    "        correct = 0\n",
    "        total = 0\n",
    "\n",
    "        with torch.no_grad():\n",
    "            for inputs, targets in loader:\n",
    "                inputs = inputs.to(device)\n",
    "                targets = targets.to(device)\n",
    "\n",
    "                outputs = model(inputs)\n",
    "                _, predictions = torch.max(outputs, dim=1)\n",
    "                total += targets.shape[0]\n",
    "                correct += int((predictions == targets).sum())\n",
    "\n",
    "        accuracy = (correct / total) * 100\n",
    "        print(f\"{name} accuracy: {accuracy:.2f}%\")"
   ]
  },
  {
   "cell_type": "code",
   "execution_count": 51,
   "id": "96cca64d-995a-4db5-9aca-0c753318ff4b",
   "metadata": {},
   "outputs": [
    {
     "name": "stdout",
     "output_type": "stream",
     "text": [
      "Training accuracy: 83.82%\n",
      "Validation accuracy: 80.75%\n"
     ]
    }
   ],
   "source": [
    "validate(model, train_loader, val_loader)"
   ]
  },
  {
   "cell_type": "code",
   "execution_count": 47,
   "id": "faaf76a7-8cea-4920-a59d-cd7d4bea91a0",
   "metadata": {},
   "outputs": [],
   "source": [
    "torch.save(model.state_dict(), \"data/cifar2.pt\")"
   ]
  },
  {
   "cell_type": "code",
   "execution_count": 48,
   "id": "2a8c35d8-5947-4a40-96ad-e169819040ff",
   "metadata": {},
   "outputs": [
    {
     "data": {
      "text/plain": [
       "<All keys matched successfully>"
      ]
     },
     "execution_count": 48,
     "metadata": {},
     "output_type": "execute_result"
    }
   ],
   "source": [
    "loaded_model = Net().to(device=device)\n",
    "loaded_model.load_state_dict(torch.load(\"data/cifar2.pt\", map_location=device))"
   ]
  },
  {
   "cell_type": "markdown",
   "id": "75e51ec2-4c2f-464e-a1ad-42c64089daf0",
   "metadata": {},
   "source": [
    "## Wider Network"
   ]
  },
  {
   "cell_type": "code",
   "execution_count": 52,
   "id": "9ca516f6-4a6d-4a1c-956d-84d9e0af8db8",
   "metadata": {},
   "outputs": [],
   "source": [
    "class NetWidth(nn.Module):\n",
    "    def __init__(self, n_channels1=32):\n",
    "        super().__init__()\n",
    "        self.n_channels1 = n_channels1\n",
    "        self.conv1 = nn.Conv2d(3, n_channels1, kernel_size=3, padding=1)\n",
    "        self.conv2 = nn.Conv2d(n_channels1, n_channels1 // 2, kernel_size=3, padding=1)\n",
    "        self.fc1 = nn.Linear(8 * 8 * n_channels1 // 2, 32)\n",
    "        self.fc2 = nn.Linear(32, 2)\n",
    "\n",
    "    def forward(self, x):\n",
    "        out = F.max_pool2d(torch.tanh(self.conv1(x)), 2)\n",
    "        out = F.max_pool2d(torch.tanh(self.conv2(out)), 2)\n",
    "        out = out.view(-1, 8 * 8 * self.n_channels1 // 2)\n",
    "        out = torch.tanh(self.fc1(out))\n",
    "        out = self.fc2(out)\n",
    "        return out"
   ]
  },
  {
   "cell_type": "code",
   "execution_count": 54,
   "id": "68e7ddc8-51fb-4f94-a53a-bcbc62a9d200",
   "metadata": {},
   "outputs": [
    {
     "data": {
      "text/plain": [
       "38386"
      ]
     },
     "execution_count": 54,
     "metadata": {},
     "output_type": "execute_result"
    }
   ],
   "source": [
    "model = NetWidth()\n",
    "\n",
    "sum(p.numel() for p in model.parameters())"
   ]
  },
  {
   "cell_type": "markdown",
   "id": "ac0757b1-6e16-4023-a168-561c7c1102c4",
   "metadata": {},
   "source": [
    "## Weight Decay"
   ]
  },
  {
   "cell_type": "code",
   "execution_count": 55,
   "id": "7001d568-5de6-49ad-b7b8-f97b8fc41e00",
   "metadata": {},
   "outputs": [
    {
     "name": "stdout",
     "output_type": "stream",
     "text": [
      "Device: cpu\n"
     ]
    }
   ],
   "source": [
    "device = torch.device(\"cuda\" if torch.cuda.is_available() else \"cpu\")\n",
    "print(f\"Device: {device}\")"
   ]
  },
  {
   "cell_type": "code",
   "execution_count": 56,
   "id": "b3c53126-ff12-417a-9f30-1c9a53a179f1",
   "metadata": {},
   "outputs": [],
   "source": [
    "def training_with_weight_decay(n_epochs, model, optimizer, loss_fn, train_loader):\n",
    "    for epoch in range(1, n_epochs + 1):\n",
    "        training_loss = 0.0\n",
    "\n",
    "        for inputs, targets in train_loader:\n",
    "            inputs.to(device)\n",
    "            targets.to(device)\n",
    "\n",
    "            outputs = model(inputs)\n",
    "            loss = loss_fn(outputs, targets)\n",
    "\n",
    "            alpha = 1e-3\n",
    "            # l1_norm = sum(p.abs().sum() for p in model.parameters())\n",
    "            l2_norm = sum(p.pow(2.0).sum() for p in model.parameters())\n",
    "            loss = loss + alpha * l2_norm\n",
    "\n",
    "            optimizer.zero_grad()\n",
    "            loss.backward()\n",
    "            optimizer.step()\n",
    "\n",
    "            training_loss += loss.item()\n",
    "\n",
    "        if epoch == 1 or epoch % 10 == 0:\n",
    "            average_loss = training_loss / len(train_loader)\n",
    "            print(f\"{datetime.datetime.now()} Epoch: {epoch}, Training loss: {average_loss:.4f}\")"
   ]
  },
  {
   "cell_type": "code",
   "execution_count": 57,
   "id": "5cc7141b-bf64-4728-a57c-2ea8538b245a",
   "metadata": {},
   "outputs": [
    {
     "name": "stdout",
     "output_type": "stream",
     "text": [
      "2024-07-25 21:37:49.948335 Epoch: 1, Training loss: 0.4246\n",
      "2024-07-25 21:38:18.805210 Epoch: 10, Training loss: 0.3421\n"
     ]
    }
   ],
   "source": [
    "train_loader = DataLoader(cifar2, batch_size=64, shuffle=True)\n",
    "\n",
    "model = Net().to(device)\n",
    "optimizer = optim.Adam(model.parameters(), lr=1e-2)\n",
    "loss_fn = nn.CrossEntropyLoss()\n",
    "\n",
    "train(10, model, optimizer, loss_fn, train_loader)"
   ]
  },
  {
   "cell_type": "code",
   "execution_count": 58,
   "id": "9e1c2e2a-147b-4778-aa71-125615491174",
   "metadata": {},
   "outputs": [],
   "source": [
    "def training_with_builtin_weight_decay(n_epochs, model, optimizer, loss_fn, train_loader):\n",
    "     for epoch in range(1, n_epochs + 1):\n",
    "        training_loss = 0.0\n",
    "\n",
    "        for inputs, targets in train_loader:\n",
    "            inputs.to(device)\n",
    "            targets.to(device)\n",
    "\n",
    "            outputs = model(inputs)\n",
    "            loss = loss_fn(outputs, targets)\n",
    "\n",
    "            optimizer.zero_grad()\n",
    "            loss.backward()\n",
    "            optimizer.step()\n",
    "\n",
    "            training_loss += loss.item()\n",
    "\n",
    "        if epoch == 1 or epoch % 10 == 0:\n",
    "            average_loss = training_loss / len(train_loader)\n",
    "            print(f\"{datetime.datetime.now()} Epoch: {epoch}, Training loss: {average_loss:.4f}\")"
   ]
  },
  {
   "cell_type": "code",
   "execution_count": 59,
   "id": "6b9da975-e8c7-4fb2-99a7-4a6ae21ab760",
   "metadata": {},
   "outputs": [
    {
     "name": "stdout",
     "output_type": "stream",
     "text": [
      "2024-07-25 21:42:55.403503 Epoch: 1, Training loss: 0.6771\n",
      "2024-07-25 21:43:30.143541 Epoch: 10, Training loss: 0.5734\n"
     ]
    }
   ],
   "source": [
    "train_loader = DataLoader(cifar2, batch_size=64, shuffle=True)\n",
    "\n",
    "model = Net().to(device)\n",
    "optimizer = optim.SGD(model.parameters(), lr=1e-2, weight_decay=0.5)\n",
    "loss_fn = nn.CrossEntropyLoss()\n",
    "\n",
    "train(10, model, optimizer, loss_fn, train_loader)"
   ]
  },
  {
   "cell_type": "markdown",
   "id": "38a6d4b4-f205-447b-873e-d5178b6c2970",
   "metadata": {},
   "source": [
    "## Dropout"
   ]
  },
  {
   "cell_type": "code",
   "execution_count": 60,
   "id": "c7e5fdfd-dacd-4d87-879c-0df6e037d942",
   "metadata": {},
   "outputs": [],
   "source": [
    "class NetDropout(nn.Module):\n",
    "    def __init__(self, n_channels1=32):\n",
    "        super().__init__()\n",
    "        self.n_channels1 = n_channels1\n",
    "        self.conv1 = nn.Conv2d(3, n_channels1, kernel_size=3, padding=1)\n",
    "        self.conv1_dropout = nn.Dropout2d(p=0.4)\n",
    "        self.conv2 = nn.Conv2d(n_channels1, n_channels1 // 2, kernel_size=3, padding=1)\n",
    "        self.conv2_dropout = nn.Dropout2d(p=0.4)\n",
    "        self.fc1 = nn.Linear(8 * 8 * n_channels1 // 2, 32)\n",
    "        self.fc2 = nn.Linear(32, 2)\n",
    "\n",
    "    def forward(self, x):\n",
    "        out = F.max_pool2d(torch.tanh(self.conv1(x)), 2)\n",
    "        out = self.conv1_dropout(out)\n",
    "        out = F.max_pool2d(torch.tanh(self.conv2(out)), 2)\n",
    "        out = self.conv2_dropout(out)\n",
    "        out = out.view(-1, 8 * 8 * self.n_channels1 // 2)\n",
    "        out = torch.tanh(self.fc1(out))\n",
    "        out = self.fc2(out)\n",
    "        return out"
   ]
  },
  {
   "cell_type": "code",
   "execution_count": 61,
   "id": "3c6bd188-ab46-4bde-add8-225307010439",
   "metadata": {},
   "outputs": [
    {
     "name": "stdout",
     "output_type": "stream",
     "text": [
      "2024-07-25 21:49:08.333949 Epoch: 1, Training loss: 0.5706\n",
      "2024-07-25 21:49:34.377883 Epoch: 10, Training loss: 0.3271\n"
     ]
    }
   ],
   "source": [
    "train_loader = DataLoader(cifar2, batch_size=64, shuffle=True)\n",
    "\n",
    "model = Net().to(device)\n",
    "optimizer = optim.SGD(model.parameters(), lr=1e-2)\n",
    "loss_fn = nn.CrossEntropyLoss()\n",
    "\n",
    "model.train()\n",
    "\n",
    "train(10, model, optimizer, loss_fn, train_loader)"
   ]
  },
  {
   "cell_type": "markdown",
   "id": "b06c86b2-a854-41b2-b223-3299c20a93a6",
   "metadata": {},
   "source": [
    "## Batch Normalization"
   ]
  },
  {
   "cell_type": "code",
   "execution_count": 70,
   "id": "ef86eb67-169f-4a50-b6e4-4f8daf2f037e",
   "metadata": {},
   "outputs": [],
   "source": [
    "class NetBatchNorm(nn.Module):\n",
    "    def __init__(self, n_channels1=32):\n",
    "        super().__init__()\n",
    "        self.n_channels1 = n_channels1\n",
    "        self.conv1 = nn.Conv2d(3, n_channels1, kernel_size=3, padding=1)\n",
    "        self.conv1_batchnorm = nn.BatchNorm2d(num_features=n_channels1)\n",
    "        self.conv2 = nn.Conv2d(n_channels1, n_channels1 // 2, kernel_size=3, padding=1)\n",
    "        self.conv2_batchnorm = nn.BatchNorm2d(num_features=n_channels // 2)\n",
    "        self.fc1 = nn.Linear(8 * 8 * n_channels1 // 2, 32)\n",
    "        self.fc2 = nn.Linear(32, 2)\n",
    "\n",
    "    def forward(self, x):\n",
    "        out = self.conv1_batchnorm(self.conv1(x))\n",
    "        out = F.max_pool2d(torch.tanh(out), 2)\n",
    "        out = self.conv2_batchnorm(self.conv2(out))\n",
    "        out = F.max_pool2d(torch.tanh(out), 2)\n",
    "        out = out.view(-1, 8 * 8 * self.n_channels1 // 2)\n",
    "        out = torch.tanh(self.fc1(out))\n",
    "        out = self.fc2(out)\n",
    "        return out"
   ]
  },
  {
   "cell_type": "code",
   "execution_count": 71,
   "id": "c94d2dd4-a868-4c8a-9e15-97e68c2bdee6",
   "metadata": {},
   "outputs": [
    {
     "name": "stdout",
     "output_type": "stream",
     "text": [
      "2024-07-25 22:03:35.108039 Epoch: 1, Training loss: 0.5871\n",
      "2024-07-25 22:04:01.659310 Epoch: 10, Training loss: 0.3318\n"
     ]
    }
   ],
   "source": [
    "train_loader = DataLoader(cifar2, batch_size=64, shuffle=True)\n",
    "\n",
    "model = Net().to(device)\n",
    "optimizer = optim.SGD(model.parameters(), lr=1e-2)\n",
    "loss_fn = nn.CrossEntropyLoss()\n",
    "\n",
    "model.train()\n",
    "\n",
    "train(10, model, optimizer, loss_fn, train_loader)"
   ]
  },
  {
   "cell_type": "markdown",
   "id": "20129bb9-6e01-4c13-9b31-84fcdb4a6f3b",
   "metadata": {},
   "source": [
    "## Deeper Networks"
   ]
  },
  {
   "cell_type": "code",
   "execution_count": 72,
   "id": "53afe505-a1d5-4717-9b6c-b81267df2b62",
   "metadata": {},
   "outputs": [],
   "source": [
    "class NetDepth(nn.Module):\n",
    "    def __init__(self, n_channels1=32):\n",
    "        super().__init__()\n",
    "        self.n_channels1 = n_channels1\n",
    "        self.conv1 = nn.Conv2d(3, n_channels1, kernel_size=3, padding=1)\n",
    "        self.conv2 = nn.Conv2d(n_channels1, n_channels1 // 2, kernel_size=3, padding=1)\n",
    "        self.conv3 = nn.Conv2d(n_channels1 // 2, n_channels1 // 2, kernel_size=3, padding=1)\n",
    "        self.fc1 = nn.Linear(4 * 4 * n_channels1 // 2, 32)\n",
    "        self.fc2 = nn.Linear(32, 2)\n",
    "\n",
    "    def forward(self, x):\n",
    "        out = F.max_pool2d(torch.relu(self.conv1(x)), 2)\n",
    "        out = F.max_pool2d(torch.relu(self.conv2(out)), 2)\n",
    "        out = F.max_pool2d(torch.relu(self.conv3(out)), 2)\n",
    "        out = out.view(-1, 4 * 4 * self.n_channels1 // 2)\n",
    "        out = torch.relu(self.fc1(out))\n",
    "        out = self.fc2(out)\n",
    "        return out"
   ]
  },
  {
   "cell_type": "markdown",
   "id": "3254d49a-4720-48a6-b688-c4ebb26d61aa",
   "metadata": {},
   "source": [
    "## Skip Connections"
   ]
  },
  {
   "cell_type": "code",
   "execution_count": 73,
   "id": "70c4282c-3622-4113-971a-22574abaca45",
   "metadata": {},
   "outputs": [],
   "source": [
    "class NetRes(nn.Module):\n",
    "    def __init__(self, n_channels1=32):\n",
    "        super().__init__()\n",
    "        self.n_channels1 = n_channels1\n",
    "        self.conv1 = nn.Conv2d(3, n_channels1, kernel_size=3, padding=1)\n",
    "        self.conv2 = nn.Conv2d(n_channels1, n_channels1 // 2, kernel_size=3, padding=1)\n",
    "        self.conv3 = nn.Conv2d(n_channels1 // 2, n_channels1 // 2, kernel_size=3, padding=1)\n",
    "        self.fc1 = nn.Linear(4 * 4 * n_channels1 // 2, 32)\n",
    "        self.fc2 = nn.Linear(32, 2)\n",
    "\n",
    "    def forward(self, x):\n",
    "        out = F.max_pool2d(torch.relu(self.conv1(x)), 2)\n",
    "        out = F.max_pool2d(torch.relu(self.conv2(out)), 2)\n",
    "        out1 = out\n",
    "        out = F.max_pool2d(torch.relu(self.conv3(out)) + out1, 2)\n",
    "        out = out.view(-1, 4 * 4 * self.n_channels1 // 2)\n",
    "        out = torch.relu(self.fc1(out))\n",
    "        out = self.fc2(out)\n",
    "        return out"
   ]
  },
  {
   "cell_type": "markdown",
   "id": "25ec71b6-869d-4b25-8cf4-90ec02525f06",
   "metadata": {},
   "source": [
    "## Very Deep Networks"
   ]
  },
  {
   "cell_type": "code",
   "execution_count": 7,
   "id": "c2f755c8-f597-4349-8741-259b0e3f1178",
   "metadata": {
    "execution": {
     "iopub.execute_input": "2024-07-25T18:30:28.361591Z",
     "iopub.status.busy": "2024-07-25T18:30:28.361325Z",
     "iopub.status.idle": "2024-07-25T18:30:28.366855Z",
     "shell.execute_reply": "2024-07-25T18:30:28.366166Z",
     "shell.execute_reply.started": "2024-07-25T18:30:28.361571Z"
    }
   },
   "outputs": [],
   "source": [
    "class ResBlock(nn.Module):\n",
    "    def __init__(self, n_channels):\n",
    "        super().__init__()\n",
    "        self.conv = nn.Conv2d(n_channels, n_channels, kernel_size=3, padding=1, bias=False)\n",
    "        self.batch_norm = nn.BatchNorm2d(num_features=n_channels)\n",
    "        nn.init.kaiming_normal_(self.conv.weight, nonlinearity=\"relu\")\n",
    "        nn.init.constant_(self.batch_norm.weight, 0.5)\n",
    "        nn.init.zeros_(self.batch_norm.bias)\n",
    "\n",
    "    def forward(self, x):\n",
    "        out = self.conv(x)\n",
    "        out = self.batch_norm(out)\n",
    "        out = torch.relu(out)\n",
    "        return out + x"
   ]
  },
  {
   "cell_type": "code",
   "execution_count": 8,
   "id": "898f7e14-c7bc-4032-a6e9-77a0abd5a71a",
   "metadata": {
    "execution": {
     "iopub.execute_input": "2024-07-25T18:30:28.589275Z",
     "iopub.status.busy": "2024-07-25T18:30:28.588942Z",
     "iopub.status.idle": "2024-07-25T18:30:28.595476Z",
     "shell.execute_reply": "2024-07-25T18:30:28.594700Z",
     "shell.execute_reply.started": "2024-07-25T18:30:28.589250Z"
    }
   },
   "outputs": [],
   "source": [
    "class NetResDeep(nn.Module):\n",
    "    def __init__(self, n_channels1=32, n_blocks=10):\n",
    "        super().__init__()\n",
    "        self.n_channels1 = n_channels1\n",
    "        self.conv1 = nn.Conv2d(3, n_channels1, kernel_size=3, padding=1)\n",
    "        self.resblocks = nn.Sequential(\n",
    "            *(n_blocks * [ResBlock(n_channels=n_channels1)])\n",
    "        )\n",
    "        self.fc1 = nn.Linear(8 * 8 * n_channels1, 32)\n",
    "        self.fc2 = nn.Linear(32, 2)\n",
    "\n",
    "    def forward(self, x):\n",
    "        out = F.max_pool2d(torch.relu(self.conv1(x)), 2)\n",
    "        out = self.resblocks(out)\n",
    "        out = F.max_pool2d(out, 2)\n",
    "        out = out.view(-1, 8 * 8 * self.n_channels1)\n",
    "        out = torch.relu(self.fc1(out))\n",
    "        out = self.fc2(out)\n",
    "        return out"
   ]
  },
  {
   "cell_type": "code",
   "execution_count": 11,
   "id": "3aec658f-780f-4c16-9507-8c6d1bc129cc",
   "metadata": {
    "execution": {
     "iopub.execute_input": "2024-07-25T18:31:46.230747Z",
     "iopub.status.busy": "2024-07-25T18:31:46.230274Z",
     "iopub.status.idle": "2024-07-25T18:31:46.303931Z",
     "shell.execute_reply": "2024-07-25T18:31:46.303285Z",
     "shell.execute_reply.started": "2024-07-25T18:31:46.230711Z"
    }
   },
   "outputs": [
    {
     "name": "stdout",
     "output_type": "stream",
     "text": [
      "Device: cpu\n"
     ]
    }
   ],
   "source": [
    "device = torch.device(\"cuda\" if torch.cuda.is_available() else \"cpu\")\n",
    "print(f\"Device: {device}\")"
   ]
  },
  {
   "cell_type": "code",
   "execution_count": 12,
   "id": "16e2a8c8-4f09-44d9-b68c-bb18b8e92def",
   "metadata": {
    "execution": {
     "iopub.execute_input": "2024-07-25T18:32:23.373865Z",
     "iopub.status.busy": "2024-07-25T18:32:23.372875Z",
     "iopub.status.idle": "2024-07-25T18:32:23.382626Z",
     "shell.execute_reply": "2024-07-25T18:32:23.380594Z",
     "shell.execute_reply.started": "2024-07-25T18:32:23.373816Z"
    }
   },
   "outputs": [],
   "source": [
    "def train(n_epochs, model, optimizer, loss_fn, train_loader):\n",
    "    for epoch in range(1, n_epochs + 1):\n",
    "        training_loss = 0.0\n",
    "\n",
    "        for inputs, targets in train_loader:\n",
    "            inputs.to(device)\n",
    "            targets.to(device)\n",
    "\n",
    "            outputs = model(inputs)\n",
    "            loss = loss_fn(outputs, targets)\n",
    "\n",
    "            optimizer.zero_grad()\n",
    "            loss.backward()\n",
    "            optimizer.step()\n",
    "\n",
    "            training_loss += loss.item()\n",
    "\n",
    "        if epoch == 1 or epoch % 10 == 0:\n",
    "            average_loss = training_loss / len(train_loader)\n",
    "            print(f\"{datetime.datetime.now()} Epoch: {epoch}, Training loss: {average_loss:.4f}\")"
   ]
  },
  {
   "cell_type": "code",
   "execution_count": 13,
   "id": "e59327e1-80db-4e62-b877-cd640edcde6c",
   "metadata": {
    "execution": {
     "iopub.execute_input": "2024-07-25T18:32:38.014862Z",
     "iopub.status.busy": "2024-07-25T18:32:38.013990Z",
     "iopub.status.idle": "2024-07-25T18:37:42.824579Z",
     "shell.execute_reply": "2024-07-25T18:37:42.807635Z",
     "shell.execute_reply.started": "2024-07-25T18:32:38.014824Z"
    }
   },
   "outputs": [
    {
     "name": "stdout",
     "output_type": "stream",
     "text": [
      "2024-07-25 23:33:11.706744 Epoch: 1, Training loss: 0.5020\n",
      "2024-07-25 23:37:42.805976 Epoch: 10, Training loss: 0.2529\n"
     ]
    }
   ],
   "source": [
    "train_loader = DataLoader(cifar2, batch_size=64, shuffle=True)\n",
    "\n",
    "model = NetResDeep().to(device)\n",
    "optimizer = optim.SGD(model.parameters(), lr=3e-3)\n",
    "loss_fn = nn.CrossEntropyLoss()\n",
    "\n",
    "model.train()\n",
    "\n",
    "train(10, model, optimizer, loss_fn, train_loader)"
   ]
  },
  {
   "cell_type": "code",
   "execution_count": 14,
   "id": "9101da6c-f90a-4a4d-8a86-3c00d7d4bbd5",
   "metadata": {
    "execution": {
     "iopub.execute_input": "2024-07-25T18:37:42.825769Z",
     "iopub.status.busy": "2024-07-25T18:37:42.825558Z",
     "iopub.status.idle": "2024-07-25T18:37:42.844497Z",
     "shell.execute_reply": "2024-07-25T18:37:42.843941Z",
     "shell.execute_reply.started": "2024-07-25T18:37:42.825751Z"
    }
   },
   "outputs": [],
   "source": [
    "def validate(model, train_loader, val_loader):\n",
    "    for name, loader in [(\"Training\", train_loader), (\"Validation\", val_loader)]:\n",
    "        correct = 0\n",
    "        total = 0\n",
    "\n",
    "        with torch.no_grad():\n",
    "            for inputs, targets in loader:\n",
    "                inputs = inputs.to(device)\n",
    "                targets = targets.to(device)\n",
    "\n",
    "                outputs = model(inputs)\n",
    "                _, predictions = torch.max(outputs, dim=1)\n",
    "                total += targets.shape[0]\n",
    "                correct += int((predictions == targets).sum())\n",
    "\n",
    "        accuracy = (correct / total) * 100\n",
    "        print(f\"{name} accuracy: {accuracy:.2f}%\")"
   ]
  },
  {
   "cell_type": "code",
   "execution_count": 16,
   "id": "2583479f-a347-4a79-9df0-fc18603bfa39",
   "metadata": {
    "execution": {
     "iopub.execute_input": "2024-07-25T18:42:26.094661Z",
     "iopub.status.busy": "2024-07-25T18:42:26.094242Z",
     "iopub.status.idle": "2024-07-25T18:42:26.099452Z",
     "shell.execute_reply": "2024-07-25T18:42:26.098359Z",
     "shell.execute_reply.started": "2024-07-25T18:42:26.094638Z"
    }
   },
   "outputs": [],
   "source": [
    "train_loader = DataLoader(cifar2, batch_size=64, shuffle=False)\n",
    "val_loader = DataLoader(cifar2_val, batch_size=64, shuffle=False)"
   ]
  },
  {
   "cell_type": "code",
   "execution_count": 17,
   "id": "2a5e1371-c51a-40a2-8a8e-b3ef766303c0",
   "metadata": {
    "execution": {
     "iopub.execute_input": "2024-07-25T18:42:26.398108Z",
     "iopub.status.busy": "2024-07-25T18:42:26.397630Z",
     "iopub.status.idle": "2024-07-25T18:42:36.192233Z",
     "shell.execute_reply": "2024-07-25T18:42:36.189535Z",
     "shell.execute_reply.started": "2024-07-25T18:42:26.398071Z"
    }
   },
   "outputs": [
    {
     "name": "stdout",
     "output_type": "stream",
     "text": [
      "Training accuracy: 89.91%\n",
      "Validation accuracy: 86.85%\n"
     ]
    }
   ],
   "source": [
    "validate(model, train_loader, val_loader)"
   ]
  },
  {
   "cell_type": "markdown",
   "id": "4e14bcbc-54d7-436a-bca2-09fcaec2616f",
   "metadata": {},
   "source": [
    "## Exercises"
   ]
  },
  {
   "cell_type": "code",
   "execution_count": 125,
   "id": "e4fc8bb3-39bb-48ca-a1c9-e6d11b47e90d",
   "metadata": {
    "execution": {
     "iopub.execute_input": "2024-07-27T19:16:26.473388Z",
     "iopub.status.busy": "2024-07-27T19:16:26.472782Z",
     "iopub.status.idle": "2024-07-27T19:16:26.477075Z",
     "shell.execute_reply": "2024-07-27T19:16:26.476500Z",
     "shell.execute_reply.started": "2024-07-27T19:16:26.473367Z"
    }
   },
   "outputs": [],
   "source": [
    "import datetime\n",
    "import numpy as np\n",
    "import matplotlib.pyplot as plt\n",
    "from PIL import Image\n",
    "\n",
    "import torch\n",
    "import torch.nn as nn\n",
    "import torch.nn.functional as F\n",
    "import torch.optim as optim\n",
    "from torch.utils.data import DataLoader\n",
    "\n",
    "from torchvision import datasets\n",
    "from torchvision import transforms"
   ]
  },
  {
   "cell_type": "markdown",
   "id": "6a395890-5b34-4ce6-967a-100235fc2579",
   "metadata": {},
   "source": [
    "### Kernel Size"
   ]
  },
  {
   "cell_type": "code",
   "execution_count": 2,
   "id": "ed201ee8-1f67-4afb-81b4-cad2f1917bc5",
   "metadata": {
    "execution": {
     "iopub.execute_input": "2024-07-27T14:15:37.999446Z",
     "iopub.status.busy": "2024-07-27T14:15:37.999143Z",
     "iopub.status.idle": "2024-07-27T14:15:38.003740Z",
     "shell.execute_reply": "2024-07-27T14:15:38.003171Z",
     "shell.execute_reply.started": "2024-07-27T14:15:37.999427Z"
    }
   },
   "outputs": [],
   "source": [
    "transform = transforms.Compose([\n",
    "    transforms.ToTensor(),\n",
    "    transforms.Normalize(mean=(0.4915, 0.4823, 0.4468), std=(0.2470, 0.2435, 0.2616)),\n",
    "])"
   ]
  },
  {
   "cell_type": "code",
   "execution_count": 3,
   "id": "de3c2ad1-5b9c-4a57-b86c-075a24ec3405",
   "metadata": {
    "execution": {
     "iopub.execute_input": "2024-07-27T14:15:38.004775Z",
     "iopub.status.busy": "2024-07-27T14:15:38.004504Z",
     "iopub.status.idle": "2024-07-27T14:15:39.240160Z",
     "shell.execute_reply": "2024-07-27T14:15:39.238961Z",
     "shell.execute_reply.started": "2024-07-27T14:15:38.004754Z"
    }
   },
   "outputs": [],
   "source": [
    "cifar10 = datasets.CIFAR10(\"data/\", train=True, download=False, transform=transform)\n",
    "cifar10_val = datasets.CIFAR10(\"data/\", train=False, download=False, transform=transform)"
   ]
  },
  {
   "cell_type": "code",
   "execution_count": 4,
   "id": "4271d21e-cd93-4a2b-b739-30fc7b9a5309",
   "metadata": {
    "execution": {
     "iopub.execute_input": "2024-07-27T14:15:39.241980Z",
     "iopub.status.busy": "2024-07-27T14:15:39.241750Z",
     "iopub.status.idle": "2024-07-27T14:15:53.945302Z",
     "shell.execute_reply": "2024-07-27T14:15:53.944086Z",
     "shell.execute_reply.started": "2024-07-27T14:15:39.241954Z"
    }
   },
   "outputs": [],
   "source": [
    "label_map = {0: 0, 2: 1}\n",
    "class_names = [\"airplane\", \"bird\"]\n",
    "\n",
    "cifar2 = [(img, label_map[label]) for img, label in cifar10 if label in [0, 2]]\n",
    "cifar2_val = [(img, label_map[label]) for img, label in cifar10_val if label in [0, 2]]"
   ]
  },
  {
   "cell_type": "code",
   "execution_count": 23,
   "id": "cb9bc56e-f3bf-4c72-aa42-fd10a28cb50e",
   "metadata": {
    "execution": {
     "iopub.execute_input": "2024-07-27T15:12:45.304212Z",
     "iopub.status.busy": "2024-07-27T15:12:45.303760Z",
     "iopub.status.idle": "2024-07-27T15:12:45.311542Z",
     "shell.execute_reply": "2024-07-27T15:12:45.310480Z",
     "shell.execute_reply.started": "2024-07-27T15:12:45.304178Z"
    }
   },
   "outputs": [],
   "source": [
    "def train(n_epochs, model, optimizer, loss_fn, train_loader, device):\n",
    "    for epoch in range(1, n_epochs + 1):\n",
    "        training_loss = 0.0\n",
    "        \n",
    "        for inputs, targets in train_loader:\n",
    "            inputs.to(device)\n",
    "            targets.to(device)\n",
    "\n",
    "            outputs = model(inputs)\n",
    "            loss = loss_fn(outputs, targets)\n",
    "\n",
    "            optimizer.zero_grad()\n",
    "            loss.backward()\n",
    "            optimizer.step()\n",
    "\n",
    "            training_loss += loss.item()\n",
    "\n",
    "        average_loss = training_loss / len(train_loader)\n",
    "        if epoch == 1 or epoch % 10 == 0:\n",
    "            print(f\"{datetime.datetime.now()} Epoch: {epoch}, Training loss: {average_loss:.4f}\")"
   ]
  },
  {
   "cell_type": "code",
   "execution_count": 25,
   "id": "1aabb822-c6f8-42bc-a68d-1cdf73ed0fc3",
   "metadata": {
    "execution": {
     "iopub.execute_input": "2024-07-27T15:12:48.372533Z",
     "iopub.status.busy": "2024-07-27T15:12:48.372060Z",
     "iopub.status.idle": "2024-07-27T15:12:48.379316Z",
     "shell.execute_reply": "2024-07-27T15:12:48.378381Z",
     "shell.execute_reply.started": "2024-07-27T15:12:48.372497Z"
    }
   },
   "outputs": [],
   "source": [
    "\"\"\"\n",
    "Model Architecture:\n",
    "    conv -> relu -> maxpool -> conv -> relu -> maxpool -> flatten -> linear -> relu -> linear\n",
    "\n",
    "Input shapes:\n",
    "    (x)   -> N, 3, 32, 32  -> (conv1) -> N, 16, 32, 32 -> (relu) -> N, 16, 32, 32 -> (maxpool) -> N, 16, 16, 16 -> (out)\n",
    "    (out) -> N, 16, 16, 16 -> (conv2) -> N, 8, 16, 16  -> (relu) -> N, 8, 16, 16  -> (maxpool) -> N, 8, 8, 8    -> (out)\n",
    "    (out) -> N, 8, 8, 8    -> (view)  -> N, 8 * 8 * 8  -> (out)\n",
    "    (out) -> N, 8 * 8 * 8  -> (fc1)   -> N, 32         -> (relu) -> N, 32 -> (out)\n",
    "    (out) -> N, 32         -> (fc2)   -> N, 2          -> (out)\n",
    "\"\"\"\n",
    "\n",
    "class Net(nn.Module):\n",
    "    def __init__(self):\n",
    "        super().__init__()\n",
    "        self.conv1 = nn.Conv2d(3, 16, kernel_size=5, padding=2)\n",
    "        self.conv2 = nn.Conv2d(16, 8, kernel_size=5, padding=2)\n",
    "        self.fc1 = nn.Linear(8 * 8 * 8, 32)\n",
    "        self.fc2 = nn.Linear(32, 2)\n",
    "        \n",
    "    def forward(self, x):\n",
    "        out = F.max_pool2d(torch.relu(self.conv1(x)), 2)\n",
    "        out = F.max_pool2d(torch.relu(self.conv2(out)), 2)\n",
    "        out = out.view(-1, 8 * 8 * 8)\n",
    "        out = torch.relu(self.fc1(out))\n",
    "        out = self.fc2(out)\n",
    "        return out"
   ]
  },
  {
   "cell_type": "code",
   "execution_count": 73,
   "id": "ecbd4826-14df-4f8f-8e67-e9fae3340627",
   "metadata": {
    "execution": {
     "iopub.execute_input": "2024-07-27T18:25:56.073287Z",
     "iopub.status.busy": "2024-07-27T18:25:56.072782Z",
     "iopub.status.idle": "2024-07-27T18:25:56.078843Z",
     "shell.execute_reply": "2024-07-27T18:25:56.078222Z",
     "shell.execute_reply.started": "2024-07-27T18:25:56.073263Z"
    }
   },
   "outputs": [],
   "source": [
    "device = torch.device(\"cuda\" if torch.cuda.is_available() else \"cpu\")\n",
    "\n",
    "model = Net().to(device)\n",
    "loss_fn = nn.CrossEntropyLoss()\n",
    "optimizer = optim.SGD(model.parameters(), lr=1e-2)\n",
    "train_loader = DataLoader(cifar2, batch_size=64, shuffle=True)"
   ]
  },
  {
   "cell_type": "code",
   "execution_count": 27,
   "id": "3b97e7d2-e860-41a2-82c8-2df8c01b1b65",
   "metadata": {
    "execution": {
     "iopub.execute_input": "2024-07-27T15:12:49.973457Z",
     "iopub.status.busy": "2024-07-27T15:12:49.972950Z",
     "iopub.status.idle": "2024-07-27T15:20:56.991547Z",
     "shell.execute_reply": "2024-07-27T15:20:56.990993Z",
     "shell.execute_reply.started": "2024-07-27T15:12:49.973418Z"
    }
   },
   "outputs": [
    {
     "name": "stdout",
     "output_type": "stream",
     "text": [
      "2024-07-27 20:12:54.409695 Epoch: 1, Training loss: 0.6182\n",
      "2024-07-27 20:13:35.514174 Epoch: 10, Training loss: 0.3115\n",
      "2024-07-27 20:14:27.250976 Epoch: 20, Training loss: 0.2594\n",
      "2024-07-27 20:15:24.106586 Epoch: 30, Training loss: 0.2261\n",
      "2024-07-27 20:16:12.634897 Epoch: 40, Training loss: 0.2056\n",
      "2024-07-27 20:17:03.342605 Epoch: 50, Training loss: 0.1771\n",
      "2024-07-27 20:17:53.694665 Epoch: 60, Training loss: 0.1543\n",
      "2024-07-27 20:18:41.554367 Epoch: 70, Training loss: 0.1355\n",
      "2024-07-27 20:19:27.196931 Epoch: 80, Training loss: 0.1116\n",
      "2024-07-27 20:20:12.071627 Epoch: 90, Training loss: 0.0927\n",
      "2024-07-27 20:20:56.989218 Epoch: 100, Training loss: 0.0755\n"
     ]
    }
   ],
   "source": [
    "model.train()\n",
    "\n",
    "train(100, model, optimizer, loss_fn, train_loader, device)"
   ]
  },
  {
   "cell_type": "code",
   "execution_count": 28,
   "id": "b81a10c3-2fe0-4fa4-a20e-b62cf1c96d53",
   "metadata": {
    "execution": {
     "iopub.execute_input": "2024-07-27T15:21:03.324279Z",
     "iopub.status.busy": "2024-07-27T15:21:03.324012Z",
     "iopub.status.idle": "2024-07-27T15:21:03.328391Z",
     "shell.execute_reply": "2024-07-27T15:21:03.327764Z",
     "shell.execute_reply.started": "2024-07-27T15:21:03.324260Z"
    }
   },
   "outputs": [
    {
     "name": "stdout",
     "output_type": "stream",
     "text": [
      "Total parameters: 20906\n",
      "Parameters in each submodule: [1200, 16, 3200, 8, 16384, 32, 64, 2]\n"
     ]
    }
   ],
   "source": [
    "numel_list = [p.numel() for p in model.parameters()]\n",
    "print(f\"Total parameters: {sum(numel_list)}\")\n",
    "print(f\"Parameters in each submodule: {numel_list}\")"
   ]
  },
  {
   "cell_type": "code",
   "execution_count": 35,
   "id": "fd08aab9-80a7-4d62-b7ef-79b144bdba13",
   "metadata": {
    "execution": {
     "iopub.execute_input": "2024-07-27T15:23:50.824092Z",
     "iopub.status.busy": "2024-07-27T15:23:50.823626Z",
     "iopub.status.idle": "2024-07-27T15:23:50.832961Z",
     "shell.execute_reply": "2024-07-27T15:23:50.831900Z",
     "shell.execute_reply.started": "2024-07-27T15:23:50.824055Z"
    }
   },
   "outputs": [],
   "source": [
    "class SimpleNet(nn.Module):\n",
    "    def __init__(self):\n",
    "        super().__init__()\n",
    "        self.conv1 = nn.Conv2d(3, 16, kernel_size=3, padding=1)\n",
    "        self.conv2 = nn.Conv2d(16, 8, kernel_size=3, padding=1)\n",
    "        self.fc1 = nn.Linear(8 * 8 * 8, 32)\n",
    "        self.fc2 = nn.Linear(32, 2)\n",
    "\n",
    "    def forward(self, x):\n",
    "        out = F.max_pool2d(torch.relu(self.conv1(x)), 2)\n",
    "        out = F.max_pool2d(torch.relu(self.conv2(out)), 2)\n",
    "        out = out.view(-1, 8 * 8 * 8)\n",
    "        out = torch.relu(self.fc1(out))\n",
    "        out = self.fc2(out)\n",
    "        return out"
   ]
  },
  {
   "cell_type": "code",
   "execution_count": 36,
   "id": "cff0322c-0f47-419a-81d8-30eaeb25a931",
   "metadata": {
    "execution": {
     "iopub.execute_input": "2024-07-27T15:24:15.043238Z",
     "iopub.status.busy": "2024-07-27T15:24:15.042767Z",
     "iopub.status.idle": "2024-07-27T15:24:15.056615Z",
     "shell.execute_reply": "2024-07-27T15:24:15.055465Z",
     "shell.execute_reply.started": "2024-07-27T15:24:15.043202Z"
    }
   },
   "outputs": [
    {
     "name": "stdout",
     "output_type": "stream",
     "text": [
      "Total parameters: 18090\n",
      "Parameters in each submodule: [432, 16, 1152, 8, 16384, 32, 64, 2]\n"
     ]
    }
   ],
   "source": [
    "simplemodel = SimpleNet().to(device)\n",
    "\n",
    "numel_list = [p.numel() for p in simplemodel.parameters()]\n",
    "print(f\"Total parameters: {sum(numel_list)}\")\n",
    "print(f\"Parameters in each submodule: {numel_list}\")"
   ]
  },
  {
   "cell_type": "code",
   "execution_count": 43,
   "id": "bee1bc61-fc80-48bc-9d10-ff814aaae54c",
   "metadata": {
    "execution": {
     "iopub.execute_input": "2024-07-27T15:35:46.850307Z",
     "iopub.status.busy": "2024-07-27T15:35:46.849821Z",
     "iopub.status.idle": "2024-07-27T15:35:46.858558Z",
     "shell.execute_reply": "2024-07-27T15:35:46.857315Z",
     "shell.execute_reply.started": "2024-07-27T15:35:46.850270Z"
    }
   },
   "outputs": [],
   "source": [
    "def evaluate(model, train_loader, val_loader, device):\n",
    "    data_loaders = [(\"Training\", train_loader), (\"Validation\", val_loader)]\n",
    "\n",
    "    for name, data_loader in data_loaders:\n",
    "        correct = 0\n",
    "        total = 0\n",
    "        with torch.no_grad():\n",
    "            for inputs, targets in data_loader:\n",
    "                inputs = inputs.to(device)\n",
    "                targets = targets.to(device)\n",
    "\n",
    "                outputs = model(inputs)\n",
    "                _, predictions = torch.max(outputs, dim=1)\n",
    "                correct += int((predictions == targets).sum())\n",
    "                total += targets.shape[0]\n",
    "\n",
    "        accuracy = (correct / total) * 100\n",
    "        print(f\"{name} accuracy: {accuracy:.2f}%\")"
   ]
  },
  {
   "cell_type": "code",
   "execution_count": 44,
   "id": "b7ff7572-09fb-4b72-811b-86f8ff154b5c",
   "metadata": {
    "execution": {
     "iopub.execute_input": "2024-07-27T15:35:47.757217Z",
     "iopub.status.busy": "2024-07-27T15:35:47.756027Z",
     "iopub.status.idle": "2024-07-27T15:35:47.763161Z",
     "shell.execute_reply": "2024-07-27T15:35:47.761731Z",
     "shell.execute_reply.started": "2024-07-27T15:35:47.757163Z"
    }
   },
   "outputs": [],
   "source": [
    "train_loader = DataLoader(cifar2, batch_size=64, shuffle=False)\n",
    "val_loader = DataLoader(cifar2_val, batch_size=64, shuffle=False)"
   ]
  },
  {
   "cell_type": "code",
   "execution_count": 52,
   "id": "c24b8c3c-fb44-469c-8b34-d2eaa83ff0f3",
   "metadata": {
    "execution": {
     "iopub.execute_input": "2024-07-27T15:56:41.655074Z",
     "iopub.status.busy": "2024-07-27T15:56:41.654521Z",
     "iopub.status.idle": "2024-07-27T15:56:43.048682Z",
     "shell.execute_reply": "2024-07-27T15:56:43.048083Z",
     "shell.execute_reply.started": "2024-07-27T15:56:41.655050Z"
    }
   },
   "outputs": [
    {
     "name": "stdout",
     "output_type": "stream",
     "text": [
      "Training accuracy: 97.57%\n",
      "Validation accuracy: 89.15%\n"
     ]
    }
   ],
   "source": [
    "model.eval()\n",
    "\n",
    "evaluate(model, train_loader, val_loader, device)"
   ]
  },
  {
   "cell_type": "code",
   "execution_count": 71,
   "id": "ebb155d4-f82c-4be5-8f19-011b51d1887c",
   "metadata": {
    "execution": {
     "iopub.execute_input": "2024-07-27T18:23:19.784272Z",
     "iopub.status.busy": "2024-07-27T18:23:19.784004Z",
     "iopub.status.idle": "2024-07-27T18:23:20.141890Z",
     "shell.execute_reply": "2024-07-27T18:23:20.141239Z",
     "shell.execute_reply.started": "2024-07-27T18:23:19.784252Z"
    }
   },
   "outputs": [
    {
     "name": "stderr",
     "output_type": "stream",
     "text": [
      "Clipping input data to the valid range for imshow with RGB data ([0..1] for floats or [0..255] for integers).\n"
     ]
    },
    {
     "data": {
      "image/png": "[encoded data removed]",
      "text/plain": [
       "<Figure size 600x200 with 3 Axes>"
      ]
     },
     "metadata": {},
     "output_type": "display_data"
    }
   ],
   "source": [
    "img, _ = cifar2[0]\n",
    "\n",
    "sq_conv = nn.Conv2d(3, 1, kernel_size=(3, 3))\n",
    "rect_conv = nn.Conv2d(3, 1, kernel_size=(1, 3))\n",
    "sq_out = sq_conv(img)\n",
    "rect_out = rect_conv(img)\n",
    "\n",
    "img = img.permute(1, 2, 0)\n",
    "sq_out = sq_out.permute(1, 2, 0)\n",
    "sq_out = sq_out.detach().numpy()\n",
    "rect_out = rect_out.permute(1, 2, 0)\n",
    "rect_out = rect_out.detach().numpy()\n",
    "\n",
    "\n",
    "fig, (ax1, ax2, ax3) = plt.subplots(1, 3, figsize=(6, 2))\n",
    "ax1.imshow(p_image)\n",
    "ax2.imshow(sq_out)\n",
    "ax3.imshow(rect_out)\n",
    "ax1.set_title(\"Input\")\n",
    "ax2.set_title(\"3 × 3 Kernel\")\n",
    "ax3.set_title(\"1 × 3 Kernel\")\n",
    "ax1.set_xticks([0, img.shape[1] - 1], [0, img.shape[1] - 1])\n",
    "ax2.set_xticks([0, sq_out.shape[1] - 1], [0, sq_out.shape[1] - 1])\n",
    "ax3.set_xticks([0, rect_out.shape[1] - 1], [0, rect_out.shape[1] - 1])\n",
    "ax1.set_yticks([0, img.shape[0] - 1], [0, img.shape[0] - 1])\n",
    "ax2.set_yticks([0, sq_out.shape[0] - 1], [0, sq_out.shape[0] - 1])\n",
    "ax3.set_yticks([0, rect_out.shape[0] - 1], [0, rect_out.shape[0] - 1])\n",
    "plt.tight_layout()\n",
    "plt.savefig(\"data/kernel_sizes.png\")\n",
    "plt.show()"
   ]
  },
  {
   "cell_type": "code",
   "execution_count": 72,
   "id": "0863acc3-2afe-45be-91a5-a839523bfc1f",
   "metadata": {
    "execution": {
     "iopub.execute_input": "2024-07-27T18:24:16.438526Z",
     "iopub.status.busy": "2024-07-27T18:24:16.437980Z",
     "iopub.status.idle": "2024-07-27T18:24:16.691209Z",
     "shell.execute_reply": "2024-07-27T18:24:16.690527Z",
     "shell.execute_reply.started": "2024-07-27T18:24:16.438506Z"
    }
   },
   "outputs": [
    {
     "name": "stderr",
     "output_type": "stream",
     "text": [
      "Clipping input data to the valid range for imshow with RGB data ([0..1] for floats or [0..255] for integers).\n"
     ]
    },
    {
     "data": {
      "image/png": "[encoded data removed]",
      "text/plain": [
       "<Figure size 600x200 with 3 Axes>"
      ]
     },
     "metadata": {},
     "output_type": "display_data"
    }
   ],
   "source": [
    "img, _ = cifar2[0]\n",
    "\n",
    "sq_conv = nn.Conv2d(3, 1, kernel_size=(3, 3), padding=\"same\")\n",
    "rect_conv = nn.Conv2d(3, 1, kernel_size=(1, 3), padding=\"same\")\n",
    "sq_out = sq_conv(img)\n",
    "rect_out = rect_conv(img)\n",
    "\n",
    "img = img.permute(1, 2, 0)\n",
    "sq_out = sq_out.permute(1, 2, 0)\n",
    "sq_out = sq_out.detach().numpy()\n",
    "rect_out = rect_out.permute(1, 2, 0)\n",
    "rect_out = rect_out.detach().numpy()\n",
    "\n",
    "\n",
    "fig, (ax1, ax2, ax3) = plt.subplots(1, 3, figsize=(6, 2))\n",
    "ax1.imshow(img)\n",
    "ax2.imshow(sq_out)\n",
    "ax3.imshow(rect_out)\n",
    "ax1.set_title(\"Input\")\n",
    "ax2.set_title(\"3 × 3 Kernel\")\n",
    "ax3.set_title(\"1 × 3 Kernel\")\n",
    "ax1.set_xticks([0, img.shape[1] - 1], [0, img.shape[1] - 1])\n",
    "ax2.set_xticks([0, sq_out.shape[1] - 1], [0, sq_out.shape[1] - 1])\n",
    "ax3.set_xticks([0, rect_out.shape[1] - 1], [0, rect_out.shape[1] - 1])\n",
    "ax1.set_yticks([0, img.shape[0] - 1], [0, img.shape[0] - 1])\n",
    "ax2.set_yticks([0, sq_out.shape[0] - 1], [0, sq_out.shape[0] - 1])\n",
    "ax3.set_yticks([0, rect_out.shape[0] - 1], [0, rect_out.shape[0] - 1])\n",
    "plt.tight_layout()\n",
    "plt.show()"
   ]
  },
  {
   "cell_type": "code",
   "execution_count": 78,
   "id": "b010fa63-d696-46a0-89b1-b60e697b1245",
   "metadata": {
    "execution": {
     "iopub.execute_input": "2024-07-27T18:29:35.439308Z",
     "iopub.status.busy": "2024-07-27T18:29:35.438129Z",
     "iopub.status.idle": "2024-07-27T18:29:35.451359Z",
     "shell.execute_reply": "2024-07-27T18:29:35.447870Z",
     "shell.execute_reply.started": "2024-07-27T18:29:35.439265Z"
    }
   },
   "outputs": [],
   "source": [
    "\"\"\"\n",
    "Model Architecture:\n",
    "    conv -> relu -> maxpool -> conv -> relu -> maxpool -> flatten -> linear -> relu -> linear\n",
    "\n",
    "Input shapes:\n",
    "    (x)   -> N, 3, 32, 32  -> (conv1) -> N, 16, 32, 32 -> (relu) -> N, 16, 32, 32 -> (maxpool) -> N, 16, 16, 16 -> (out)\n",
    "    (out) -> N, 16, 16, 16 -> (conv2) -> N, 8, 16, 16  -> (relu) -> N, 8, 16, 16  -> (maxpool) -> N, 8, 8, 8    -> (out)\n",
    "    (out) -> N, 8, 8, 8    -> (view)  -> N, 8 * 8 * 8  -> (out)\n",
    "    (out) -> N, 8 * 8 * 8  -> (fc1)   -> N, 32         -> (relu) -> N, 32 -> (out)\n",
    "    (out) -> N, 32         -> (fc2)   -> N, 2          -> (out)\n",
    "\"\"\"\n",
    "\n",
    "class WierdNet(nn.Module):\n",
    "    def __init__(self):\n",
    "        super().__init__()\n",
    "        self.conv1 = nn.Conv2d(3, 16, kernel_size=(1, 3), padding=\"same\")\n",
    "        self.conv2 = nn.Conv2d(16, 8, kernel_size=(1, 3), padding=\"same\")\n",
    "        self.fc1 = nn.Linear(8 * 8 * 8, 32)\n",
    "        self.fc2 = nn.Linear(32, 2)\n",
    "        \n",
    "    def forward(self, x):\n",
    "        out = F.max_pool2d(torch.relu(self.conv1(x)), 2)\n",
    "        out = F.max_pool2d(torch.relu(self.conv2(out)), 2)\n",
    "        out = out.view(-1, 8 * 8 * 8)\n",
    "        out = torch.relu(self.fc1(out))\n",
    "        out = self.fc2(out)\n",
    "        return out"
   ]
  },
  {
   "cell_type": "code",
   "execution_count": 79,
   "id": "75804e0c-dce1-4ca0-b4ab-2c63ee3e1097",
   "metadata": {
    "execution": {
     "iopub.execute_input": "2024-07-27T18:29:35.926793Z",
     "iopub.status.busy": "2024-07-27T18:29:35.926437Z",
     "iopub.status.idle": "2024-07-27T18:29:35.933939Z",
     "shell.execute_reply": "2024-07-27T18:29:35.933047Z",
     "shell.execute_reply.started": "2024-07-27T18:29:35.926771Z"
    }
   },
   "outputs": [],
   "source": [
    "device = torch.device(\"cuda\" if torch.cuda.is_available() else \"cpu\")\n",
    "\n",
    "model = WierdNet().to(device)\n",
    "loss_fn = nn.CrossEntropyLoss()\n",
    "optimizer = optim.SGD(model.parameters(), lr=1e-2)\n",
    "train_loader = DataLoader(cifar2, batch_size=64, shuffle=True)"
   ]
  },
  {
   "cell_type": "code",
   "execution_count": 80,
   "id": "77da4aee-d43b-4255-9cd1-8c1a5c36b594",
   "metadata": {
    "execution": {
     "iopub.execute_input": "2024-07-27T18:29:37.639970Z",
     "iopub.status.busy": "2024-07-27T18:29:37.638786Z",
     "iopub.status.idle": "2024-07-27T18:34:43.718243Z",
     "shell.execute_reply": "2024-07-27T18:34:43.717628Z",
     "shell.execute_reply.started": "2024-07-27T18:29:37.639919Z"
    }
   },
   "outputs": [
    {
     "name": "stdout",
     "output_type": "stream",
     "text": [
      "2024-07-27 23:29:39.965348 Epoch: 1, Training loss: 0.6809\n",
      "2024-07-27 23:30:02.650512 Epoch: 10, Training loss: 0.3783\n",
      "2024-07-27 23:30:26.920848 Epoch: 20, Training loss: 0.3384\n",
      "2024-07-27 23:30:54.967366 Epoch: 30, Training loss: 0.3118\n",
      "2024-07-27 23:31:27.444418 Epoch: 40, Training loss: 0.2931\n",
      "2024-07-27 23:31:57.607350 Epoch: 50, Training loss: 0.2783\n",
      "2024-07-27 23:32:24.759432 Epoch: 60, Training loss: 0.2613\n",
      "2024-07-27 23:32:54.549558 Epoch: 70, Training loss: 0.2444\n",
      "2024-07-27 23:33:34.430767 Epoch: 80, Training loss: 0.2265\n",
      "2024-07-27 23:33:58.413573 Epoch: 90, Training loss: 0.2145\n",
      "2024-07-27 23:34:43.715789 Epoch: 100, Training loss: 0.1916\n"
     ]
    }
   ],
   "source": [
    "model.train()\n",
    "\n",
    "train(100, model, optimizer, loss_fn, train_loader, device)"
   ]
  },
  {
   "cell_type": "code",
   "execution_count": 81,
   "id": "f0e0ada3-99d2-40c9-ad33-c8cf1d10a71b",
   "metadata": {
    "execution": {
     "iopub.execute_input": "2024-07-27T18:35:06.673988Z",
     "iopub.status.busy": "2024-07-27T18:35:06.673718Z",
     "iopub.status.idle": "2024-07-27T18:35:06.677451Z",
     "shell.execute_reply": "2024-07-27T18:35:06.676796Z",
     "shell.execute_reply.started": "2024-07-27T18:35:06.673969Z"
    }
   },
   "outputs": [],
   "source": [
    "train_loader = DataLoader(cifar2, batch_size=64, shuffle=False)\n",
    "val_loader = DataLoader(cifar2_val, batch_size=64, shuffle=False)"
   ]
  },
  {
   "cell_type": "code",
   "execution_count": 82,
   "id": "acde2c2e-f473-47ef-9a63-9f128386a967",
   "metadata": {
    "execution": {
     "iopub.execute_input": "2024-07-27T18:35:07.431372Z",
     "iopub.status.busy": "2024-07-27T18:35:07.430996Z",
     "iopub.status.idle": "2024-07-27T18:35:08.698171Z",
     "shell.execute_reply": "2024-07-27T18:35:08.697603Z",
     "shell.execute_reply.started": "2024-07-27T18:35:07.431345Z"
    }
   },
   "outputs": [
    {
     "name": "stdout",
     "output_type": "stream",
     "text": [
      "Training accuracy: 92.61%\n",
      "Validation accuracy: 88.20%\n"
     ]
    }
   ],
   "source": [
    "model.eval()\n",
    "\n",
    "evaluate(model, train_loader, val_loader, device)"
   ]
  },
  {
   "cell_type": "markdown",
   "id": "26837b3c-dada-44db-b5eb-19c59cbf44e1",
   "metadata": {},
   "source": [
    "### Over-Generalization"
   ]
  },
  {
   "cell_type": "code",
   "execution_count": 148,
   "id": "18b4b0e3-894d-4d0b-b0a5-b31c13d68edd",
   "metadata": {
    "execution": {
     "iopub.execute_input": "2024-07-27T19:40:29.207728Z",
     "iopub.status.busy": "2024-07-27T19:40:29.207218Z",
     "iopub.status.idle": "2024-07-27T19:40:29.226527Z",
     "shell.execute_reply": "2024-07-27T19:40:29.225940Z",
     "shell.execute_reply.started": "2024-07-27T19:40:29.207688Z"
    }
   },
   "outputs": [
    {
     "name": "stdout",
     "output_type": "stream",
     "text": [
      "Index: 3\n"
     ]
    }
   ],
   "source": [
    "model.eval()\n",
    "\n",
    "for idx, (img, label) in enumerate(cifar10):\n",
    "    if label not in [0, 2]:\n",
    "        with torch.no_grad():\n",
    "            out = model(img)\n",
    "            confidences = F.softmax(out, dim=1)\n",
    "            confidences = confidences.detach().numpy()[0]\n",
    "            if (confidences[0] > 0.95) or (confidences[1] > 0.95):\n",
    "                print(f\"Index: {idx}\")\n",
    "                break"
   ]
  },
  {
   "cell_type": "code",
   "execution_count": 149,
   "id": "6de1ff85-511b-4f19-879c-7ac05370ea79",
   "metadata": {
    "execution": {
     "iopub.execute_input": "2024-07-27T19:40:29.419248Z",
     "iopub.status.busy": "2024-07-27T19:40:29.418778Z",
     "iopub.status.idle": "2024-07-27T19:40:29.502618Z",
     "shell.execute_reply": "2024-07-27T19:40:29.502059Z",
     "shell.execute_reply.started": "2024-07-27T19:40:29.419227Z"
    }
   },
   "outputs": [
    {
     "name": "stderr",
     "output_type": "stream",
     "text": [
      "Clipping input data to the valid range for imshow with RGB data ([0..1] for floats or [0..255] for integers).\n"
     ]
    },
    {
     "name": "stdout",
     "output_type": "stream",
     "text": [
      "Ground truth: deer\n",
      "Confidence for airplane: 4.33%\n",
      "Confidence for bird: 95.67%\n"
     ]
    },
    {
     "data": {
      "image/png": "[encoded data removed]",
      "text/plain": [
       "<Figure size 400x400 with 1 Axes>"
      ]
     },
     "metadata": {},
     "output_type": "display_data"
    }
   ],
   "source": [
    "model.eval()\n",
    "img, label = cifar10[idx]\n",
    "\n",
    "with torch.no_grad():\n",
    "    out = model(img)\n",
    "    confidences = F.softmax(out, dim=1)\n",
    "    confidences = confidences.detach().numpy()[0]\n",
    "    print(f\"Ground truth: {cifar10.classes[label]}\")\n",
    "    print(f\"Confidence for airplane: {confidences[0] * 100:.2f}%\")\n",
    "    print(f\"Confidence for bird: {confidences[1] * 100:.2f}%\")\n",
    "\n",
    "fig = plt.figure(figsize=(4, 4))\n",
    "plt.imshow(img.permute(1, 2, 0))\n",
    "plt.axis(\"off\")\n",
    "plt.savefig(\"data/over-generalization.png\")\n",
    "plt.show()"
   ]
  },
  {
   "cell_type": "code",
   "execution_count": 150,
   "id": "220e89a4-2e8a-4c80-bdca-f09d3c3dc059",
   "metadata": {
    "execution": {
     "iopub.execute_input": "2024-07-27T19:40:29.630492Z",
     "iopub.status.busy": "2024-07-27T19:40:29.630220Z",
     "iopub.status.idle": "2024-07-27T19:40:29.671067Z",
     "shell.execute_reply": "2024-07-27T19:40:29.670454Z",
     "shell.execute_reply.started": "2024-07-27T19:40:29.630472Z"
    }
   },
   "outputs": [
    {
     "name": "stdout",
     "output_type": "stream",
     "text": [
      "Index: 20\n"
     ]
    }
   ],
   "source": [
    "model.eval()\n",
    "\n",
    "for idx, (img, label) in enumerate(cifar10):\n",
    "    if label not in [0, 2]:\n",
    "        with torch.no_grad():\n",
    "            out = model(img)\n",
    "            confidences = F.softmax(out, dim=1)\n",
    "            confidences = confidences.detach().numpy()[0]\n",
    "            if (0.45 <= confidences[0] <= 0.55):\n",
    "                print(f\"Index: {idx}\")\n",
    "                break"
   ]
  },
  {
   "cell_type": "code",
   "execution_count": 151,
   "id": "cf667b16-3f11-4b3b-8bda-5fa93da7ad25",
   "metadata": {
    "execution": {
     "iopub.execute_input": "2024-07-27T19:40:29.848371Z",
     "iopub.status.busy": "2024-07-27T19:40:29.848025Z",
     "iopub.status.idle": "2024-07-27T19:40:29.958085Z",
     "shell.execute_reply": "2024-07-27T19:40:29.944241Z",
     "shell.execute_reply.started": "2024-07-27T19:40:29.848343Z"
    }
   },
   "outputs": [
    {
     "name": "stdout",
     "output_type": "stream",
     "text": [
      "Ground truth: deer\n",
      "Confidence for airplane: 52.33%\n",
      "Confidence for bird: 47.67%\n"
     ]
    },
    {
     "name": "stderr",
     "output_type": "stream",
     "text": [
      "Clipping input data to the valid range for imshow with RGB data ([0..1] for floats or [0..255] for integers).\n"
     ]
    },
    {
     "data": {
      "image/png": "[encoded data removed]",
      "text/plain": [
       "<Figure size 400x400 with 1 Axes>"
      ]
     },
     "metadata": {},
     "output_type": "display_data"
    }
   ],
   "source": [
    "model.eval()\n",
    "img, label = cifar10[idx]\n",
    "\n",
    "with torch.no_grad():\n",
    "    out = model(img)\n",
    "    confidences = F.softmax(out, dim=1)\n",
    "    confidences = confidences.detach().numpy()[0]\n",
    "    print(f\"Ground truth: {cifar10.classes[label]}\")\n",
    "    print(f\"Confidence for airplane: {confidences[0] * 100:.2f}%\")\n",
    "    print(f\"Confidence for bird: {confidences[1] * 100:.2f}%\")\n",
    "\n",
    "fig = plt.figure(figsize=(4, 4))\n",
    "plt.imshow(img.permute(1, 2, 0))\n",
    "plt.axis(\"off\")\n",
    "plt.show()"
   ]
  },
  {
   "cell_type": "code",
   "execution_count": 152,
   "id": "af3feb63-9e9c-426c-ba15-a40173f52f3f",
   "metadata": {
    "execution": {
     "iopub.execute_input": "2024-07-27T19:40:30.021531Z",
     "iopub.status.busy": "2024-07-27T19:40:30.021193Z",
     "iopub.status.idle": "2024-07-27T19:40:30.891764Z",
     "shell.execute_reply": "2024-07-27T19:40:30.891044Z",
     "shell.execute_reply.started": "2024-07-27T19:40:30.021506Z"
    }
   },
   "outputs": [],
   "source": [
    "cifar10_original = datasets.CIFAR10(\"data/\", train=True, download=False)"
   ]
  },
  {
   "cell_type": "code",
   "execution_count": 153,
   "id": "331b520e-71e7-4e77-8965-27041cc2e1b4",
   "metadata": {
    "execution": {
     "iopub.execute_input": "2024-07-27T19:40:30.893288Z",
     "iopub.status.busy": "2024-07-27T19:40:30.893063Z",
     "iopub.status.idle": "2024-07-27T19:40:31.026184Z",
     "shell.execute_reply": "2024-07-27T19:40:31.025478Z",
     "shell.execute_reply.started": "2024-07-27T19:40:30.893271Z"
    }
   },
   "outputs": [
    {
     "data": {
      "image/png": "[encoded data removed]",
      "text/plain": [
       "<Figure size 640x480 with 1 Axes>"
      ]
     },
     "metadata": {},
     "output_type": "display_data"
    }
   ],
   "source": [
    "img, _ = cifar10_original[idx]\n",
    "img.save(\"data/neutral.png\")\n",
    "plt.imshow(img)\n",
    "plt.show()"
   ]
  },
  {
   "cell_type": "code",
   "execution_count": 154,
   "id": "d6bfae98-52e3-4fe3-ae00-c512bf3a6348",
   "metadata": {
    "execution": {
     "iopub.execute_input": "2024-07-27T19:40:31.027215Z",
     "iopub.status.busy": "2024-07-27T19:40:31.026985Z",
     "iopub.status.idle": "2024-07-27T19:40:31.103689Z",
     "shell.execute_reply": "2024-07-27T19:40:31.102842Z",
     "shell.execute_reply.started": "2024-07-27T19:40:31.027194Z"
    }
   },
   "outputs": [],
   "source": [
    "transform = transforms.Compose([\n",
    "    transforms.ToTensor(),\n",
    "    transforms.Normalize(mean=(0.4915, 0.4823, 0.4468), std=(0.2470, 0.2435, 0.2616)),\n",
    "])\n",
    "\n",
    "img = Image.open(\"data/neutral-modified.png\")\n",
    "img = transform(img)"
   ]
  },
  {
   "cell_type": "code",
   "execution_count": 155,
   "id": "50796df9-96f9-42ee-9296-93e6d3674709",
   "metadata": {
    "execution": {
     "iopub.execute_input": "2024-07-27T19:40:31.105452Z",
     "iopub.status.busy": "2024-07-27T19:40:31.105218Z",
     "iopub.status.idle": "2024-07-27T19:40:31.175640Z",
     "shell.execute_reply": "2024-07-27T19:40:31.175091Z",
     "shell.execute_reply.started": "2024-07-27T19:40:31.105433Z"
    }
   },
   "outputs": [
    {
     "name": "stderr",
     "output_type": "stream",
     "text": [
      "Clipping input data to the valid range for imshow with RGB data ([0..1] for floats or [0..255] for integers).\n"
     ]
    },
    {
     "name": "stdout",
     "output_type": "stream",
     "text": [
      "Confidence for airplane: 86.92%\n",
      "Confidence for bird: 13.08%\n"
     ]
    },
    {
     "data": {
      "image/png": "[encoded data removed]",
      "text/plain": [
       "<Figure size 400x400 with 1 Axes>"
      ]
     },
     "metadata": {},
     "output_type": "display_data"
    }
   ],
   "source": [
    "with torch.no_grad():\n",
    "    out = model(img)\n",
    "    confidences = F.softmax(out, dim=1)\n",
    "    confidences = confidences.detach().numpy()[0]\n",
    "    print(f\"Confidence for airplane: {confidences[0] * 100:.2f}%\")\n",
    "    print(f\"Confidence for bird: {confidences[1] * 100:.2f}%\")\n",
    "\n",
    "fig = plt.figure(figsize=(4, 4))\n",
    "plt.imshow(img.permute(1, 2, 0))\n",
    "plt.axis(\"off\")\n",
    "plt.show()"
   ]
  },
  {
   "cell_type": "code",
   "execution_count": 170,
   "id": "5bded929-ed5d-429d-b6dd-d3a1d1e3ff78",
   "metadata": {
    "execution": {
     "iopub.execute_input": "2024-07-27T19:51:50.898190Z",
     "iopub.status.busy": "2024-07-27T19:51:50.897704Z",
     "iopub.status.idle": "2024-07-27T19:51:50.916958Z",
     "shell.execute_reply": "2024-07-27T19:51:50.916052Z",
     "shell.execute_reply.started": "2024-07-27T19:51:50.898158Z"
    }
   },
   "outputs": [
    {
     "name": "stdout",
     "output_type": "stream",
     "text": [
      "Index: 29\n"
     ]
    }
   ],
   "source": [
    "for idx, (img, label) in enumerate(cifar10):\n",
    "    if label == 0:\n",
    "        print(f\"Index: {idx}\")\n",
    "        break"
   ]
  },
  {
   "cell_type": "code",
   "execution_count": 171,
   "id": "d069ee8d-f4e8-4355-936e-c70befd03e38",
   "metadata": {
    "execution": {
     "iopub.execute_input": "2024-07-27T19:51:51.494479Z",
     "iopub.status.busy": "2024-07-27T19:51:51.493819Z",
     "iopub.status.idle": "2024-07-27T19:51:51.574924Z",
     "shell.execute_reply": "2024-07-27T19:51:51.574357Z",
     "shell.execute_reply.started": "2024-07-27T19:51:51.494428Z"
    }
   },
   "outputs": [
    {
     "name": "stderr",
     "output_type": "stream",
     "text": [
      "Clipping input data to the valid range for imshow with RGB data ([0..1] for floats or [0..255] for integers).\n"
     ]
    },
    {
     "name": "stdout",
     "output_type": "stream",
     "text": [
      "Ground truth: airplane\n",
      "Confidence for airplane: 94.10%\n",
      "Confidence for bird: 5.90%\n"
     ]
    },
    {
     "data": {
      "image/png": "[encoded data removed]",
      "text/plain": [
       "<Figure size 400x400 with 1 Axes>"
      ]
     },
     "metadata": {},
     "output_type": "display_data"
    }
   ],
   "source": [
    "model.eval()\n",
    "img, label = cifar10[idx]\n",
    "\n",
    "with torch.no_grad():\n",
    "    out = model(img)\n",
    "    confidences = F.softmax(out, dim=1)\n",
    "    confidences = confidences.detach().numpy()[0]\n",
    "    print(f\"Ground truth: {cifar10.classes[label]}\")\n",
    "    print(f\"Confidence for airplane: {confidences[0] * 100:.2f}%\")\n",
    "    print(f\"Confidence for bird: {confidences[1] * 100:.2f}%\")\n",
    "\n",
    "fig = plt.figure(figsize=(4, 4))\n",
    "plt.imshow(img.permute(1, 2, 0))\n",
    "plt.axis(\"off\")\n",
    "plt.show()"
   ]
  },
  {
   "cell_type": "code",
   "execution_count": 172,
   "id": "10800287-4e98-4c37-a12e-035aa523c749",
   "metadata": {
    "execution": {
     "iopub.execute_input": "2024-07-27T19:51:53.164739Z",
     "iopub.status.busy": "2024-07-27T19:51:53.164286Z",
     "iopub.status.idle": "2024-07-27T19:51:53.312603Z",
     "shell.execute_reply": "2024-07-27T19:51:53.311817Z",
     "shell.execute_reply.started": "2024-07-27T19:51:53.164703Z"
    }
   },
   "outputs": [
    {
     "data": {
      "image/png": "[encoded data removed]",
      "text/plain": [
       "<Figure size 640x480 with 1 Axes>"
      ]
     },
     "metadata": {},
     "output_type": "display_data"
    }
   ],
   "source": [
    "img, _ = cifar10_original[idx]\n",
    "img.save(\"data/airplane.png\")\n",
    "plt.imshow(img)\n",
    "plt.show()"
   ]
  },
  {
   "cell_type": "code",
   "execution_count": 173,
   "id": "430bf492-c6ac-4175-820f-2ecc76e819cc",
   "metadata": {
    "execution": {
     "iopub.execute_input": "2024-07-27T19:51:53.718024Z",
     "iopub.status.busy": "2024-07-27T19:51:53.717625Z",
     "iopub.status.idle": "2024-07-27T19:51:53.723119Z",
     "shell.execute_reply": "2024-07-27T19:51:53.722441Z",
     "shell.execute_reply.started": "2024-07-27T19:51:53.717994Z"
    }
   },
   "outputs": [],
   "source": [
    "transform = transforms.Compose([\n",
    "    transforms.ToTensor(),\n",
    "    transforms.Normalize(mean=(0.4915, 0.4823, 0.4468), std=(0.2470, 0.2435, 0.2616)),\n",
    "])\n",
    "\n",
    "img = Image.open(\"data/airplane-modified.png\")\n",
    "img = transform(img)"
   ]
  },
  {
   "cell_type": "code",
   "execution_count": 174,
   "id": "c17f7824-3100-42d5-bff9-0d50174c2aa5",
   "metadata": {
    "execution": {
     "iopub.execute_input": "2024-07-27T19:51:54.582809Z",
     "iopub.status.busy": "2024-07-27T19:51:54.582228Z",
     "iopub.status.idle": "2024-07-27T19:51:54.640365Z",
     "shell.execute_reply": "2024-07-27T19:51:54.639004Z",
     "shell.execute_reply.started": "2024-07-27T19:51:54.582760Z"
    }
   },
   "outputs": [
    {
     "name": "stderr",
     "output_type": "stream",
     "text": [
      "Clipping input data to the valid range for imshow with RGB data ([0..1] for floats or [0..255] for integers).\n"
     ]
    },
    {
     "name": "stdout",
     "output_type": "stream",
     "text": [
      "Confidence for airplane: 2.60%\n",
      "Confidence for bird: 97.40%\n"
     ]
    },
    {
     "data": {
      "image/png": "[encoded data removed]",
      "text/plain": [
       "<Figure size 400x400 with 1 Axes>"
      ]
     },
     "metadata": {},
     "output_type": "display_data"
    }
   ],
   "source": [
    "with torch.no_grad():\n",
    "    out = model(img)\n",
    "    confidences = F.softmax(out, dim=1)\n",
    "    confidences = confidences.detach().numpy()[0]\n",
    "    print(f\"Confidence for airplane: {confidences[0] * 100:.2f}%\")\n",
    "    print(f\"Confidence for bird: {confidences[1] * 100:.2f}%\")\n",
    "\n",
    "fig = plt.figure(figsize=(4, 4))\n",
    "plt.imshow(img.permute(1, 2, 0))\n",
    "plt.axis(\"off\")\n",
    "plt.show()"
   ]
  },
  {
   "cell_type": "code",
   "execution_count": 175,
   "id": "a0247eca-c2d5-427e-9bc5-0e528b5d7147",
   "metadata": {
    "execution": {
     "iopub.execute_input": "2024-07-27T19:51:58.116930Z",
     "iopub.status.busy": "2024-07-27T19:51:58.116513Z",
     "iopub.status.idle": "2024-07-27T19:51:58.301322Z",
     "shell.execute_reply": "2024-07-27T19:51:58.300516Z",
     "shell.execute_reply.started": "2024-07-27T19:51:58.116897Z"
    }
   },
   "outputs": [
    {
     "name": "stdout",
     "output_type": "stream",
     "text": [
      "Index: 6\n"
     ]
    },
    {
     "data": {
      "image/png": "[encoded data removed]",
      "text/plain": [
       "<Figure size 640x480 with 1 Axes>"
      ]
     },
     "metadata": {},
     "output_type": "display_data"
    }
   ],
   "source": [
    "for idx, (img, label) in enumerate(cifar10):\n",
    "    if label == 2:\n",
    "        print(f\"Index: {idx}\")\n",
    "        break\n",
    "\n",
    "img, _ = cifar10_original[idx]\n",
    "img.save(\"data/bird.png\")\n",
    "plt.imshow(img)\n",
    "plt.show()"
   ]
  }
 ],
 "metadata": {
  "kernelspec": {
   "display_name": "Python 3 (ipykernel)",
   "language": "python",
   "name": "python3"
  },
  "language_info": {
   "codemirror_mode": {
    "name": "ipython",
    "version": 3
   },
   "file_extension": ".py",
   "mimetype": "text/x-python",
   "name": "python",
   "nbconvert_exporter": "python",
   "pygments_lexer": "ipython3",
   "version": "3.12.2"
  }
 },
 "nbformat": 4,
 "nbformat_minor": 5
}
