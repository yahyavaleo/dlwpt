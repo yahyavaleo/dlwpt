{
 "cells": [
  {
   "cell_type": "markdown",
   "id": "933a5cc9-8a85-45c8-9b28-9dcb2cbd2f35",
   "metadata": {},
   "source": [
    "# Learning"
   ]
  },
  {
   "cell_type": "code",
   "execution_count": 1,
   "id": "f2d5925e-fbe8-4762-a07f-6092683d301c",
   "metadata": {},
   "outputs": [],
   "source": [
    "import torch\n",
    "import numpy as np\n",
    "import matplotlib.pyplot as plt"
   ]
  },
  {
   "cell_type": "markdown",
   "id": "3db97bb3-c606-4c17-92d3-56ebb0358750",
   "metadata": {},
   "source": [
    "## Data Visualization"
   ]
  },
  {
   "cell_type": "code",
   "execution_count": 2,
   "id": "375c0fde-edf9-4285-95b2-a9be035f5eab",
   "metadata": {},
   "outputs": [],
   "source": [
    "t_c = [0.5, 14.0, 15.0, 28.0, 11.0, 8.0, 3.0, -4.0, 6.0, 13.0, 21.0]\n",
    "t_u = [35.7, 55.9, 58.2, 81.9, 56.3, 48.9, 33.9, 21.8, 48.4, 60.4, 68.4]\n",
    "t_c = torch.tensor(t_c)\n",
    "t_u = torch.tensor(t_u)"
   ]
  },
  {
   "cell_type": "code",
   "execution_count": 5,
   "id": "36221a6b-1c5f-40af-a338-cb6fdc2be932",
   "metadata": {},
   "outputs": [
    {
     "data": {
      "image/png": "[encoded data removed]",
      "text/plain": [
       "<Figure size 640x480 with 1 Axes>"
      ]
     },
     "metadata": {},
     "output_type": "display_data"
    }
   ],
   "source": [
    "plt.scatter(t_u, t_c)\n",
    "plt.xlabel(\"Measurement (unknown units)\")\n",
    "plt.ylabel(\"Temperature (°C)\")\n",
    "plt.show()"
   ]
  },
  {
   "cell_type": "markdown",
   "id": "06875b87-52f2-4086-9f83-735fc475ec0d",
   "metadata": {},
   "source": [
    "## Loss Function"
   ]
  },
  {
   "cell_type": "code",
   "execution_count": 6,
   "id": "8c6b087b-e146-4bf6-8492-1aa2d0ee646b",
   "metadata": {},
   "outputs": [],
   "source": [
    "def model(t_u, w, b):\n",
    "    return w * t_u + b"
   ]
  },
  {
   "cell_type": "code",
   "execution_count": 7,
   "id": "836dc76c-007a-4b1f-ba61-c9efc99ced54",
   "metadata": {},
   "outputs": [],
   "source": [
    "def loss_fn(t_p, t_c):\n",
    "    squared_diff = (t_p - t_c)**2\n",
    "    return squared_diff.mean()"
   ]
  },
  {
   "cell_type": "code",
   "execution_count": 9,
   "id": "ee008692-eedb-4bd7-b625-ba8ea465b52d",
   "metadata": {},
   "outputs": [
    {
     "data": {
      "text/plain": [
       "tensor([35.7000, 55.9000, 58.2000, 81.9000, 56.3000, 48.9000, 33.9000, 21.8000,\n",
       "        48.4000, 60.4000, 68.4000])"
      ]
     },
     "execution_count": 9,
     "metadata": {},
     "output_type": "execute_result"
    }
   ],
   "source": [
    "w = torch.ones(())\n",
    "b = torch.zeros(())\n",
    "\n",
    "t_p = model(t_u, w, b)\n",
    "t_p"
   ]
  },
  {
   "cell_type": "code",
   "execution_count": 10,
   "id": "de35c8bc-7316-4850-be94-07936e8ecc44",
   "metadata": {},
   "outputs": [
    {
     "data": {
      "text/plain": [
       "tensor(1763.8848)"
      ]
     },
     "execution_count": 10,
     "metadata": {},
     "output_type": "execute_result"
    }
   ],
   "source": [
    "loss = loss_fn(t_p, t_c)\n",
    "loss"
   ]
  },
  {
   "cell_type": "markdown",
   "id": "ff65c802-03de-4070-ad10-90def829612b",
   "metadata": {},
   "source": [
    "## Gradient Descent"
   ]
  },
  {
   "cell_type": "code",
   "execution_count": 12,
   "id": "22352324-f01b-4f08-b792-b37d04076ffe",
   "metadata": {},
   "outputs": [
    {
     "data": {
      "text/plain": [
       "tensor(4517.2974)"
      ]
     },
     "execution_count": 12,
     "metadata": {},
     "output_type": "execute_result"
    }
   ],
   "source": [
    "delta = 0.1\n",
    "\n",
    "loss_rate_of_change_w = \\\n",
    "    (loss_fn(model(t_u, w + delta, b), t_c) -\n",
    "    loss_fn(model(t_u, w - delta, b), t_c)) / (2.0 * delta)\n",
    "\n",
    "loss_rate_of_change_w"
   ]
  },
  {
   "cell_type": "code",
   "execution_count": 13,
   "id": "fbc44d6b-d3ac-44c1-9835-e0fc99871dd3",
   "metadata": {},
   "outputs": [],
   "source": [
    "learning_rate = 1e-2\n",
    "\n",
    "w = w - learning_rate * loss_rate_of_change_w"
   ]
  },
  {
   "cell_type": "code",
   "execution_count": 14,
   "id": "3b4d4196-2be4-42f8-ad54-996eb0f145f5",
   "metadata": {},
   "outputs": [],
   "source": [
    "loss_rate_of_change_b = \\\n",
    "    (loss_fn(model(t_u, w, b + delta), t_c) -\n",
    "    loss_fn(model(t_u, w, b - delta), t_c)) / (2.0 * delta)"
   ]
  },
  {
   "cell_type": "code",
   "execution_count": 15,
   "id": "c7321f3b-f01e-4fcf-8f3f-5f3941a5db13",
   "metadata": {},
   "outputs": [],
   "source": [
    "b = b - learning_rate * loss_rate_of_change_b"
   ]
  },
  {
   "cell_type": "code",
   "execution_count": 16,
   "id": "1d55c5c4-7f5e-4ab4-9ad3-b9ce160977cf",
   "metadata": {},
   "outputs": [],
   "source": [
    "def dloss_fn(t_p, t_c):\n",
    "    dsq_diffs = 2 * (t_p - t_c) / t_p.size(0)\n",
    "    return dsq_diffs"
   ]
  },
  {
   "cell_type": "code",
   "execution_count": 17,
   "id": "7456ead9-55ff-4574-ab16-14fdfdaf1be7",
   "metadata": {},
   "outputs": [],
   "source": [
    "def dmodel_dw(t_u, w, b):\n",
    "    return t_u"
   ]
  },
  {
   "cell_type": "code",
   "execution_count": 18,
   "id": "171b16cd-d2e5-4c29-9b7f-e44cc0fc3fd7",
   "metadata": {},
   "outputs": [],
   "source": [
    "def dmodel_db(t_u, w, b):\n",
    "    return 1.0"
   ]
  },
  {
   "cell_type": "markdown",
   "id": "2a523c22-5384-4c7a-a0db-4b2053ead8c4",
   "metadata": {},
   "source": [
    "$$\n",
    "\\nabla_{w, b} L = \\left( \\dfrac{\\delta L}{\\delta w}, \\dfrac{\\delta L}{\\delta b} \\right) =\n",
    "\\left( \\dfrac{\\delta L}{\\delta m} \\cdot \\dfrac{\\delta L}{\\delta w}, \\dfrac{\\delta L}{\\delta m} \\cdot \\dfrac{\\delta L}{\\delta b} \\right)\n",
    "$$"
   ]
  },
  {
   "cell_type": "code",
   "execution_count": 19,
   "id": "9396de58-0c81-428a-9909-4e9086abf632",
   "metadata": {},
   "outputs": [],
   "source": [
    "def grad_fn(t_u, t_c, t_p, w, b):\n",
    "    dloss_dtp = dloss_fn(t_p, t_c)\n",
    "    dloss_dw = dloss_dtp * dmodel_dw(t_u, w, b)\n",
    "    dloss_db = dloss_dtp * dmodel_db(t_u, w, b)\n",
    "    return torch.stack([dloss_dw.sum(), dloss_db.sum()])"
   ]
  },
  {
   "cell_type": "code",
   "execution_count": 22,
   "id": "db83a665-b46b-43f5-a94d-078bcc498aa8",
   "metadata": {},
   "outputs": [],
   "source": [
    "def training_loop(n_epochs, learning_rate, params, t_u, t_c, print_params=True):\n",
    "    for epoch in range(1, n_epochs + 1):\n",
    "        w, b = params\n",
    "\n",
    "        t_p = model(t_u, w, b)\n",
    "        loss = loss_fn(t_p, t_c)\n",
    "        grad = grad_fn(t_u, t_c, t_p, w, b)\n",
    "\n",
    "        params = params - learning_rate * grad\n",
    "\n",
    "        if epoch in {1, 2, 3, 10, 11, 99, 100, 4000, 5000}:\n",
    "            print(f\"Epoch: {epoch}, Loss: {float(loss)}\")\n",
    "            if print_params:\n",
    "                print(f\"    Params: {params}\")\n",
    "                print(f\"    Grad:   {grad}\")\n",
    "        if epoch in {4, 12, 101}:\n",
    "            print(\"...\")\n",
    "\n",
    "        if not torch.isfinite(loss).all():\n",
    "            break\n",
    "\n",
    "    return params"
   ]
  },
  {
   "cell_type": "code",
   "execution_count": 23,
   "id": "fa60b2aa-2d94-4bf0-98c9-72409b210c8a",
   "metadata": {},
   "outputs": [
    {
     "name": "stdout",
     "output_type": "stream",
     "text": [
      "Epoch: 1, Loss: 1763.884765625\n",
      "    Params: tensor([-44.1730,  -0.8260])\n",
      "    Grad:   tensor([4517.2964,   82.6000])\n",
      "Epoch: 2, Loss: 5802484.5\n",
      "    Params: tensor([2568.4011,   45.1637])\n",
      "    Grad:   tensor([-261257.4062,   -4598.9702])\n",
      "Epoch: 3, Loss: 19408029696.0\n",
      "    Params: tensor([-148527.7344,   -2616.3931])\n",
      "    Grad:   tensor([15109614.0000,   266155.6875])\n",
      "...\n",
      "Epoch: 10, Loss: 9.090110518901907e+34\n",
      "    Params: tensor([3.2144e+17, 5.6621e+15])\n",
      "    Grad:   tensor([-3.2700e+19, -5.7600e+17])\n",
      "Epoch: 11, Loss: inf\n",
      "    Params: tensor([-1.8590e+19, -3.2746e+17])\n",
      "    Grad:   tensor([1.8912e+21, 3.3313e+19])\n"
     ]
    },
    {
     "data": {
      "text/plain": [
       "tensor([-1.8590e+19, -3.2746e+17])"
      ]
     },
     "execution_count": 23,
     "metadata": {},
     "output_type": "execute_result"
    }
   ],
   "source": [
    "training_loop(n_epochs=100,\n",
    "              learning_rate=1e-2,\n",
    "              params=torch.tensor([1.0, 0.0]),\n",
    "              t_u=t_u,\n",
    "              t_c=t_c)"
   ]
  },
  {
   "cell_type": "code",
   "execution_count": 24,
   "id": "fe25d34b-3b06-4b71-86c0-62f8d4876691",
   "metadata": {},
   "outputs": [
    {
     "name": "stdout",
     "output_type": "stream",
     "text": [
      "Epoch: 1, Loss: 1763.884765625\n",
      "    Params: tensor([ 0.5483, -0.0083])\n",
      "    Grad:   tensor([4517.2964,   82.6000])\n",
      "Epoch: 2, Loss: 323.09051513671875\n",
      "    Params: tensor([ 0.3623, -0.0118])\n",
      "    Grad:   tensor([1859.5493,   35.7843])\n",
      "Epoch: 3, Loss: 78.92963409423828\n",
      "    Params: tensor([ 0.2858, -0.0135])\n",
      "    Grad:   tensor([765.4666,  16.5122])\n",
      "...\n",
      "Epoch: 10, Loss: 29.105247497558594\n",
      "    Params: tensor([ 0.2324, -0.0166])\n",
      "    Grad:   tensor([1.4803, 3.0544])\n",
      "Epoch: 11, Loss: 29.104167938232422\n",
      "    Params: tensor([ 0.2323, -0.0169])\n",
      "    Grad:   tensor([0.5781, 3.0384])\n",
      "...\n",
      "Epoch: 99, Loss: 29.023582458496094\n",
      "    Params: tensor([ 0.2327, -0.0435])\n",
      "    Grad:   tensor([-0.0533,  3.0226])\n",
      "Epoch: 100, Loss: 29.022666931152344\n",
      "    Params: tensor([ 0.2327, -0.0438])\n",
      "    Grad:   tensor([-0.0532,  3.0226])\n"
     ]
    },
    {
     "data": {
      "text/plain": [
       "tensor([ 0.2327, -0.0438])"
      ]
     },
     "execution_count": 24,
     "metadata": {},
     "output_type": "execute_result"
    }
   ],
   "source": [
    "training_loop(n_epochs=100,\n",
    "              learning_rate=1e-4,\n",
    "              params=torch.tensor([1.0, 0.0]),\n",
    "              t_u=t_u,\n",
    "              t_c=t_c)"
   ]
  },
  {
   "cell_type": "code",
   "execution_count": 25,
   "id": "0ddb32af-cd4d-49b5-b5ae-b3fa8c012cac",
   "metadata": {},
   "outputs": [
    {
     "data": {
      "text/plain": [
       "tensor([3.5700, 5.5900, 5.8200, 8.1900, 5.6300, 4.8900, 3.3900, 2.1800, 4.8400,\n",
       "        6.0400, 6.8400])"
      ]
     },
     "execution_count": 25,
     "metadata": {},
     "output_type": "execute_result"
    }
   ],
   "source": [
    "t_un = 0.1 * t_u\n",
    "t_un"
   ]
  },
  {
   "cell_type": "code",
   "execution_count": 27,
   "id": "20b91a5b-5a71-4d9c-80ce-8e013f0ec6fc",
   "metadata": {},
   "outputs": [
    {
     "name": "stdout",
     "output_type": "stream",
     "text": [
      "Epoch: 1, Loss: 80.36434173583984\n",
      "    Params: tensor([1.7761, 0.1064])\n",
      "    Grad:   tensor([-77.6140, -10.6400])\n",
      "Epoch: 2, Loss: 37.574913024902344\n",
      "    Params: tensor([2.0848, 0.1303])\n",
      "    Grad:   tensor([-30.8623,  -2.3864])\n",
      "Epoch: 3, Loss: 30.871076583862305\n",
      "    Params: tensor([2.2094, 0.1217])\n",
      "    Grad:   tensor([-12.4631,   0.8587])\n",
      "...\n",
      "Epoch: 10, Loss: 29.030488967895508\n",
      "    Params: tensor([ 2.3232, -0.0710])\n",
      "    Grad:   tensor([-0.5355,  2.9295])\n",
      "Epoch: 11, Loss: 28.941877365112305\n",
      "    Params: tensor([ 2.3284, -0.1003])\n",
      "    Grad:   tensor([-0.5240,  2.9264])\n",
      "...\n",
      "Epoch: 99, Loss: 22.21418571472168\n",
      "    Params: tensor([ 2.7508, -2.4910])\n",
      "    Grad:   tensor([-0.4453,  2.5208])\n",
      "Epoch: 100, Loss: 22.148710250854492\n",
      "    Params: tensor([ 2.7553, -2.5162])\n",
      "    Grad:   tensor([-0.4446,  2.5165])\n"
     ]
    },
    {
     "data": {
      "text/plain": [
       "tensor([ 2.7553, -2.5162])"
      ]
     },
     "execution_count": 27,
     "metadata": {},
     "output_type": "execute_result"
    }
   ],
   "source": [
    "training_loop(n_epochs=100,\n",
    "              learning_rate=1e-2,\n",
    "              params=torch.tensor([1.0, 0.0]),\n",
    "              t_u=t_un,\n",
    "              t_c=t_c)"
   ]
  },
  {
   "cell_type": "code",
   "execution_count": 31,
   "id": "6673f07d-5429-4989-b086-1d5d7e837e08",
   "metadata": {},
   "outputs": [
    {
     "name": "stdout",
     "output_type": "stream",
     "text": [
      "Epoch: 1, Loss: 80.36434173583984\n",
      "Epoch: 2, Loss: 37.574913024902344\n",
      "Epoch: 3, Loss: 30.871076583862305\n",
      "...\n",
      "Epoch: 10, Loss: 29.030488967895508\n",
      "Epoch: 11, Loss: 28.941877365112305\n",
      "...\n",
      "Epoch: 99, Loss: 22.21418571472168\n",
      "Epoch: 100, Loss: 22.148710250854492\n",
      "...\n",
      "Epoch: 4000, Loss: 2.927680253982544\n",
      "Epoch: 5000, Loss: 2.927647590637207\n"
     ]
    }
   ],
   "source": [
    "params = training_loop(n_epochs=5000,\n",
    "              learning_rate=1e-2,\n",
    "              params=torch.tensor([1.0, 0.0]),\n",
    "              t_u=t_un,\n",
    "              t_c=t_c,\n",
    "              print_params=False)"
   ]
  },
  {
   "cell_type": "code",
   "execution_count": 38,
   "id": "a0db8cab-dde1-4117-9870-5d16b026b3da",
   "metadata": {},
   "outputs": [
    {
     "data": {
      "image/png": "[encoded data removed]",
      "text/plain": [
       "<Figure size 640x480 with 1 Axes>"
      ]
     },
     "metadata": {},
     "output_type": "display_data"
    }
   ],
   "source": [
    "t_p = model(t_un, *params)\n",
    "\n",
    "plt.figure()\n",
    "plt.plot(t_u.numpy(), t_p.detach().numpy())\n",
    "plt.scatter(t_u.numpy(), t_c.numpy(), marker=\"o\", color=\"#ff7f0e\")\n",
    "plt.xlabel(\"Temperature (°Fahrenheit)\")\n",
    "plt.ylabel(\"Temperature (°Celsius)\")\n",
    "plt.show()"
   ]
  },
  {
   "cell_type": "markdown",
   "id": "ac920eeb-7b7d-4740-b046-2fc5dd14141c",
   "metadata": {},
   "source": [
    "## Autograd"
   ]
  },
  {
   "cell_type": "code",
   "execution_count": 39,
   "id": "ac5a20c4-fa99-477b-911b-b11cb631a57b",
   "metadata": {},
   "outputs": [],
   "source": [
    "def model(t_u, w, b):\n",
    "    return w * t_u + b"
   ]
  },
  {
   "cell_type": "code",
   "execution_count": 40,
   "id": "8f903244-4392-46cb-8f0e-75a3547fba59",
   "metadata": {},
   "outputs": [],
   "source": [
    "def loss_fn(t_p, t_c):\n",
    "    squared_diffs = (t_p - t_c)**2\n",
    "    return squared_diffs.mean()"
   ]
  },
  {
   "cell_type": "code",
   "execution_count": 41,
   "id": "097ade94-5168-467e-b137-f3c0c66b8289",
   "metadata": {},
   "outputs": [],
   "source": [
    "params = torch.tensor([1.0, 0.0], requires_grad=True)"
   ]
  },
  {
   "cell_type": "code",
   "execution_count": 42,
   "id": "e59e2676-4900-486f-8fb8-59abfb5a5fa5",
   "metadata": {},
   "outputs": [
    {
     "data": {
      "text/plain": [
       "True"
      ]
     },
     "execution_count": 42,
     "metadata": {},
     "output_type": "execute_result"
    }
   ],
   "source": [
    "params.grad is None"
   ]
  },
  {
   "cell_type": "code",
   "execution_count": 43,
   "id": "30dec893-4708-49cd-ad64-aa528d19e391",
   "metadata": {},
   "outputs": [],
   "source": [
    "loss = loss_fn(model(t_u, *params), t_c)\n",
    "loss.backward()"
   ]
  },
  {
   "cell_type": "code",
   "execution_count": 44,
   "id": "23b1a6a3-8841-486a-8939-77c3383340b0",
   "metadata": {},
   "outputs": [
    {
     "data": {
      "text/plain": [
       "tensor([4517.2969,   82.6000])"
      ]
     },
     "execution_count": 44,
     "metadata": {},
     "output_type": "execute_result"
    }
   ],
   "source": [
    "params.grad"
   ]
  },
  {
   "cell_type": "code",
   "execution_count": 45,
   "id": "b4172571-7427-4ff4-8533-8b6bec36f846",
   "metadata": {},
   "outputs": [],
   "source": [
    "if params.grad is not None:\n",
    "    params.grad.zero_()"
   ]
  },
  {
   "cell_type": "code",
   "execution_count": 47,
   "id": "73b92d0d-3d59-4261-850f-d20132b7dd40",
   "metadata": {},
   "outputs": [],
   "source": [
    "def training_loop(n_epochs, learning_rate, params, t_u, t_c):\n",
    "    for epoch in range(1, n_epochs + 1):\n",
    "        if params.grad is not None:\n",
    "            params.grad.zero_()\n",
    "\n",
    "        t_p = model(t_u, *params)\n",
    "        loss = loss_fn(t_p, t_c)\n",
    "        loss.backward()\n",
    "\n",
    "        with torch.no_grad():\n",
    "            params -= learning_rate * params.grad\n",
    "\n",
    "        if epoch % 500 == 0:\n",
    "            print(\"Epoch: {0}, Loss: {1}\".format(epoch, float(loss)))\n",
    "\n",
    "    return params"
   ]
  },
  {
   "cell_type": "code",
   "execution_count": 48,
   "id": "87bba180-19e6-452d-93b1-b703c4f3c324",
   "metadata": {},
   "outputs": [
    {
     "name": "stdout",
     "output_type": "stream",
     "text": [
      "Epoch: 500, Loss: 7.860115051269531\n",
      "Epoch: 1000, Loss: 3.828537940979004\n",
      "Epoch: 1500, Loss: 3.092191219329834\n",
      "Epoch: 2000, Loss: 2.957697868347168\n",
      "Epoch: 2500, Loss: 2.933133840560913\n",
      "Epoch: 3000, Loss: 2.9286484718322754\n",
      "Epoch: 3500, Loss: 2.9278297424316406\n",
      "Epoch: 4000, Loss: 2.9276793003082275\n",
      "Epoch: 4500, Loss: 2.927651882171631\n",
      "Epoch: 5000, Loss: 2.9276468753814697\n"
     ]
    },
    {
     "data": {
      "text/plain": [
       "tensor([  5.3671, -17.3012], requires_grad=True)"
      ]
     },
     "execution_count": 48,
     "metadata": {},
     "output_type": "execute_result"
    }
   ],
   "source": [
    "training_loop(\n",
    "    n_epochs=5000,\n",
    "    learning_rate=1e-2,\n",
    "    params=torch.tensor([1.0, 0.0], requires_grad=True),\n",
    "    t_u=t_un,\n",
    "    t_c=t_c)"
   ]
  },
  {
   "cell_type": "markdown",
   "id": "e0f4bfc3-9e69-441c-a061-29c61d34f3b3",
   "metadata": {},
   "source": [
    "## Optimizers"
   ]
  },
  {
   "cell_type": "code",
   "execution_count": 49,
   "id": "88b45149-4739-4a03-80c3-cfdfc59038ba",
   "metadata": {},
   "outputs": [],
   "source": [
    "import torch.optim as optim"
   ]
  },
  {
   "cell_type": "code",
   "execution_count": 65,
   "id": "d589f2b2-65fe-4e72-ade3-056d4c1d26d8",
   "metadata": {},
   "outputs": [
    {
     "data": {
      "text/plain": [
       "['ASGD',\n",
       " 'Adadelta',\n",
       " 'Adagrad',\n",
       " 'Adam',\n",
       " 'AdamW',\n",
       " 'Adamax',\n",
       " 'LBFGS',\n",
       " 'NAdam',\n",
       " 'Optimizer',\n",
       " 'RAdam',\n",
       " 'RMSprop',\n",
       " 'Rprop',\n",
       " 'SGD',\n",
       " 'SparseAdam']"
      ]
     },
     "execution_count": 65,
     "metadata": {},
     "output_type": "execute_result"
    }
   ],
   "source": [
    "list(filter(lambda x: x[0].isupper(), dir(optim)))"
   ]
  },
  {
   "cell_type": "code",
   "execution_count": 66,
   "id": "593211ba-b2fb-4991-96ec-2c6a9164248d",
   "metadata": {},
   "outputs": [],
   "source": [
    "params = torch.tensor([1.0, 0.0], requires_grad=True)\n",
    "learning_rate = 1e-5\n",
    "optimizer = optim.SGD([params], lr=learning_rate)"
   ]
  },
  {
   "cell_type": "code",
   "execution_count": 67,
   "id": "572ee657-1c14-44cf-864b-985dde9fd9c0",
   "metadata": {},
   "outputs": [
    {
     "data": {
      "text/plain": [
       "tensor([ 9.5483e-01, -8.2600e-04], requires_grad=True)"
      ]
     },
     "execution_count": 67,
     "metadata": {},
     "output_type": "execute_result"
    }
   ],
   "source": [
    "t_p = model(t_u, *params)\n",
    "loss = loss_fn(t_p, t_c)\n",
    "loss.backward()\n",
    "\n",
    "optimizer.step()\n",
    "\n",
    "params"
   ]
  },
  {
   "cell_type": "code",
   "execution_count": 70,
   "id": "83718342-b424-4ef4-a454-629e68b1ba2e",
   "metadata": {},
   "outputs": [
    {
     "data": {
      "text/plain": [
       "tensor([1.7761, 0.1064], requires_grad=True)"
      ]
     },
     "execution_count": 70,
     "metadata": {},
     "output_type": "execute_result"
    }
   ],
   "source": [
    "params = torch.tensor([1.0, 0.0], requires_grad=True)\n",
    "learning_rate = 1e-2\n",
    "optimizer = optim.SGD([params], lr=learning_rate)\n",
    "\n",
    "t_p = model(t_un, *params)\n",
    "loss = loss_fn(t_p, t_c)\n",
    "\n",
    "optimizer.zero_grad()\n",
    "loss.backward()\n",
    "optimizer.step()\n",
    "\n",
    "params"
   ]
  },
  {
   "cell_type": "code",
   "execution_count": 71,
   "id": "a363679f-5b46-46b2-97dc-2695f976de80",
   "metadata": {},
   "outputs": [],
   "source": [
    "def training_loop(n_epochs, optimizer, params, t_u, t_c):\n",
    "    for epoch in range(1, n_epochs + 1):\n",
    "        t_p = model(t_u, *params)\n",
    "        loss = loss_fn(t_p, t_c)\n",
    "\n",
    "        optimizer.zero_grad()\n",
    "        loss.backward()\n",
    "        optimizer.step()\n",
    "\n",
    "        if epoch % 500 == 0:\n",
    "            print(\"Epoch: {0}, Loss: {1}\".format(epoch, float(loss)))\n",
    "\n",
    "    return params"
   ]
  },
  {
   "cell_type": "code",
   "execution_count": 72,
   "id": "72742e9c-2df6-494f-8b98-76d39080b9f2",
   "metadata": {},
   "outputs": [
    {
     "name": "stdout",
     "output_type": "stream",
     "text": [
      "Epoch: 500, Loss: 7.860115051269531\n",
      "Epoch: 1000, Loss: 3.828537940979004\n",
      "Epoch: 1500, Loss: 3.092191219329834\n",
      "Epoch: 2000, Loss: 2.957697868347168\n",
      "Epoch: 2500, Loss: 2.933133840560913\n",
      "Epoch: 3000, Loss: 2.9286484718322754\n",
      "Epoch: 3500, Loss: 2.9278297424316406\n",
      "Epoch: 4000, Loss: 2.9276793003082275\n",
      "Epoch: 4500, Loss: 2.927651882171631\n",
      "Epoch: 5000, Loss: 2.9276468753814697\n"
     ]
    },
    {
     "data": {
      "text/plain": [
       "tensor([  5.3671, -17.3012], requires_grad=True)"
      ]
     },
     "execution_count": 72,
     "metadata": {},
     "output_type": "execute_result"
    }
   ],
   "source": [
    "params = torch.tensor([1.0, 0.0], requires_grad=True)\n",
    "learning_rate = 1e-2\n",
    "optimizer = optim.SGD([params], lr=learning_rate)\n",
    "\n",
    "training_loop(\n",
    "    n_epochs=5000,\n",
    "    optimizer=optimizer,\n",
    "    params=params,\n",
    "    t_u=t_un,\n",
    "    t_c=t_c)"
   ]
  },
  {
   "cell_type": "code",
   "execution_count": 73,
   "id": "2aa0322e-4649-4dd2-b773-b836e25a7a9d",
   "metadata": {},
   "outputs": [
    {
     "name": "stdout",
     "output_type": "stream",
     "text": [
      "Epoch: 500, Loss: 7.612898349761963\n",
      "Epoch: 1000, Loss: 3.086700439453125\n",
      "Epoch: 1500, Loss: 2.928579092025757\n",
      "Epoch: 2000, Loss: 2.9276442527770996\n",
      "Epoch: 2500, Loss: 2.927645206451416\n",
      "Epoch: 3000, Loss: 2.9276459217071533\n",
      "Epoch: 3500, Loss: 2.927644968032837\n",
      "Epoch: 4000, Loss: 2.927645683288574\n",
      "Epoch: 4500, Loss: 2.9276463985443115\n",
      "Epoch: 5000, Loss: 2.927645206451416\n"
     ]
    },
    {
     "data": {
      "text/plain": [
       "tensor([  0.5368, -17.3048], requires_grad=True)"
      ]
     },
     "execution_count": 73,
     "metadata": {},
     "output_type": "execute_result"
    }
   ],
   "source": [
    "params = torch.tensor([1.0, 0.0], requires_grad=True)\n",
    "learning_rate = 1e-1\n",
    "optimizer = optim.Adam([params], lr=learning_rate)\n",
    "\n",
    "training_loop(\n",
    "    n_epochs=5000,\n",
    "    optimizer=optimizer,\n",
    "    params=params,\n",
    "    t_u=t_u,\n",
    "    t_c=t_c)"
   ]
  },
  {
   "cell_type": "markdown",
   "id": "71facefd-aa0b-48cb-b91c-a3b24b634711",
   "metadata": {},
   "source": [
    "## Overfitting"
   ]
  },
  {
   "cell_type": "code",
   "execution_count": 74,
   "id": "4383b8de-72dc-49eb-934d-5b9a87d22452",
   "metadata": {},
   "outputs": [
    {
     "data": {
      "text/plain": [
       "(tensor([9, 2, 4, 3, 0, 8, 1, 5, 7]), tensor([10,  6]))"
      ]
     },
     "execution_count": 74,
     "metadata": {},
     "output_type": "execute_result"
    }
   ],
   "source": [
    "n_samples = t_u.shape[0]\n",
    "n_val = int(0.2 * n_samples)\n",
    "\n",
    "shuffled_indices = torch.randperm(n_samples)\n",
    "\n",
    "train_indices = shuffled_indices[:-n_val]\n",
    "val_indices = shuffled_indices[-n_val:]\n",
    "\n",
    "train_indices, val_indices"
   ]
  },
  {
   "cell_type": "code",
   "execution_count": 76,
   "id": "ea1d342e-0108-4a06-ab59-0ba6d8247b98",
   "metadata": {},
   "outputs": [],
   "source": [
    "train_t_u = t_u[train_indices]\n",
    "train_t_c = t_c[train_indices]\n",
    "\n",
    "val_t_u = t_u[val_indices]\n",
    "val_t_c = t_c[val_indices]\n",
    "\n",
    "train_t_un = 0.1 * train_t_u\n",
    "val_t_un = 0.1 * val_t_u"
   ]
  },
  {
   "cell_type": "code",
   "execution_count": 79,
   "id": "9a40ecbf-641c-4ba7-98b2-78b56cb88efb",
   "metadata": {},
   "outputs": [],
   "source": [
    "def training_loop(n_epochs, optimizer, params, train_t_u, val_t_u, train_t_c, val_t_c):\n",
    "    for epoch in range(1, n_epochs + 1):\n",
    "        train_t_p = model(train_t_u, *params)\n",
    "        train_loss = loss_fn(train_t_p, train_t_c)\n",
    "\n",
    "        val_t_p = model(val_t_u, *params)\n",
    "        val_loss = loss_fn(val_t_p, val_t_c)\n",
    "        \n",
    "        optimizer.zero_grad()\n",
    "        train_loss.backward()\n",
    "        optimizer.step()\n",
    "\n",
    "        if epoch <=3 or epoch % 500 == 0:\n",
    "            print(f\"Epoch: {epoch}, Training loss: {train_loss.item():.4f}, Validation loss: {val_loss.item():.4f}\")\n",
    "\n",
    "    return params"
   ]
  },
  {
   "cell_type": "code",
   "execution_count": 80,
   "id": "efc9f9f5-9408-407d-ab8f-ebc24bfe7b83",
   "metadata": {},
   "outputs": [
    {
     "name": "stdout",
     "output_type": "stream",
     "text": [
      "Epoch: 1, Training loss: 75.9278, Validation loss: 100.3288\n",
      "Epoch: 2, Training loss: 37.4690, Validation loss: 45.1741\n",
      "Epoch: 3, Training loss: 31.4738, Validation loss: 32.5256\n",
      "Epoch: 500, Training loss: 8.0829, Validation loss: 6.6445\n",
      "Epoch: 1000, Training loss: 3.6888, Validation loss: 4.2357\n",
      "Epoch: 1500, Training loss: 2.8342, Validation loss: 4.4852\n",
      "Epoch: 2000, Training loss: 2.6680, Validation loss: 4.8504\n",
      "Epoch: 2500, Training loss: 2.6356, Validation loss: 5.0611\n",
      "Epoch: 3000, Training loss: 2.6293, Validation loss: 5.1637\n",
      "Epoch: 3500, Training loss: 2.6281, Validation loss: 5.2108\n",
      "Epoch: 4000, Training loss: 2.6279, Validation loss: 5.2320\n",
      "Epoch: 4500, Training loss: 2.6278, Validation loss: 5.2414\n",
      "Epoch: 5000, Training loss: 2.6278, Validation loss: 5.2455\n"
     ]
    },
    {
     "data": {
      "text/plain": [
       "tensor([  5.4199, -17.9865], requires_grad=True)"
      ]
     },
     "execution_count": 80,
     "metadata": {},
     "output_type": "execute_result"
    }
   ],
   "source": [
    "params = torch.tensor([1.0, 0.0], requires_grad=True)\n",
    "learning_rate = 1e-2\n",
    "optimizer = optim.SGD([params], lr=learning_rate)\n",
    "\n",
    "training_loop(\n",
    "    n_epochs=5000,\n",
    "    optimizer=optimizer,\n",
    "    params=params,\n",
    "    train_t_u=train_t_un,\n",
    "    val_t_u=val_t_un,\n",
    "    train_t_c=train_t_c,\n",
    "    val_t_c=val_t_c    \n",
    ")"
   ]
  },
  {
   "cell_type": "markdown",
   "id": "c16f4e4b-1524-427a-bde5-dbc5b9fbd65f",
   "metadata": {},
   "source": [
    "## Enabling/Disabling Autograd"
   ]
  },
  {
   "cell_type": "code",
   "execution_count": 81,
   "id": "b11a8f6e-84d2-4c30-b146-3a23626de102",
   "metadata": {},
   "outputs": [],
   "source": [
    "def training_loop(n_epochs, optimizer, params, train_t_u, val_t_u, train_t_c, val_t_c):\n",
    "    for epoch in range(1, n_epochs + 1):\n",
    "        train_t_p = model(train_t_u, *params)\n",
    "        train_loss = loss_fn(train_t_p, train_t_c)\n",
    "\n",
    "        with torch.no_grad():\n",
    "            val_t_p = model(val_t_u, *params)\n",
    "            val_loss = loss_fn(val_t_p, val_t_c)\n",
    "            assert val_loss.requires_grad == False\n",
    "        \n",
    "        optimizer.zero_grad()\n",
    "        train_loss.backward()\n",
    "        optimizer.step()\n",
    "\n",
    "        if epoch <=3 or epoch % 500 == 0:\n",
    "            print(f\"Epoch: {epoch}, Training loss: {train_loss.item():.4f}, Validation loss: {val_loss.item():.4f}\")\n",
    "\n",
    "    return params"
   ]
  },
  {
   "cell_type": "code",
   "execution_count": 82,
   "id": "bfc0309f-c5a4-4830-9b84-475d05fd9679",
   "metadata": {},
   "outputs": [
    {
     "name": "stdout",
     "output_type": "stream",
     "text": [
      "Epoch: 1, Training loss: 75.9278, Validation loss: 100.3288\n",
      "Epoch: 2, Training loss: 37.4690, Validation loss: 45.1741\n",
      "Epoch: 3, Training loss: 31.4738, Validation loss: 32.5256\n",
      "Epoch: 500, Training loss: 8.0829, Validation loss: 6.6445\n",
      "Epoch: 1000, Training loss: 3.6888, Validation loss: 4.2357\n",
      "Epoch: 1500, Training loss: 2.8342, Validation loss: 4.4852\n",
      "Epoch: 2000, Training loss: 2.6680, Validation loss: 4.8504\n",
      "Epoch: 2500, Training loss: 2.6356, Validation loss: 5.0611\n",
      "Epoch: 3000, Training loss: 2.6293, Validation loss: 5.1637\n",
      "Epoch: 3500, Training loss: 2.6281, Validation loss: 5.2108\n",
      "Epoch: 4000, Training loss: 2.6279, Validation loss: 5.2320\n",
      "Epoch: 4500, Training loss: 2.6278, Validation loss: 5.2414\n",
      "Epoch: 5000, Training loss: 2.6278, Validation loss: 5.2455\n"
     ]
    },
    {
     "data": {
      "text/plain": [
       "tensor([  5.4199, -17.9865], requires_grad=True)"
      ]
     },
     "execution_count": 82,
     "metadata": {},
     "output_type": "execute_result"
    }
   ],
   "source": [
    "params = torch.tensor([1.0, 0.0], requires_grad=True)\n",
    "learning_rate = 1e-2\n",
    "optimizer = optim.SGD([params], lr=learning_rate)\n",
    "\n",
    "training_loop(\n",
    "    n_epochs=5000,\n",
    "    optimizer=optimizer,\n",
    "    params=params,\n",
    "    train_t_u=train_t_un,\n",
    "    val_t_u=val_t_un,\n",
    "    train_t_c=train_t_c,\n",
    "    val_t_c=val_t_c    \n",
    ")"
   ]
  },
  {
   "cell_type": "code",
   "execution_count": 83,
   "id": "af39592a-e650-499b-b1d0-084635bf724c",
   "metadata": {},
   "outputs": [],
   "source": [
    "def calc_forward(params, t_u, t_c, is_train):\n",
    "    with torch.set_grad_enabled(is_train):\n",
    "        t_p = model(t_u, *params)\n",
    "        loss = loss_fn(t_p, t_c)\n",
    "    return loss"
   ]
  }
 ],
 "metadata": {
  "kernelspec": {
   "display_name": "Python 3 (ipykernel)",
   "language": "python",
   "name": "python3"
  },
  "language_info": {
   "codemirror_mode": {
    "name": "ipython",
    "version": 3
   },
   "file_extension": ".py",
   "mimetype": "text/x-python",
   "name": "python",
   "nbconvert_exporter": "python",
   "pygments_lexer": "ipython3",
   "version": "3.12.2"
  }
 },
 "nbformat": 4,
 "nbformat_minor": 5
}
