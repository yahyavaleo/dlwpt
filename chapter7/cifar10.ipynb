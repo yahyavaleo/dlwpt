{
 "cells": [
  {
   "cell_type": "markdown",
   "id": "18e9dbdf-4d9d-425d-912f-069600ed62f6",
   "metadata": {},
   "source": [
    "# CIFAR-10"
   ]
  },
  {
   "cell_type": "code",
   "execution_count": 1,
   "id": "e630d029-969f-4f91-9d3c-14adf8d9ad4d",
   "metadata": {},
   "outputs": [],
   "source": [
    "from tqdm import tqdm\n",
    "import matplotlib.pyplot as plt\n",
    "\n",
    "import torch\n",
    "import torch.nn as nn\n",
    "import torch.optim as optim\n",
    "\n",
    "from torchvision import datasets\n",
    "from torchvision import transforms"
   ]
  },
  {
   "cell_type": "code",
   "execution_count": 2,
   "id": "6093dd70-e64a-4dce-9cd1-041bd42eb634",
   "metadata": {},
   "outputs": [
    {
     "name": "stdout",
     "output_type": "stream",
     "text": [
      "Files already downloaded and verified\n",
      "Files already downloaded and verified\n"
     ]
    }
   ],
   "source": [
    "cifar10 = datasets.CIFAR10(\"data/\", train=True, download=True)\n",
    "cifar10_val = datasets.CIFAR10(\"data/\", train=False, download=True)"
   ]
  },
  {
   "cell_type": "code",
   "execution_count": 3,
   "id": "ea4c4b6c-b333-465b-85a5-b83442ad2281",
   "metadata": {},
   "outputs": [
    {
     "data": {
      "text/plain": [
       "(torchvision.datasets.cifar.CIFAR10,\n",
       " torchvision.datasets.vision.VisionDataset,\n",
       " torch.utils.data.dataset.Dataset,\n",
       " typing.Generic,\n",
       " object)"
      ]
     },
     "execution_count": 3,
     "metadata": {},
     "output_type": "execute_result"
    }
   ],
   "source": [
    "type(cifar10).__mro__"
   ]
  },
  {
   "cell_type": "code",
   "execution_count": 4,
   "id": "d3012127-0325-4745-974d-4a10300c138f",
   "metadata": {},
   "outputs": [
    {
     "data": {
      "text/plain": [
       "(<PIL.Image.Image image mode=RGB size=32x32>, 1, 'automobile')"
      ]
     },
     "execution_count": 4,
     "metadata": {},
     "output_type": "execute_result"
    }
   ],
   "source": [
    "class_names = [\"airplane\", \"automobile\", \"bird\", \"cat\", \"deer\", \"dog\", \"frog\", \"horse\", \"ship\", \"truck\"]\n",
    "\n",
    "img, label = cifar10[99]\n",
    "img, label, class_names[label]"
   ]
  },
  {
   "cell_type": "code",
   "execution_count": 5,
   "id": "43302404-5bc7-40c7-80d1-519d2bad14d5",
   "metadata": {},
   "outputs": [
    {
     "data": {
      "image/png": "[encoded data removed]",
      "text/plain": [
       "<Figure size 640x480 with 1 Axes>"
      ]
     },
     "metadata": {},
     "output_type": "display_data"
    }
   ],
   "source": [
    "plt.imshow(img)\n",
    "plt.show()"
   ]
  },
  {
   "cell_type": "markdown",
   "id": "0c8cb667-cd2d-452e-8caa-0f4bfa8b69eb",
   "metadata": {},
   "source": [
    "## Dataset Transforms"
   ]
  },
  {
   "cell_type": "code",
   "execution_count": 10,
   "id": "13c8bd1f-00d5-437a-b620-1e096418c009",
   "metadata": {},
   "outputs": [
    {
     "name": "stdout",
     "output_type": "stream",
     "text": [
      "AugMix, AutoAugment, AutoAugmentPolicy, CenterCrop, ColorJitter, Compose, ConvertImageDtype, ElasticTransform, FiveCrop, GaussianBlur, Grayscale, InterpolationMode, Lambda, LinearTransformation, Normalize, PILToTensor, Pad, RandAugment, RandomAdjustSharpness, RandomAffine, RandomApply, RandomAutocontrast, RandomChoice, RandomCrop, RandomEqualize, RandomErasing, RandomGrayscale, RandomHorizontalFlip, RandomInvert, RandomOrder, RandomPerspective, RandomPosterize, RandomResizedCrop, RandomRotation, RandomSolarize, RandomVerticalFlip, Resize, TenCrop, ToPILImage, ToTensor, TrivialAugmentWide\n"
     ]
    }
   ],
   "source": [
    "names = list(filter(lambda x: x[0].isupper(), list(dir(transforms))))\n",
    "for i, name in enumerate(names):\n",
    "    if i == len(names) - 1:\n",
    "        print(name)\n",
    "    else:\n",
    "        print(name, end=\", \")"
   ]
  },
  {
   "cell_type": "code",
   "execution_count": 12,
   "id": "031be62d-e8e0-41a4-8ef9-796b2e9535af",
   "metadata": {},
   "outputs": [
    {
     "data": {
      "text/plain": [
       "(torch.Size([3, 32, 32]), torch.float32)"
      ]
     },
     "execution_count": 12,
     "metadata": {},
     "output_type": "execute_result"
    }
   ],
   "source": [
    "to_tensor = transforms.ToTensor()\n",
    "img_t = to_tensor(img)\n",
    "img_t.shape, img_t.dtype"
   ]
  },
  {
   "cell_type": "code",
   "execution_count": 13,
   "id": "39eff5b7-6d58-4cad-b423-24c25913171b",
   "metadata": {},
   "outputs": [
    {
     "data": {
      "text/plain": [
       "(tensor(0.), tensor(1.))"
      ]
     },
     "execution_count": 13,
     "metadata": {},
     "output_type": "execute_result"
    }
   ],
   "source": [
    "img_t.min(), img_t.max()"
   ]
  },
  {
   "cell_type": "code",
   "execution_count": 15,
   "id": "51efe5f0-b4d9-4de2-a47a-921ce9740c7e",
   "metadata": {},
   "outputs": [
    {
     "data": {
      "image/png": "[encoded data removed]",
      "text/plain": [
       "<Figure size 640x480 with 1 Axes>"
      ]
     },
     "metadata": {},
     "output_type": "display_data"
    }
   ],
   "source": [
    "plt.imshow(img_t.permute(1, 2, 0))\n",
    "plt.show()"
   ]
  },
  {
   "cell_type": "code",
   "execution_count": 20,
   "id": "2193d6ed-b573-4c53-976e-8e2a28c49370",
   "metadata": {},
   "outputs": [],
   "source": [
    "tensor_cifar10 = datasets.CIFAR10(\"data/\", train=True, download=False, transform=transforms.ToTensor())"
   ]
  },
  {
   "cell_type": "markdown",
   "id": "6c562aa5-7701-4d54-a4c8-4dae33b80beb",
   "metadata": {},
   "source": [
    "## Normalizing Data"
   ]
  },
  {
   "cell_type": "code",
   "execution_count": 24,
   "id": "8c106187-0f65-4392-bc67-a414bfae9dba",
   "metadata": {},
   "outputs": [
    {
     "data": {
      "text/plain": [
       "torch.Size([3, 32, 32, 50000])"
      ]
     },
     "execution_count": 24,
     "metadata": {},
     "output_type": "execute_result"
    }
   ],
   "source": [
    "imgs = torch.stack([img_t for img_t, _ in tensor_cifar10], dim=3)\n",
    "imgs.shape"
   ]
  },
  {
   "cell_type": "code",
   "execution_count": 35,
   "id": "062f982d-f51b-4ebb-bbb8-a25602d5f08b",
   "metadata": {},
   "outputs": [],
   "source": [
    "mean = imgs.view(3, -1).mean(dim=1)"
   ]
  },
  {
   "cell_type": "code",
   "execution_count": 36,
   "id": "79258ede-7601-40a0-9142-9eaa18c0691c",
   "metadata": {},
   "outputs": [],
   "source": [
    "std = imgs.view(3, -1).std(dim=1)"
   ]
  },
  {
   "cell_type": "code",
   "execution_count": 37,
   "id": "90d83393-81b4-4652-a3ec-3fbac4e4447a",
   "metadata": {},
   "outputs": [
    {
     "data": {
      "text/plain": [
       "Normalize(mean=tensor([0.4914, 0.4822, 0.4465]), std=tensor([0.2470, 0.2435, 0.2616]))"
      ]
     },
     "execution_count": 37,
     "metadata": {},
     "output_type": "execute_result"
    }
   ],
   "source": [
    "transforms.Normalize(mean, std)"
   ]
  },
  {
   "cell_type": "code",
   "execution_count": 41,
   "id": "ab0d50ba-01a2-465f-b783-99ed62d5eced",
   "metadata": {},
   "outputs": [],
   "source": [
    "transform = transforms.Compose([\n",
    "    transforms.ToTensor(),\n",
    "    transforms.Normalize(mean, std),\n",
    "])"
   ]
  },
  {
   "cell_type": "code",
   "execution_count": 42,
   "id": "2a3ff4ad-096c-4386-91ff-05e82bf8ac9d",
   "metadata": {},
   "outputs": [],
   "source": [
    "transformed_cifar10 = datasets.CIFAR10(\"data/\", train=True, download=False, transform=transform)"
   ]
  },
  {
   "cell_type": "code",
   "execution_count": 43,
   "id": "b10b2b02-bd70-46f5-b822-448b270ea37e",
   "metadata": {},
   "outputs": [
    {
     "name": "stderr",
     "output_type": "stream",
     "text": [
      "Clipping input data to the valid range for imshow with RGB data ([0..1] for floats or [0..255] for integers).\n"
     ]
    },
    {
     "data": {
      "image/png": "[encoded data removed]",
      "text/plain": [
       "<Figure size 640x480 with 1 Axes>"
      ]
     },
     "metadata": {},
     "output_type": "display_data"
    }
   ],
   "source": [
    "img_t, _ = transformed_cifar10[99]\n",
    "\n",
    "plt.imshow(img_t.permute(1, 2, 0))\n",
    "plt.show()"
   ]
  },
  {
   "cell_type": "markdown",
   "id": "4ef7fb27-2ba1-48a5-a642-63c51ce9dd28",
   "metadata": {},
   "source": [
    "## Building Dataset"
   ]
  },
  {
   "cell_type": "code",
   "execution_count": 6,
   "id": "bff60389-8cd6-43d0-b12b-6d54e50bd20b",
   "metadata": {},
   "outputs": [],
   "source": [
    "transform = transforms.Compose([\n",
    "    transforms.ToTensor(),\n",
    "    transforms.Normalize((0.4914, 0.4822, 0.4465), (0.2470, 0.2435, 0.2616)),\n",
    "])"
   ]
  },
  {
   "cell_type": "code",
   "execution_count": 7,
   "id": "039650cd-518f-4919-ad0a-ca60cd943cfe",
   "metadata": {},
   "outputs": [],
   "source": [
    "cifar10 = datasets.CIFAR10(\"data/\", train=True, download=False, transform=transform)\n",
    "cifar10_val = datasets.CIFAR10(\"data/\", train=False, download=False, transform=transform)"
   ]
  },
  {
   "cell_type": "code",
   "execution_count": 8,
   "id": "c5a70dd3-5e32-49ff-8113-82d0c3f970e1",
   "metadata": {},
   "outputs": [],
   "source": [
    "label_map = {0: 0, 2: 1}\n",
    "class_names = [\"airplane\", \"bird\"]\n",
    "\n",
    "cifar2 = [(img, label_map[label]) for img, label in cifar10 if label in [0, 2]]\n",
    "cifar2_val = [(img, label_map[label]) for img, label in cifar10_val if label in [0, 2]]"
   ]
  },
  {
   "cell_type": "markdown",
   "id": "343cd51b-3b6b-4a69-af19-e8c9800fe30b",
   "metadata": {},
   "source": [
    "## Neural Network"
   ]
  },
  {
   "cell_type": "code",
   "execution_count": 66,
   "id": "52fa1591-f637-4ee6-ab1d-00fff2332d96",
   "metadata": {},
   "outputs": [],
   "source": [
    "in_features = 3 * 32 * 32\n",
    "hidden_features = 512\n",
    "out_features = 2\n",
    "\n",
    "model = nn.Sequential(\n",
    "    nn.Linear(in_features, hidden_features),\n",
    "    nn.Tanh(),\n",
    "    nn.Linear(hidden_features, out_features),\n",
    ")"
   ]
  },
  {
   "cell_type": "markdown",
   "id": "77b04fe7-1046-4f10-8279-908e50296063",
   "metadata": {},
   "source": [
    "## Softmax"
   ]
  },
  {
   "cell_type": "code",
   "execution_count": 69,
   "id": "0484fe09-ef39-4963-b3f2-d47a54c1f228",
   "metadata": {},
   "outputs": [],
   "source": [
    "def softmax(x):\n",
    "    return torch.exp(x) / torch.exp(x).sum()"
   ]
  },
  {
   "cell_type": "code",
   "execution_count": 72,
   "id": "b5cf47c6-966f-4c64-a235-21dfa67f54f9",
   "metadata": {},
   "outputs": [
    {
     "data": {
      "text/plain": [
       "(tensor([0.0900, 0.2447, 0.6652]), tensor(1.))"
      ]
     },
     "execution_count": 72,
     "metadata": {},
     "output_type": "execute_result"
    }
   ],
   "source": [
    "x = torch.tensor([1.0, 2.0, 3.0])\n",
    "\n",
    "softmax(x), softmax(x).sum()"
   ]
  },
  {
   "cell_type": "code",
   "execution_count": 74,
   "id": "4466216f-c8ac-4c91-8595-03da44d1bf2a",
   "metadata": {},
   "outputs": [
    {
     "data": {
      "text/plain": [
       "tensor([[0.0900, 0.2447, 0.6652],\n",
       "        [0.0900, 0.2447, 0.6652]])"
      ]
     },
     "execution_count": 74,
     "metadata": {},
     "output_type": "execute_result"
    }
   ],
   "source": [
    "softmax = nn.Softmax(dim=1)\n",
    "\n",
    "x = torch.tensor([[1.0, 2.0, 3.0], [1.0, 2.0, 3.0]])\n",
    "softmax(x)"
   ]
  },
  {
   "cell_type": "code",
   "execution_count": 75,
   "id": "dde772b1-9091-4daf-81b7-5e1c2f80765a",
   "metadata": {},
   "outputs": [],
   "source": [
    "in_features = 3 * 32 * 32\n",
    "hidden_features = 512\n",
    "out_features = 2\n",
    "\n",
    "model = nn.Sequential(\n",
    "    nn.Linear(in_features, hidden_features),\n",
    "    nn.Tanh(),\n",
    "    nn.Linear(hidden_features, out_features),\n",
    "    nn.Softmax(dim=1)\n",
    ")"
   ]
  },
  {
   "cell_type": "code",
   "execution_count": 76,
   "id": "d9dec615-bdfa-4afa-ab4e-68e138a3d255",
   "metadata": {},
   "outputs": [
    {
     "name": "stderr",
     "output_type": "stream",
     "text": [
      "Clipping input data to the valid range for imshow with RGB data ([0..1] for floats or [0..255] for integers).\n"
     ]
    },
    {
     "data": {
      "image/png": "[encoded data removed]",
      "text/plain": [
       "<Figure size 640x480 with 1 Axes>"
      ]
     },
     "metadata": {},
     "output_type": "display_data"
    }
   ],
   "source": [
    "img, _ = cifar2[0]\n",
    "\n",
    "plt.imshow(img.permute(1, 2, 0))\n",
    "plt.show()"
   ]
  },
  {
   "cell_type": "code",
   "execution_count": 80,
   "id": "30dbb557-a0da-45a9-8199-b19cd9e2e46a",
   "metadata": {},
   "outputs": [
    {
     "data": {
      "text/plain": [
       "torch.Size([1, 3072])"
      ]
     },
     "execution_count": 80,
     "metadata": {},
     "output_type": "execute_result"
    }
   ],
   "source": [
    "img_batch = img.view(-1).unsqueeze(0)\n",
    "img_batch.shape"
   ]
  },
  {
   "cell_type": "code",
   "execution_count": 81,
   "id": "a511aacf-10d9-4f97-aca1-b72829c36af3",
   "metadata": {},
   "outputs": [
    {
     "data": {
      "text/plain": [
       "tensor([[0.4526, 0.5474]], grad_fn=<SoftmaxBackward0>)"
      ]
     },
     "execution_count": 81,
     "metadata": {},
     "output_type": "execute_result"
    }
   ],
   "source": [
    "out = model(img_batch)\n",
    "out"
   ]
  },
  {
   "cell_type": "code",
   "execution_count": 82,
   "id": "335feea0-555c-42d3-a1ec-642e6e29435c",
   "metadata": {},
   "outputs": [
    {
     "data": {
      "text/plain": [
       "tensor([1])"
      ]
     },
     "execution_count": 82,
     "metadata": {},
     "output_type": "execute_result"
    }
   ],
   "source": [
    "_, index = torch.max(out, dim=1)\n",
    "index"
   ]
  },
  {
   "cell_type": "markdown",
   "id": "c616fbb4-244f-4382-8e13-3e45aa1d17fc",
   "metadata": {},
   "source": [
    "## Loss Function"
   ]
  },
  {
   "cell_type": "code",
   "execution_count": 83,
   "id": "69248394-4efc-4003-a597-50865e245356",
   "metadata": {},
   "outputs": [],
   "source": [
    "in_features = 3 * 32 * 32\n",
    "hidden_features = 512\n",
    "out_features = 2\n",
    "\n",
    "model = nn.Sequential(\n",
    "    nn.Linear(in_features, hidden_features),\n",
    "    nn.Tanh(),\n",
    "    nn.Linear(hidden_features, out_features),\n",
    "    nn.LogSoftmax(dim=1)\n",
    ")"
   ]
  },
  {
   "cell_type": "code",
   "execution_count": 88,
   "id": "3d8b93fd-c909-4bea-9ebb-2459270dc1c0",
   "metadata": {},
   "outputs": [
    {
     "data": {
      "text/plain": [
       "(tensor([[-0.6986, -0.6877]], grad_fn=<LogSoftmaxBackward0>),\n",
       " tensor([[0.4973, 0.5027]], grad_fn=<ExpBackward0>))"
      ]
     },
     "execution_count": 88,
     "metadata": {},
     "output_type": "execute_result"
    }
   ],
   "source": [
    "img, _ = cifar2[0]\n",
    "img_batch = img.view(-1).unsqueeze(0)\n",
    "\n",
    "out = model(img_batch)\n",
    "out, torch.exp(out)"
   ]
  },
  {
   "cell_type": "code",
   "execution_count": 87,
   "id": "db478a72-45dd-4578-912b-306023ed699a",
   "metadata": {},
   "outputs": [],
   "source": [
    "loss = nn.NLLLoss()"
   ]
  },
  {
   "cell_type": "code",
   "execution_count": 90,
   "id": "468d1f71-0ab9-423a-bf7d-25c26579dd40",
   "metadata": {},
   "outputs": [
    {
     "data": {
      "text/plain": [
       "tensor(0.6877, grad_fn=<NllLossBackward0>)"
      ]
     },
     "execution_count": 90,
     "metadata": {},
     "output_type": "execute_result"
    }
   ],
   "source": [
    "img, label = cifar2[0]\n",
    "out = model(img.view(-1).unsqueeze(0))\n",
    "loss(out, torch.tensor([label]))"
   ]
  },
  {
   "cell_type": "markdown",
   "id": "e3822773-3e1e-42f9-9f45-3f0d7472642a",
   "metadata": {},
   "source": [
    "## Model Training"
   ]
  },
  {
   "cell_type": "code",
   "execution_count": 9,
   "id": "e378e2d8-3148-48e0-aaea-a4ef7fc15ab8",
   "metadata": {},
   "outputs": [],
   "source": [
    "in_features = 3 * 32 * 32\n",
    "hidden_features = 512\n",
    "out_features = 2\n",
    "\n",
    "model = nn.Sequential(\n",
    "    nn.Linear(in_features, hidden_features),\n",
    "    nn.Tanh(),\n",
    "    nn.Linear(hidden_features, out_features),\n",
    "    nn.LogSoftmax(dim=1)\n",
    ")"
   ]
  },
  {
   "cell_type": "code",
   "execution_count": 10,
   "id": "6867aed0-f0cf-4c5b-97c5-3320fae20a33",
   "metadata": {},
   "outputs": [],
   "source": [
    "learning_rate = 1e-2\n",
    "\n",
    "optimizer = optim.SGD(model.parameters(), lr=learning_rate)"
   ]
  },
  {
   "cell_type": "code",
   "execution_count": 11,
   "id": "48864e97-531f-4fb9-b639-41dec85b8538",
   "metadata": {},
   "outputs": [],
   "source": [
    "loss_fn = nn.NLLLoss()"
   ]
  },
  {
   "cell_type": "code",
   "execution_count": 12,
   "id": "647bd0a2-3412-403e-97a2-3b47a8354871",
   "metadata": {},
   "outputs": [
    {
     "name": "stderr",
     "output_type": "stream",
     "text": [
      "100%|██████████| 10000/10000 [00:35<00:00, 282.52it/s]\n"
     ]
    },
    {
     "name": "stdout",
     "output_type": "stream",
     "text": [
      "Epoch: 0, Loss: 7.9113\n"
     ]
    },
    {
     "name": "stderr",
     "output_type": "stream",
     "text": [
      "100%|██████████| 10000/10000 [00:38<00:00, 261.87it/s]\n"
     ]
    },
    {
     "name": "stdout",
     "output_type": "stream",
     "text": [
      "Epoch: 1, Loss: 4.9670\n"
     ]
    },
    {
     "name": "stderr",
     "output_type": "stream",
     "text": [
      "100%|██████████| 10000/10000 [00:34<00:00, 292.47it/s]\n"
     ]
    },
    {
     "name": "stdout",
     "output_type": "stream",
     "text": [
      "Epoch: 2, Loss: 5.4440\n"
     ]
    },
    {
     "name": "stderr",
     "output_type": "stream",
     "text": [
      "100%|██████████| 10000/10000 [00:35<00:00, 285.67it/s]\n"
     ]
    },
    {
     "name": "stdout",
     "output_type": "stream",
     "text": [
      "Epoch: 3, Loss: 7.3814\n"
     ]
    },
    {
     "name": "stderr",
     "output_type": "stream",
     "text": [
      "100%|██████████| 10000/10000 [00:34<00:00, 291.52it/s]"
     ]
    },
    {
     "name": "stdout",
     "output_type": "stream",
     "text": [
      "Epoch: 4, Loss: 8.9948\n"
     ]
    },
    {
     "name": "stderr",
     "output_type": "stream",
     "text": [
      "\n"
     ]
    }
   ],
   "source": [
    "n_epochs = 5\n",
    "\n",
    "for epoch in range(n_epochs):\n",
    "    for img, label in tqdm(cifar2):\n",
    "        out = model(img.view(-1).unsqueeze(0))\n",
    "        loss = loss_fn(out, torch.tensor([label]))\n",
    "        \n",
    "        optimizer.zero_grad()\n",
    "        loss.backward()\n",
    "        optimizer.step()\n",
    "\n",
    "    print(f\"Epoch: {epoch}, Loss: {loss.item():.4f}\")"
   ]
  },
  {
   "cell_type": "code",
   "execution_count": 14,
   "id": "1912c506-1f5f-48bc-bf19-886f9aab6969",
   "metadata": {},
   "outputs": [],
   "source": [
    "train_loader = torch.utils.data.DataLoader(cifar2, batch_size=64, shuffle=True)"
   ]
  },
  {
   "cell_type": "code",
   "execution_count": 15,
   "id": "ab8a2044-d8c5-4b1e-80ff-256067a4223e",
   "metadata": {},
   "outputs": [],
   "source": [
    "in_features = 3 * 32 * 32\n",
    "hidden_features = 512\n",
    "out_features = 2\n",
    "\n",
    "model = nn.Sequential(\n",
    "    nn.Linear(in_features, hidden_features),\n",
    "    nn.Tanh(),\n",
    "    nn.Linear(hidden_features, out_features),\n",
    "    nn.LogSoftmax(dim=1)\n",
    ")"
   ]
  },
  {
   "cell_type": "code",
   "execution_count": 16,
   "id": "f06fcac1-fad2-41f5-9cc6-af0f342ea51b",
   "metadata": {},
   "outputs": [],
   "source": [
    "learning_rate = 1e-2\n",
    "\n",
    "optimizer = optim.SGD(model.parameters(), lr=learning_rate)"
   ]
  },
  {
   "cell_type": "code",
   "execution_count": 17,
   "id": "6de5f342-5f34-4468-93dd-6d603e160261",
   "metadata": {},
   "outputs": [],
   "source": [
    "loss_fn = nn.NLLLoss()"
   ]
  },
  {
   "cell_type": "code",
   "execution_count": 21,
   "id": "a99b6715-ae3a-46bc-bd18-7887f4d8f35a",
   "metadata": {},
   "outputs": [
    {
     "name": "stdout",
     "output_type": "stream",
     "text": [
      "Epoch: 0, Loss: 0.4505\n",
      "Epoch: 1, Loss: 0.4914\n",
      "Epoch: 2, Loss: 0.3790\n",
      "Epoch: 3, Loss: 0.3210\n",
      "Epoch: 4, Loss: 0.4104\n",
      "Epoch: 5, Loss: 0.2110\n",
      "Epoch: 6, Loss: 0.3906\n",
      "Epoch: 7, Loss: 0.1097\n",
      "Epoch: 8, Loss: 0.1377\n",
      "Epoch: 9, Loss: 0.1424\n",
      "Epoch: 10, Loss: 0.2565\n",
      "Epoch: 11, Loss: 0.2014\n",
      "Epoch: 12, Loss: 0.2368\n",
      "Epoch: 13, Loss: 0.4294\n",
      "Epoch: 14, Loss: 0.2803\n",
      "Epoch: 15, Loss: 0.0991\n",
      "Epoch: 16, Loss: 0.1636\n",
      "Epoch: 17, Loss: 0.0938\n",
      "Epoch: 18, Loss: 0.1384\n",
      "Epoch: 19, Loss: 0.1045\n",
      "Epoch: 20, Loss: 0.1618\n",
      "Epoch: 21, Loss: 0.1086\n",
      "Epoch: 22, Loss: 0.1025\n",
      "Epoch: 23, Loss: 0.1091\n",
      "Epoch: 24, Loss: 0.1132\n",
      "Epoch: 25, Loss: 0.3186\n",
      "Epoch: 26, Loss: 0.1638\n",
      "Epoch: 27, Loss: 0.0859\n",
      "Epoch: 28, Loss: 0.2062\n",
      "Epoch: 29, Loss: 0.1206\n",
      "Epoch: 30, Loss: 0.2026\n",
      "Epoch: 31, Loss: 0.0577\n",
      "Epoch: 32, Loss: 0.1070\n",
      "Epoch: 33, Loss: 0.1129\n",
      "Epoch: 34, Loss: 0.0303\n",
      "Epoch: 35, Loss: 0.0898\n",
      "Epoch: 36, Loss: 0.0317\n",
      "Epoch: 37, Loss: 0.0328\n",
      "Epoch: 38, Loss: 0.0475\n",
      "Epoch: 39, Loss: 0.0201\n",
      "Epoch: 40, Loss: 0.1041\n",
      "Epoch: 41, Loss: 0.0328\n",
      "Epoch: 42, Loss: 0.0238\n",
      "Epoch: 43, Loss: 0.0418\n",
      "Epoch: 44, Loss: 0.0175\n",
      "Epoch: 45, Loss: 0.0973\n",
      "Epoch: 46, Loss: 0.0424\n",
      "Epoch: 47, Loss: 0.0681\n",
      "Epoch: 48, Loss: 0.0771\n",
      "Epoch: 49, Loss: 0.0388\n",
      "Epoch: 50, Loss: 0.0272\n",
      "Epoch: 51, Loss: 0.0387\n",
      "Epoch: 52, Loss: 0.0613\n",
      "Epoch: 53, Loss: 0.0072\n",
      "Epoch: 54, Loss: 0.0380\n",
      "Epoch: 55, Loss: 0.0760\n",
      "Epoch: 56, Loss: 0.0266\n",
      "Epoch: 57, Loss: 0.0222\n",
      "Epoch: 58, Loss: 0.0644\n",
      "Epoch: 59, Loss: 0.0289\n",
      "Epoch: 60, Loss: 0.0341\n",
      "Epoch: 61, Loss: 0.0157\n",
      "Epoch: 62, Loss: 0.0290\n",
      "Epoch: 63, Loss: 0.0896\n",
      "Epoch: 64, Loss: 0.0678\n",
      "Epoch: 65, Loss: 0.0304\n",
      "Epoch: 66, Loss: 0.0408\n",
      "Epoch: 67, Loss: 0.0215\n",
      "Epoch: 68, Loss: 0.0048\n",
      "Epoch: 69, Loss: 0.0144\n",
      "Epoch: 70, Loss: 0.0110\n",
      "Epoch: 71, Loss: 0.0346\n",
      "Epoch: 72, Loss: 0.0166\n",
      "Epoch: 73, Loss: 0.0046\n",
      "Epoch: 74, Loss: 0.0057\n",
      "Epoch: 75, Loss: 0.0140\n",
      "Epoch: 76, Loss: 0.0084\n",
      "Epoch: 77, Loss: 0.0151\n",
      "Epoch: 78, Loss: 0.0280\n",
      "Epoch: 79, Loss: 0.0094\n",
      "Epoch: 80, Loss: 0.0161\n",
      "Epoch: 81, Loss: 0.0384\n",
      "Epoch: 82, Loss: 0.0114\n",
      "Epoch: 83, Loss: 0.0335\n",
      "Epoch: 84, Loss: 0.0122\n",
      "Epoch: 85, Loss: 0.0116\n",
      "Epoch: 86, Loss: 0.0065\n",
      "Epoch: 87, Loss: 0.0088\n",
      "Epoch: 88, Loss: 0.0139\n",
      "Epoch: 89, Loss: 0.0079\n",
      "Epoch: 90, Loss: 0.0062\n",
      "Epoch: 91, Loss: 0.0072\n",
      "Epoch: 92, Loss: 0.0069\n",
      "Epoch: 93, Loss: 0.0056\n",
      "Epoch: 94, Loss: 0.0105\n",
      "Epoch: 95, Loss: 0.0070\n",
      "Epoch: 96, Loss: 0.0169\n",
      "Epoch: 97, Loss: 0.0125\n",
      "Epoch: 98, Loss: 0.0074\n",
      "Epoch: 99, Loss: 0.0114\n"
     ]
    }
   ],
   "source": [
    "n_epochs = 100\n",
    "\n",
    "for epoch in range(n_epochs):\n",
    "    for imgs, labels in train_loader:\n",
    "        batch_size = imgs.shape[0]\n",
    "        outputs = model(imgs.view(batch_size, -1))\n",
    "        loss = loss_fn(outputs, labels)\n",
    "        \n",
    "        optimizer.zero_grad()\n",
    "        loss.backward()\n",
    "        optimizer.step()\n",
    "\n",
    "    print(f\"Epoch: {epoch}, Loss: {loss.item():.4f}\")"
   ]
  },
  {
   "cell_type": "code",
   "execution_count": 24,
   "id": "56e46733-6c2d-4da7-b25c-c95f7dd581dd",
   "metadata": {},
   "outputs": [
    {
     "name": "stdout",
     "output_type": "stream",
     "text": [
      "Accuracy: 81.20%\n"
     ]
    }
   ],
   "source": [
    "val_loader = torch.utils.data.DataLoader(cifar2_val, batch_size=64, shuffle=False)\n",
    "\n",
    "correct = 0\n",
    "total = 0\n",
    "\n",
    "with torch.no_grad():\n",
    "    for imgs, labels in val_loader:\n",
    "        batch_size = imgs.shape[0]\n",
    "        outputs = model(imgs.view(batch_size, -1))\n",
    "        _, predicted = torch.max(outputs, dim=1)\n",
    "        total += labels.shape[0]\n",
    "        correct += int((predicted == labels).sum())\n",
    "\n",
    "accuracy = 100 * correct / total\n",
    "print(f\"Accuracy: {accuracy:.2f}%\")"
   ]
  },
  {
   "cell_type": "markdown",
   "id": "d5bd43d6-aeb4-4ad1-bf87-c1ec39f91470",
   "metadata": {},
   "source": [
    "## Improved Model"
   ]
  },
  {
   "cell_type": "code",
   "execution_count": 38,
   "id": "516035cc-ad2a-4277-9107-4791b52feb3b",
   "metadata": {},
   "outputs": [],
   "source": [
    "from tqdm import tqdm\n",
    "import matplotlib.pyplot as plt\n",
    "\n",
    "import torch\n",
    "import torch.nn as nn\n",
    "import torch.optim as optim\n",
    "\n",
    "from torchvision import datasets\n",
    "from torchvision import transforms"
   ]
  },
  {
   "cell_type": "code",
   "execution_count": 28,
   "id": "1019b6c9-0ffa-4d56-86ad-b2b1bbbd7ac4",
   "metadata": {},
   "outputs": [],
   "source": [
    "transform = transforms.Compose([\n",
    "    transforms.ToTensor(),\n",
    "    transforms.Normalize((0.4914, 0.4822, 0.4465), (0.2470, 0.2435, 0.2616)),\n",
    "])"
   ]
  },
  {
   "cell_type": "code",
   "execution_count": 29,
   "id": "663636a1-a5f3-47e4-af19-448df13e9fe6",
   "metadata": {},
   "outputs": [],
   "source": [
    "cifar10 = datasets.CIFAR10(\"data/\", train=True, download=False, transform=transform)\n",
    "cifar10_val = datasets.CIFAR10(\"data/\", train=False, download=False, transform=transform)"
   ]
  },
  {
   "cell_type": "code",
   "execution_count": 30,
   "id": "8023e55e-20d3-4710-8251-e50c5abe576d",
   "metadata": {},
   "outputs": [],
   "source": [
    "label_map = {0: 0, 2: 1}\n",
    "class_names = [\"airplane\", \"bird\"]\n",
    "\n",
    "cifar2 = [(img, label_map[label]) for img, label in cifar10 if label in [0, 2]]\n",
    "cifar2_val = [(img, label_map[label]) for img, label in cifar10_val if label in [0, 2]]"
   ]
  },
  {
   "cell_type": "code",
   "execution_count": 39,
   "id": "43eb7145-7cbb-449a-a2ff-beca32c70a4d",
   "metadata": {},
   "outputs": [],
   "source": [
    "train_loader = torch.utils.data.DataLoader(cifar2, batch_size=64, shuffle=True)\n",
    "val_loader = torch.utils.data.DataLoader(cifar2_val, batch_size=64, shuffle=False)"
   ]
  },
  {
   "cell_type": "code",
   "execution_count": 40,
   "id": "4a5303fe-d331-456e-9c72-c3fa72b61f3b",
   "metadata": {},
   "outputs": [],
   "source": [
    "in_features = 3 * 32 * 32\n",
    "out_features = 2\n",
    "\n",
    "model = nn.Sequential(\n",
    "    nn.Linear(in_features, 1024),\n",
    "    nn.Tanh(),\n",
    "    nn.Linear(1024, 512),\n",
    "    nn.Tanh(),\n",
    "    nn.Linear(512, 128),\n",
    "    nn.Tanh(),\n",
    "    nn.Linear(128, out_features),\n",
    ")"
   ]
  },
  {
   "cell_type": "code",
   "execution_count": 41,
   "id": "ae6a2e8d-671f-4a38-8a0b-e266214554d6",
   "metadata": {},
   "outputs": [],
   "source": [
    "learning_rate = 1e-2\n",
    "\n",
    "optimizer = optim.SGD(model.parameters(), lr=learning_rate)"
   ]
  },
  {
   "cell_type": "code",
   "execution_count": 42,
   "id": "2dca71ec-7dd8-4b09-9317-b17deda12f2e",
   "metadata": {},
   "outputs": [],
   "source": [
    "loss_fn = nn.CrossEntropyLoss()"
   ]
  },
  {
   "cell_type": "code",
   "execution_count": 43,
   "id": "9cf67d03-898d-4de9-8985-507c2cd4b479",
   "metadata": {},
   "outputs": [
    {
     "name": "stderr",
     "output_type": "stream",
     "text": [
      "100%|██████████| 100/100 [03:40<00:00,  2.21s/it]\n"
     ]
    },
    {
     "data": {
      "image/png": "[encoded data removed]",
      "text/plain": [
       "<Figure size 640x480 with 1 Axes>"
      ]
     },
     "metadata": {},
     "output_type": "display_data"
    }
   ],
   "source": [
    "n_epochs = 100\n",
    "epochs = list(range(n_epochs))\n",
    "losses = []\n",
    "\n",
    "for epoch in tqdm(epochs):\n",
    "    for imgs, labels in train_loader:\n",
    "        batch_size = imgs.shape[0]\n",
    "        outputs = model(imgs.view(batch_size, -1))\n",
    "        loss = loss_fn(outputs, labels)\n",
    "        \n",
    "        optimizer.zero_grad()\n",
    "        loss.backward()\n",
    "        optimizer.step()\n",
    "\n",
    "    losses.append(loss.item())\n",
    "\n",
    "plt.plot(epochs, losses)\n",
    "plt.xlabel(\"Epoch\")\n",
    "plt.ylabel(\"Loss\")\n",
    "plt.title(\"Training Loss\")\n",
    "plt.show()"
   ]
  },
  {
   "cell_type": "code",
   "execution_count": 44,
   "id": "d02a9ce7-a9e0-4ec2-9b04-265314460fc2",
   "metadata": {},
   "outputs": [],
   "source": [
    "def evaluate(data_loader, model):\n",
    "    correct = 0\n",
    "    total = 0\n",
    "\n",
    "    with torch.no_grad():\n",
    "        for imgs, labels in data_loader:\n",
    "            batch_size = imgs.shape[0]\n",
    "            outputs = model(imgs.view(batch_size, -1))\n",
    "            _, predicted = torch.max(outputs, dim=1)\n",
    "            total += labels.shape[0]\n",
    "            correct += int((predicted == labels).sum())\n",
    "    \n",
    "    accuracy = 100 * correct / total\n",
    "    return accuracy"
   ]
  },
  {
   "cell_type": "code",
   "execution_count": 45,
   "id": "fe74cd35-c384-4118-9cc1-9bf16e60ff38",
   "metadata": {},
   "outputs": [
    {
     "name": "stdout",
     "output_type": "stream",
     "text": [
      "Training accuracy: 100.00%, Validation accuracy: 81.10%\n"
     ]
    }
   ],
   "source": [
    "train_accuracy = evaluate(train_loader, model)\n",
    "val_accuracy = evaluate(val_loader, model)\n",
    "\n",
    "print(f\"Training accuracy: {train_accuracy:.2f}%, Validation accuracy: {val_accuracy:.2f}%\")"
   ]
  },
  {
   "cell_type": "code",
   "execution_count": 46,
   "id": "fa868b0f-5dcf-41ab-94d7-dded499542f8",
   "metadata": {},
   "outputs": [
    {
     "data": {
      "text/plain": [
       "(3737474, [3145728, 1024, 524288, 512, 65536, 128, 256, 2])"
      ]
     },
     "execution_count": 46,
     "metadata": {},
     "output_type": "execute_result"
    }
   ],
   "source": [
    "numel_list = [p.numel() for p in model.parameters() if p.requires_grad == True]\n",
    "\n",
    "sum(numel_list), numel_list"
   ]
  },
  {
   "cell_type": "code",
   "execution_count": 48,
   "id": "85137817-7eac-4a96-a67c-dc580bb7aecd",
   "metadata": {},
   "outputs": [
    {
     "data": {
      "text/plain": [
       "(torch.Size([1024, 3072]), torch.Size([1024]))"
      ]
     },
     "execution_count": 48,
     "metadata": {},
     "output_type": "execute_result"
    }
   ],
   "source": [
    "linear = nn.Linear(3072, 1024)\n",
    "\n",
    "linear.weight.shape, linear.bias.shape"
   ]
  },
  {
   "cell_type": "markdown",
   "id": "d1418ed0-e7d4-462e-8ac0-5ef7bb9e522f",
   "metadata": {},
   "source": [
    "## Exercises"
   ]
  },
  {
   "cell_type": "code",
   "execution_count": 2,
   "id": "e2cf6466-8a3b-4dd1-84a3-f38c8b57cc27",
   "metadata": {},
   "outputs": [],
   "source": [
    "import tqdm\n",
    "import matplotlib.pyplot as plt\n",
    "\n",
    "import torch\n",
    "import torch.nn as nn\n",
    "import torch.optim as optim\n",
    "\n",
    "from torchvision import datasets\n",
    "from torchvision import transforms"
   ]
  },
  {
   "cell_type": "markdown",
   "id": "bba197d0-2c32-4447-b226-72cd49287433",
   "metadata": {},
   "source": [
    "### Random Cropping"
   ]
  },
  {
   "cell_type": "code",
   "execution_count": 24,
   "id": "cb53c67b-aff5-4469-88b3-e0402de4368f",
   "metadata": {},
   "outputs": [],
   "source": [
    "transform = transforms.Compose([\n",
    "    transforms.ToTensor(),\n",
    "])"
   ]
  },
  {
   "cell_type": "code",
   "execution_count": 19,
   "id": "c736b786-47ff-440b-b39e-e02e539e6f52",
   "metadata": {},
   "outputs": [],
   "source": [
    "cifar10 = datasets.CIFAR10(\"data/\", train=True, download=False, transform=transform)\n",
    "cifar10_val = datasets.CIFAR10(\"data/\", train=False, download=False, transform=transform)"
   ]
  },
  {
   "cell_type": "code",
   "execution_count": 33,
   "id": "139e45fb-02bb-4448-9eb9-d6ab66fbc6df",
   "metadata": {},
   "outputs": [],
   "source": [
    "crop = transforms.RandomCrop(size=(24, 24))"
   ]
  },
  {
   "cell_type": "code",
   "execution_count": 44,
   "id": "96ef8574-5531-47bd-b15f-f0fe448cf4de",
   "metadata": {},
   "outputs": [
    {
     "data": {
      "image/png": "[encoded data removed]",
      "text/plain": [
       "<Figure size 640x480 with 4 Axes>"
      ]
     },
     "metadata": {},
     "output_type": "display_data"
    }
   ],
   "source": [
    "img37, _ = cifar10[37]\n",
    "img42, _ = cifar10[42]\n",
    "\n",
    "img37_t = crop(img37)\n",
    "img42_t = crop(img42)\n",
    "\n",
    "fig, axs = plt.subplots(2, 2)\n",
    "\n",
    "axs[0, 0].imshow(img37.permute(1, 2, 0))\n",
    "axs[0, 1].imshow(img37_t.permute(1, 2, 0))\n",
    "axs[1, 0].imshow(img42.permute(1, 2, 0))\n",
    "axs[1, 1].imshow(img42_t.permute(1, 2, 0))\n",
    "\n",
    "axs[0, 0].set_title(\"Original\")\n",
    "axs[0, 1].set_title(\"Cropped\")\n",
    "\n",
    "plt.tight_layout()\n",
    "plt.savefig(\"data/cropped-samples.png\")\n",
    "plt.show()"
   ]
  },
  {
   "cell_type": "code",
   "execution_count": 43,
   "id": "823abd3f-4665-4c62-a603-4bce227bdeb9",
   "metadata": {},
   "outputs": [
    {
     "data": {
      "image/png": "[encoded data removed]",
      "text/plain": [
       "<Figure size 600x200 with 3 Axes>"
      ]
     },
     "metadata": {},
     "output_type": "display_data"
    }
   ],
   "source": [
    "img, _ = cifar10[37]\n",
    "\n",
    "img_t1 = crop(img)\n",
    "img_t2 = crop(img)\n",
    "\n",
    "fig, axs = plt.subplots(1, 3, figsize=(6, 2))\n",
    "\n",
    "axs[0].imshow(img.permute(1, 2, 0))\n",
    "axs[1].imshow(img_t1.permute(1, 2, 0))\n",
    "axs[2].imshow(img_t2.permute(1, 2, 0))\n",
    "\n",
    "axs[0].set_title(\"Original\")\n",
    "axs[1].set_title(\"First crop\")\n",
    "axs[2].set_title(\"Second crop\")\n",
    "\n",
    "plt.tight_layout()\n",
    "plt.savefig(\"data/subsequent-crops.png\")\n",
    "plt.show()"
   ]
  },
  {
   "cell_type": "markdown",
   "id": "c7bccea8-3bc9-4386-8ad2-8e2583685827",
   "metadata": {},
   "source": [
    "### Training on Cropped Images"
   ]
  },
  {
   "cell_type": "code",
   "execution_count": 1,
   "id": "c426b05f-e045-4d54-a4d0-6240b09251b7",
   "metadata": {},
   "outputs": [],
   "source": [
    "from tqdm import tqdm\n",
    "import matplotlib.pyplot as plt\n",
    "\n",
    "import torch\n",
    "import torch.nn as nn\n",
    "import torch.optim as optim\n",
    "from torch.utils.data import DataLoader\n",
    "\n",
    "from torchvision import datasets\n",
    "from torchvision import transforms"
   ]
  },
  {
   "cell_type": "code",
   "execution_count": 2,
   "id": "ed1840c9-82c2-43e8-acbd-2dd40c666274",
   "metadata": {},
   "outputs": [],
   "source": [
    "transform = transforms.Compose([\n",
    "    transforms.ToTensor(),\n",
    "    transforms.Normalize(mean=(0.4914, 0.4822, 0.4465), std=(0.2470, 0.2435, 0.2616)),\n",
    "    transforms.RandomCrop(size=(24, 24)),\n",
    "])"
   ]
  },
  {
   "cell_type": "code",
   "execution_count": 3,
   "id": "01f34d5d-9d4b-4861-8c14-c4faf366eda6",
   "metadata": {},
   "outputs": [],
   "source": [
    "cifar10 = datasets.CIFAR10(\"data/\", train=True, download=False, transform=transform)\n",
    "cifar10_val = datasets.CIFAR10(\"data/\", train=False, download=False, transform=transform)"
   ]
  },
  {
   "cell_type": "code",
   "execution_count": 4,
   "id": "46f77e13-77ab-47c7-8c61-70295d82179f",
   "metadata": {},
   "outputs": [],
   "source": [
    "label_map = {0: 0, 2: 1}\n",
    "class_names = [\"airplane\", \"bird\"]\n",
    "\n",
    "cifar2 = [(img, label_map[label]) for img, label in cifar10 if label in [0, 2]]\n",
    "cifar2_val = [(img, label_map[label]) for img, label in cifar10_val if label in [0, 2]]"
   ]
  },
  {
   "cell_type": "code",
   "execution_count": 5,
   "id": "c50d0fe0-8933-4321-b383-8976b233f58e",
   "metadata": {},
   "outputs": [],
   "source": [
    "train_loader = DataLoader(cifar2, batch_size=64, shuffle=True)\n",
    "val_loader = DataLoader(cifar2_val, batch_size=64, shuffle=False)"
   ]
  },
  {
   "cell_type": "code",
   "execution_count": 6,
   "id": "d605f8ab-eccf-43ff-a9d7-66fffb077a51",
   "metadata": {},
   "outputs": [],
   "source": [
    "in_features = 3 * 24 * 24\n",
    "out_features = 2\n",
    "\n",
    "model = nn.Sequential(\n",
    "    nn.Linear(in_features, 1024),\n",
    "    nn.Tanh(),\n",
    "    nn.Linear(1024, 512),\n",
    "    nn.Tanh(),\n",
    "    nn.Linear(512, 128),\n",
    "    nn.Tanh(),\n",
    "    nn.Linear(128, out_features),\n",
    ")"
   ]
  },
  {
   "cell_type": "code",
   "execution_count": 7,
   "id": "c6fcee95-6ce1-4896-93b7-b185eb0e81b5",
   "metadata": {},
   "outputs": [],
   "source": [
    "loss_fn = nn.CrossEntropyLoss()"
   ]
  },
  {
   "cell_type": "code",
   "execution_count": 8,
   "id": "67dca8be-3a6f-4156-80c9-f0a8f64b3169",
   "metadata": {},
   "outputs": [],
   "source": [
    "learning_rate = 1e-2\n",
    "\n",
    "optimizer = optim.SGD(model.parameters(), lr=learning_rate)"
   ]
  },
  {
   "cell_type": "code",
   "execution_count": 9,
   "id": "1aab3073-ca0f-41d6-a925-84af4bb5feda",
   "metadata": {},
   "outputs": [],
   "source": [
    "def train(n_epochs, dataloader, model, loss_fn, optimizer):\n",
    "    epochs = list(range(n_epochs))\n",
    "    losses = []\n",
    "    \n",
    "    for epoch in tqdm(epochs):\n",
    "        for imgs, labels in dataloader:\n",
    "            batch_size = imgs.shape[0]\n",
    "            outputs = model(imgs.view(batch_size, -1))\n",
    "            loss = loss_fn(outputs, labels)\n",
    "\n",
    "            optimizer.zero_grad()\n",
    "            loss.backward()\n",
    "            optimizer.step()\n",
    "        \n",
    "        losses.append(loss.item())\n",
    "    \n",
    "    plt.plot(epochs, losses)\n",
    "    plt.xlabel(\"Epoch\")\n",
    "    plt.ylabel(\"Loss\")\n",
    "    plt.title(\"Training Loss\")\n",
    "    plt.show()"
   ]
  },
  {
   "cell_type": "code",
   "execution_count": 10,
   "id": "a262c764-e5f2-4917-a615-0a8cca239687",
   "metadata": {},
   "outputs": [],
   "source": [
    "def evaluate(dataloader, model):\n",
    "    correct = 0\n",
    "    total = 0\n",
    "\n",
    "    with torch.no_grad():\n",
    "        for imgs, labels in dataloader:\n",
    "            batch_size = imgs.shape[0]\n",
    "            outputs = model(imgs.view(batch_size, -1))\n",
    "            _, predicted = torch.max(outputs, dim=1)\n",
    "            total += labels.shape[0]\n",
    "            correct += int((predicted == labels).sum())\n",
    "    \n",
    "    accuracy = 100 * correct / total\n",
    "    return accuracy"
   ]
  },
  {
   "cell_type": "code",
   "execution_count": 11,
   "id": "b901cb2e-3329-47c0-bcae-fbfbefbc5914",
   "metadata": {},
   "outputs": [
    {
     "name": "stderr",
     "output_type": "stream",
     "text": [
      "100%|██████████| 100/100 [02:22<00:00,  1.43s/it]\n"
     ]
    },
    {
     "data": {
      "image/png": "[encoded data removed]",
      "text/plain": [
       "<Figure size 640x480 with 1 Axes>"
      ]
     },
     "metadata": {},
     "output_type": "display_data"
    }
   ],
   "source": [
    "train(\n",
    "    n_epochs=100,\n",
    "    dataloader=train_loader,\n",
    "    model=model,\n",
    "    loss_fn=loss_fn,\n",
    "    optimizer=optimizer\n",
    ")"
   ]
  },
  {
   "cell_type": "code",
   "execution_count": 12,
   "id": "abb07790-96c0-4aed-ab81-d6a362e76c0c",
   "metadata": {},
   "outputs": [
    {
     "name": "stdout",
     "output_type": "stream",
     "text": [
      "Training accuracy: 100.00%, Validation accuracy: 77.15%\n"
     ]
    }
   ],
   "source": [
    "train_accuracy = evaluate(train_loader, model)\n",
    "val_accuracy = evaluate(val_loader, model)\n",
    "\n",
    "print(f\"Training accuracy: {train_accuracy:.2f}%, Validation accuracy: {val_accuracy:.2f}%\")"
   ]
  },
  {
   "cell_type": "markdown",
   "id": "240155a2-e91a-4df9-b934-1bc0c96501fe",
   "metadata": {},
   "source": [
    "### Training with MSE Loss"
   ]
  },
  {
   "cell_type": "code",
   "execution_count": 13,
   "id": "f593739d-644b-461f-b917-280ea8b24d0c",
   "metadata": {},
   "outputs": [],
   "source": [
    "from tqdm import tqdm\n",
    "import matplotlib.pyplot as plt\n",
    "\n",
    "import torch\n",
    "import torch.nn as nn\n",
    "import torch.optim as optim\n",
    "from torch.utils.data import DataLoader\n",
    "\n",
    "from torchvision import datasets\n",
    "from torchvision import transforms"
   ]
  },
  {
   "cell_type": "code",
   "execution_count": 31,
   "id": "721ef0f0-6918-49da-ae79-9c48f2a40786",
   "metadata": {},
   "outputs": [],
   "source": [
    "transform = transforms.Compose([\n",
    "    transforms.ToTensor(),\n",
    "    transforms.Normalize(mean=(0.4914, 0.4822, 0.4465), std=(0.2470, 0.2435, 0.2616)),\n",
    "])"
   ]
  },
  {
   "cell_type": "code",
   "execution_count": 32,
   "id": "758ed17b-cfa1-4dc5-a860-0b105fc3cec2",
   "metadata": {},
   "outputs": [],
   "source": [
    "cifar10 = datasets.CIFAR10(\"data/\", train=True, download=False, transform=transform)\n",
    "cifar10_val = datasets.CIFAR10(\"data/\", train=False, download=False, transform=transform)"
   ]
  },
  {
   "cell_type": "code",
   "execution_count": 41,
   "id": "2a1261ef-97c5-4142-8076-32002b72f124",
   "metadata": {},
   "outputs": [],
   "source": [
    "label_map = {\n",
    "    0: torch.tensor([1, 0], dtype=torch.float32),\n",
    "    2: torch.tensor([0, 1], dtype=torch.float32)\n",
    "}\n",
    "class_names = [\"airplane\", \"bird\"]\n",
    "\n",
    "cifar2 = [(img, label_map[label]) for img, label in cifar10 if label in [0, 2]]\n",
    "cifar2_val = [(img, label_map[label]) for img, label in cifar10_val if label in [0, 2]]"
   ]
  },
  {
   "cell_type": "code",
   "execution_count": 42,
   "id": "05df6a03-e25a-4f3d-ad31-1f5e81ca48eb",
   "metadata": {},
   "outputs": [],
   "source": [
    "train_loader = DataLoader(cifar2, batch_size=64, shuffle=True)\n",
    "val_loader = DataLoader(cifar2_val, batch_size=64, shuffle=False)"
   ]
  },
  {
   "cell_type": "code",
   "execution_count": 43,
   "id": "656900e0-587d-4ed0-b9f2-b38e1db752f0",
   "metadata": {},
   "outputs": [],
   "source": [
    "in_features = 3 * 32 * 32\n",
    "out_features = 2\n",
    "\n",
    "model = nn.Sequential(\n",
    "    nn.Linear(in_features, 1024),\n",
    "    nn.Tanh(),\n",
    "    nn.Linear(1024, 512),\n",
    "    nn.Tanh(),\n",
    "    nn.Linear(512, 128),\n",
    "    nn.Tanh(),\n",
    "    nn.Linear(128, out_features),\n",
    ")"
   ]
  },
  {
   "cell_type": "code",
   "execution_count": 44,
   "id": "6cbec481-49dd-445d-b134-a1cf03a92dca",
   "metadata": {},
   "outputs": [],
   "source": [
    "loss_fn = nn.MSELoss()"
   ]
  },
  {
   "cell_type": "code",
   "execution_count": 45,
   "id": "c5b007a2-82d3-45e7-91cf-308c043be0c5",
   "metadata": {},
   "outputs": [],
   "source": [
    "learning_rate = 1e-2\n",
    "\n",
    "optimizer = optim.SGD(model.parameters(), lr=learning_rate)"
   ]
  },
  {
   "cell_type": "code",
   "execution_count": 46,
   "id": "13462952-a944-4819-b977-82d13335f3d6",
   "metadata": {},
   "outputs": [],
   "source": [
    "def train(n_epochs, dataloader, model, loss_fn, optimizer):\n",
    "    epochs = list(range(n_epochs))\n",
    "    losses = []\n",
    "    \n",
    "    for epoch in tqdm(epochs):\n",
    "        for imgs, labels in dataloader:\n",
    "            batch_size = imgs.shape[0]\n",
    "            outputs = model(imgs.view(batch_size, -1))\n",
    "            loss = loss_fn(outputs, labels)\n",
    "\n",
    "            optimizer.zero_grad()\n",
    "            loss.backward()\n",
    "            optimizer.step()\n",
    "        \n",
    "        losses.append(loss.item())\n",
    "    \n",
    "    plt.plot(epochs, losses)\n",
    "    plt.xlabel(\"Epoch\")\n",
    "    plt.ylabel(\"Loss\")\n",
    "    plt.title(\"Training Loss\")\n",
    "    plt.show()"
   ]
  },
  {
   "cell_type": "code",
   "execution_count": 50,
   "id": "50514349-4e93-4884-b777-ebca70632d7f",
   "metadata": {},
   "outputs": [],
   "source": [
    "def evaluate(dataloader, model):\n",
    "    correct = 0\n",
    "    total = 0\n",
    "\n",
    "    with torch.no_grad():\n",
    "        for imgs, labels in dataloader:\n",
    "            batch_size = imgs.shape[0]\n",
    "            outputs = model(imgs.view(batch_size, -1))\n",
    "            _, pred = torch.max(outputs, dim=1)\n",
    "            _, gt = torch.max(labels, dim=1)\n",
    "            total += labels.shape[0]\n",
    "            correct += int((pred == gt).sum())\n",
    "    \n",
    "    accuracy = 100 * correct / total\n",
    "    return accuracy"
   ]
  },
  {
   "cell_type": "code",
   "execution_count": 48,
   "id": "6805e74b-886b-415a-9560-a61fe328e3bb",
   "metadata": {},
   "outputs": [
    {
     "name": "stderr",
     "output_type": "stream",
     "text": [
      "100%|██████████| 100/100 [03:49<00:00,  2.30s/it]\n"
     ]
    },
    {
     "data": {
      "image/png": "[encoded data removed]",
      "text/plain": [
       "<Figure size 640x480 with 1 Axes>"
      ]
     },
     "metadata": {},
     "output_type": "display_data"
    }
   ],
   "source": [
    "train(\n",
    "    n_epochs=100,\n",
    "    dataloader=train_loader,\n",
    "    model=model,\n",
    "    loss_fn=loss_fn,\n",
    "    optimizer=optimizer\n",
    ")"
   ]
  },
  {
   "cell_type": "code",
   "execution_count": 51,
   "id": "c29cc0a5-3004-49b5-bbd0-01cc5582de31",
   "metadata": {},
   "outputs": [
    {
     "name": "stdout",
     "output_type": "stream",
     "text": [
      "Training accuracy: 98.83%, Validation accuracy: 79.55%\n"
     ]
    }
   ],
   "source": [
    "train_accuracy = evaluate(train_loader, model)\n",
    "val_accuracy = evaluate(val_loader, model)\n",
    "\n",
    "print(f\"Training accuracy: {train_accuracy:.2f}%, Validation accuracy: {val_accuracy:.2f}%\")"
   ]
  },
  {
   "cell_type": "markdown",
   "id": "3fa84290-fd00-4b39-a093-985e5fb7f1e3",
   "metadata": {},
   "source": [
    "### Simpler Neural Network"
   ]
  },
  {
   "cell_type": "code",
   "execution_count": 52,
   "id": "f1003ac7-e3ad-43d7-9e01-7d3700cd2df3",
   "metadata": {},
   "outputs": [],
   "source": [
    "from tqdm import tqdm\n",
    "import matplotlib.pyplot as plt\n",
    "\n",
    "import torch\n",
    "import torch.nn as nn\n",
    "import torch.optim as optim\n",
    "\n",
    "from torchvision import datasets\n",
    "from torchvision import transforms"
   ]
  },
  {
   "cell_type": "code",
   "execution_count": 53,
   "id": "106ab333-a707-42ed-82cb-ef9f4a293769",
   "metadata": {},
   "outputs": [],
   "source": [
    "transform = transforms.Compose([\n",
    "    transforms.ToTensor(),\n",
    "    transforms.Normalize((0.4914, 0.4822, 0.4465), (0.2470, 0.2435, 0.2616)),\n",
    "])"
   ]
  },
  {
   "cell_type": "code",
   "execution_count": 54,
   "id": "56577ee5-942a-4023-85c8-34d577347750",
   "metadata": {},
   "outputs": [],
   "source": [
    "cifar10 = datasets.CIFAR10(\"data/\", train=True, download=False, transform=transform)\n",
    "cifar10_val = datasets.CIFAR10(\"data/\", train=False, download=False, transform=transform)"
   ]
  },
  {
   "cell_type": "code",
   "execution_count": 55,
   "id": "57e72591-3562-4fd3-85e8-78a4be2f8633",
   "metadata": {},
   "outputs": [],
   "source": [
    "label_map = {0: 0, 2: 1}\n",
    "class_names = [\"airplane\", \"bird\"]\n",
    "\n",
    "cifar2 = [(img, label_map[label]) for img, label in cifar10 if label in [0, 2]]\n",
    "cifar2_val = [(img, label_map[label]) for img, label in cifar10_val if label in [0, 2]]"
   ]
  },
  {
   "cell_type": "code",
   "execution_count": 56,
   "id": "d1a044ed-8e1b-484e-aa43-9ca34241b31d",
   "metadata": {},
   "outputs": [],
   "source": [
    "train_loader = torch.utils.data.DataLoader(cifar2, batch_size=64, shuffle=True)\n",
    "val_loader = torch.utils.data.DataLoader(cifar2_val, batch_size=64, shuffle=False)"
   ]
  },
  {
   "cell_type": "code",
   "execution_count": 82,
   "id": "486b1a0c-377f-4931-a811-ea3a064006f2",
   "metadata": {},
   "outputs": [],
   "source": [
    "in_features = 3 * 32 * 32\n",
    "out_features = 2\n",
    "\n",
    "model = nn.Sequential(\n",
    "    nn.Linear(in_features, 2),\n",
    "    nn.ReLU(),\n",
    "    nn.Linear(2, out_features),\n",
    ")"
   ]
  },
  {
   "cell_type": "code",
   "execution_count": 83,
   "id": "a22b4de0-913b-47cb-9ddd-d348586537fe",
   "metadata": {},
   "outputs": [],
   "source": [
    "learning_rate = 1e-2\n",
    "\n",
    "optimizer = optim.SGD(model.parameters(), lr=learning_rate)"
   ]
  },
  {
   "cell_type": "code",
   "execution_count": 84,
   "id": "aec15ff0-1369-4de7-810d-000f787d550b",
   "metadata": {},
   "outputs": [],
   "source": [
    "loss_fn = nn.CrossEntropyLoss()"
   ]
  },
  {
   "cell_type": "code",
   "execution_count": 85,
   "id": "20f99065-b342-40a2-b002-dbf530c4c423",
   "metadata": {},
   "outputs": [],
   "source": [
    "def train(n_epochs, data_loader, model, loss_fn, optimizer):\n",
    "    epochs = list(range(n_epochs))\n",
    "    losses = []\n",
    "\n",
    "    for epoch in tqdm(epochs):\n",
    "        for imgs, labels in data_loader:\n",
    "            batch_size = imgs.shape[0]\n",
    "            outputs = model(imgs.view(batch_size, -1))\n",
    "            loss = loss_fn(outputs, labels)\n",
    "            \n",
    "            optimizer.zero_grad()\n",
    "            loss.backward()\n",
    "            optimizer.step()\n",
    "    \n",
    "        losses.append(loss.item())\n",
    "    \n",
    "    plt.plot(epochs, losses)\n",
    "    plt.xlabel(\"Epoch\")\n",
    "    plt.ylabel(\"Loss\")\n",
    "    plt.title(\"Training Loss\")\n",
    "    plt.show()"
   ]
  },
  {
   "cell_type": "code",
   "execution_count": 86,
   "id": "e29fad49-b79f-4b3d-a9cd-d8bb4396d1eb",
   "metadata": {},
   "outputs": [],
   "source": [
    "def evaluate(data_loader, model):\n",
    "    correct = 0\n",
    "    total = 0\n",
    "\n",
    "    with torch.no_grad():\n",
    "        for imgs, labels in data_loader:\n",
    "            batch_size = imgs.shape[0]\n",
    "            outputs = model(imgs.view(batch_size, -1))\n",
    "            _, predicted = torch.max(outputs, dim=1)\n",
    "            total += labels.shape[0]\n",
    "            correct += int((predicted == labels).sum())\n",
    "    \n",
    "    accuracy = 100 * correct / total\n",
    "    return accuracy"
   ]
  },
  {
   "cell_type": "code",
   "execution_count": 87,
   "id": "7c7a7d01-69b8-4e99-964a-91efee94401e",
   "metadata": {},
   "outputs": [
    {
     "name": "stderr",
     "output_type": "stream",
     "text": [
      "100%|██████████| 100/100 [00:18<00:00,  5.36it/s]\n"
     ]
    },
    {
     "data": {
      "image/png": "[encoded data removed]",
      "text/plain": [
       "<Figure size 640x480 with 1 Axes>"
      ]
     },
     "metadata": {},
     "output_type": "display_data"
    }
   ],
   "source": [
    "train(\n",
    "    n_epochs=100,\n",
    "    data_loader=train_loader,\n",
    "    model=model,\n",
    "    loss_fn=loss_fn,\n",
    "    optimizer=optimizer\n",
    ")"
   ]
  },
  {
   "cell_type": "code",
   "execution_count": 88,
   "id": "75ed4019-464a-4014-928f-bdb0aceeddf0",
   "metadata": {},
   "outputs": [
    {
     "name": "stdout",
     "output_type": "stream",
     "text": [
      "Training accuracy: 86.88%, Validation accuracy: 79.55%\n"
     ]
    }
   ],
   "source": [
    "train_accuracy = evaluate(train_loader, model)\n",
    "val_accuracy = evaluate(val_loader, model)\n",
    "\n",
    "print(f\"Training accuracy: {train_accuracy:.2f}%, Validation accuracy: {val_accuracy:.2f}%\")"
   ]
  },
  {
   "cell_type": "code",
   "execution_count": null,
   "id": "6a2389e8-45e1-4401-9704-1e0446a2c47a",
   "metadata": {},
   "outputs": [],
   "source": []
  }
 ],
 "metadata": {
  "kernelspec": {
   "display_name": "Python 3 (ipykernel)",
   "language": "python",
   "name": "python3"
  },
  "language_info": {
   "codemirror_mode": {
    "name": "ipython",
    "version": 3
   },
   "file_extension": ".py",
   "mimetype": "text/x-python",
   "name": "python",
   "nbconvert_exporter": "python",
   "pygments_lexer": "ipython3",
   "version": "3.12.2"
  }
 },
 "nbformat": 4,
 "nbformat_minor": 5
}
