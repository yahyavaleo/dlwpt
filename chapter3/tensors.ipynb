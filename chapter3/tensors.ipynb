{
 "cells": [
  {
   "cell_type": "markdown",
   "id": "3817c676-843b-4465-9a49-2e32ed4d9e7d",
   "metadata": {},
   "source": [
    "# Tensors"
   ]
  },
  {
   "cell_type": "markdown",
   "id": "3f934189-7295-41fe-bba7-9a7de113cf1c",
   "metadata": {},
   "source": [
    "## Introduction"
   ]
  },
  {
   "cell_type": "code",
   "execution_count": 1,
   "id": "1f2ea207-04fa-414b-90d6-8ab359042284",
   "metadata": {},
   "outputs": [],
   "source": [
    "import torch\n",
    "import math"
   ]
  },
  {
   "cell_type": "code",
   "execution_count": 2,
   "id": "4bfef14f-b1c8-4eb3-a5ca-04c79e4066ce",
   "metadata": {},
   "outputs": [],
   "source": [
    "a = [1.0, 2.0, 1.0]"
   ]
  },
  {
   "cell_type": "code",
   "execution_count": 3,
   "id": "4c0a7069-2697-4a0e-830f-84af06f9aec4",
   "metadata": {},
   "outputs": [
    {
     "data": {
      "text/plain": [
       "1.0"
      ]
     },
     "execution_count": 3,
     "metadata": {},
     "output_type": "execute_result"
    }
   ],
   "source": [
    "a[0]"
   ]
  },
  {
   "cell_type": "code",
   "execution_count": 4,
   "id": "249e66cb-6b6b-435e-b473-038eacfb6eb9",
   "metadata": {},
   "outputs": [
    {
     "data": {
      "text/plain": [
       "[1.0, 2.0, 3.0]"
      ]
     },
     "execution_count": 4,
     "metadata": {},
     "output_type": "execute_result"
    }
   ],
   "source": [
    "a[2] = 3.0\n",
    "a"
   ]
  },
  {
   "cell_type": "code",
   "execution_count": 5,
   "id": "9184a358-d405-4efa-9a00-eccc953d7cf4",
   "metadata": {},
   "outputs": [
    {
     "data": {
      "text/plain": [
       "tensor([1., 1., 1.])"
      ]
     },
     "execution_count": 5,
     "metadata": {},
     "output_type": "execute_result"
    }
   ],
   "source": [
    "a = torch.ones(3)\n",
    "a"
   ]
  },
  {
   "cell_type": "code",
   "execution_count": 6,
   "id": "e5765ae4-1ebe-4181-b812-e8a4f245550c",
   "metadata": {},
   "outputs": [
    {
     "data": {
      "text/plain": [
       "tensor(1.)"
      ]
     },
     "execution_count": 6,
     "metadata": {},
     "output_type": "execute_result"
    }
   ],
   "source": [
    "a[1]"
   ]
  },
  {
   "cell_type": "code",
   "execution_count": 7,
   "id": "81b37024-30ec-40f4-bacf-cf128c1cc6b6",
   "metadata": {},
   "outputs": [
    {
     "data": {
      "text/plain": [
       "1.0"
      ]
     },
     "execution_count": 7,
     "metadata": {},
     "output_type": "execute_result"
    }
   ],
   "source": [
    "float(a[1])"
   ]
  },
  {
   "cell_type": "code",
   "execution_count": 8,
   "id": "eed7fab8-3516-470c-bb28-bf6bef848c71",
   "metadata": {},
   "outputs": [
    {
     "data": {
      "text/plain": [
       "tensor([1., 1., 2.])"
      ]
     },
     "execution_count": 8,
     "metadata": {},
     "output_type": "execute_result"
    }
   ],
   "source": [
    "a[2] = 2.0\n",
    "a"
   ]
  },
  {
   "cell_type": "code",
   "execution_count": 9,
   "id": "76fca7df-01b9-4ee6-9412-d3a40869f01e",
   "metadata": {},
   "outputs": [
    {
     "data": {
      "text/plain": [
       "tensor([4., 1., 5., 3., 2., 1.])"
      ]
     },
     "execution_count": 9,
     "metadata": {},
     "output_type": "execute_result"
    }
   ],
   "source": [
    "points = torch.zeros(6)\n",
    "points[0] = 4.0\n",
    "points[1] = 1.0\n",
    "points[2] = 5.0\n",
    "points[3] = 3.0\n",
    "points[4] = 2.0\n",
    "points[5] = 1.0\n",
    "points"
   ]
  },
  {
   "cell_type": "code",
   "execution_count": 10,
   "id": "ffa03c42-c89a-41ed-9771-595d7b3613aa",
   "metadata": {},
   "outputs": [
    {
     "data": {
      "text/plain": [
       "tensor([4., 1., 5., 3., 2., 1.])"
      ]
     },
     "execution_count": 10,
     "metadata": {},
     "output_type": "execute_result"
    }
   ],
   "source": [
    "points = torch.tensor([4.0, 1.0, 5.0, 3.0, 2.0, 1.0])\n",
    "points"
   ]
  },
  {
   "cell_type": "code",
   "execution_count": 11,
   "id": "d6612e5d-8e3c-4042-9baf-d69b206fc2aa",
   "metadata": {},
   "outputs": [
    {
     "data": {
      "text/plain": [
       "(4.0, 1.0)"
      ]
     },
     "execution_count": 11,
     "metadata": {},
     "output_type": "execute_result"
    }
   ],
   "source": [
    "float(points[0]), float(points[1])"
   ]
  },
  {
   "cell_type": "code",
   "execution_count": 12,
   "id": "c4df3f6c-f2e3-4646-83dc-4a1c566d7b9b",
   "metadata": {},
   "outputs": [
    {
     "data": {
      "text/plain": [
       "tensor([[4., 1.],\n",
       "        [5., 3.],\n",
       "        [2., 1.]])"
      ]
     },
     "execution_count": 12,
     "metadata": {},
     "output_type": "execute_result"
    }
   ],
   "source": [
    "points = torch.tensor([[4.0, 1.0], [5.0, 3.0], [2.0, 1.0]])\n",
    "points"
   ]
  },
  {
   "cell_type": "code",
   "execution_count": 13,
   "id": "7fd472d2-a98d-4e77-8eac-a62fbea1e785",
   "metadata": {},
   "outputs": [
    {
     "data": {
      "text/plain": [
       "torch.Size([3, 2])"
      ]
     },
     "execution_count": 13,
     "metadata": {},
     "output_type": "execute_result"
    }
   ],
   "source": [
    "points.shape"
   ]
  },
  {
   "cell_type": "code",
   "execution_count": 14,
   "id": "8e861d08-284c-4582-abb5-cc149e4daed5",
   "metadata": {},
   "outputs": [
    {
     "data": {
      "text/plain": [
       "tensor([[0., 0.],\n",
       "        [0., 0.],\n",
       "        [0., 0.]])"
      ]
     },
     "execution_count": 14,
     "metadata": {},
     "output_type": "execute_result"
    }
   ],
   "source": [
    "points = torch.zeros(3, 2)\n",
    "points"
   ]
  },
  {
   "cell_type": "code",
   "execution_count": 15,
   "id": "ef8b6591-07e3-4925-a1ac-bf1bc523f533",
   "metadata": {},
   "outputs": [
    {
     "data": {
      "text/plain": [
       "tensor(1.)"
      ]
     },
     "execution_count": 15,
     "metadata": {},
     "output_type": "execute_result"
    }
   ],
   "source": [
    "points = torch.tensor([[4.0, 1.0], [5.0, 3.0], [2.0, 1.0]])\n",
    "points[0, 1]"
   ]
  },
  {
   "cell_type": "code",
   "execution_count": 16,
   "id": "fd2489a6-31ca-49ca-8cb5-9b5f2f203df2",
   "metadata": {},
   "outputs": [
    {
     "data": {
      "text/plain": [
       "tensor([4., 1.])"
      ]
     },
     "execution_count": 16,
     "metadata": {},
     "output_type": "execute_result"
    }
   ],
   "source": [
    "points[0]"
   ]
  },
  {
   "cell_type": "markdown",
   "id": "0a8c67c1-9d3e-43a0-b418-529581b81a51",
   "metadata": {},
   "source": [
    "## Indexing Tensors"
   ]
  },
  {
   "cell_type": "code",
   "execution_count": 17,
   "id": "144dc4ed-dcec-42eb-8e55-7861a7edfbbd",
   "metadata": {},
   "outputs": [
    {
     "data": {
      "text/plain": [
       "tensor([[5., 3.],\n",
       "        [2., 1.]])"
      ]
     },
     "execution_count": 17,
     "metadata": {},
     "output_type": "execute_result"
    }
   ],
   "source": [
    "points[1:]"
   ]
  },
  {
   "cell_type": "code",
   "execution_count": 18,
   "id": "b0f6fc8d-e46f-4e07-baef-c97d3e243985",
   "metadata": {},
   "outputs": [
    {
     "data": {
      "text/plain": [
       "tensor([[5., 3.],\n",
       "        [2., 1.]])"
      ]
     },
     "execution_count": 18,
     "metadata": {},
     "output_type": "execute_result"
    }
   ],
   "source": [
    "points[1:, :]"
   ]
  },
  {
   "cell_type": "code",
   "execution_count": 19,
   "id": "b50cc449-6bc3-4837-995d-763ba5732b0a",
   "metadata": {},
   "outputs": [
    {
     "data": {
      "text/plain": [
       "tensor([5., 2.])"
      ]
     },
     "execution_count": 19,
     "metadata": {},
     "output_type": "execute_result"
    }
   ],
   "source": [
    "points[1:, 0]"
   ]
  },
  {
   "cell_type": "code",
   "execution_count": 20,
   "id": "1acfde28-020b-4970-929c-6c5528963fdc",
   "metadata": {},
   "outputs": [
    {
     "data": {
      "text/plain": [
       "tensor([[[4., 1.],\n",
       "         [5., 3.],\n",
       "         [2., 1.]]])"
      ]
     },
     "execution_count": 20,
     "metadata": {},
     "output_type": "execute_result"
    }
   ],
   "source": [
    "points[None]"
   ]
  },
  {
   "cell_type": "markdown",
   "id": "1b88e599-329a-49fb-bcf5-b42693938793",
   "metadata": {},
   "source": [
    "## Named Tensors"
   ]
  },
  {
   "cell_type": "code",
   "execution_count": 21,
   "id": "0c23ff22-ed0c-4c49-81df-63d7c567a910",
   "metadata": {},
   "outputs": [],
   "source": [
    "img_t = torch.randn(3, 5, 5)\n",
    "weights = torch.tensor([0.2126, 0.7152, 0.0722])"
   ]
  },
  {
   "cell_type": "code",
   "execution_count": 22,
   "id": "6b71c49a-b83d-493b-866a-3df39cfb4ee1",
   "metadata": {},
   "outputs": [],
   "source": [
    "batch_t = torch.randn(2, 3, 5, 5)"
   ]
  },
  {
   "cell_type": "code",
   "execution_count": 23,
   "id": "e943ddf9-36c3-4f9e-a69b-273e1f3a9eef",
   "metadata": {},
   "outputs": [
    {
     "data": {
      "text/plain": [
       "(torch.Size([5, 5]), torch.Size([2, 5, 5]))"
      ]
     },
     "execution_count": 23,
     "metadata": {},
     "output_type": "execute_result"
    }
   ],
   "source": [
    "img_gray_naive = img_t.mean(-3)\n",
    "batch_gray_naive = batch_t.mean(-3)\n",
    "img_gray_naive.shape, batch_gray_naive.shape"
   ]
  },
  {
   "cell_type": "code",
   "execution_count": 24,
   "id": "44db054f-d925-4a51-ba8f-197499132950",
   "metadata": {},
   "outputs": [
    {
     "data": {
      "text/plain": [
       "(torch.Size([2, 3, 5, 5]), torch.Size([2, 3, 5, 5]), torch.Size([3, 1, 1]))"
      ]
     },
     "execution_count": 24,
     "metadata": {},
     "output_type": "execute_result"
    }
   ],
   "source": [
    "unsqueezed_weights = weights.unsqueeze(-1).unsqueeze_(-1)\n",
    "img_weights = (img_t * unsqueezed_weights)\n",
    "batch_weights = (batch_t * unsqueezed_weights)\n",
    "img_gray_weighted = img_weights.sum(-3)\n",
    "batch_gray_weighted = batch_weights.sum(-3)\n",
    "batch_weights.shape, batch_t.shape, unsqueezed_weights.shape"
   ]
  },
  {
   "cell_type": "code",
   "execution_count": 25,
   "id": "128d1f24-4812-4225-8ab6-a19c22aa8c66",
   "metadata": {},
   "outputs": [
    {
     "data": {
      "text/plain": [
       "torch.Size([2, 5, 5])"
      ]
     },
     "execution_count": 25,
     "metadata": {},
     "output_type": "execute_result"
    }
   ],
   "source": [
    "img_gray_weighted_fancy = torch.einsum(\"...chw,c->...hw\", img_t, weights)\n",
    "batch_gray_weighted_fancy = torch.einsum(\"...chw,c->...hw\", batch_t, weights)\n",
    "batch_gray_weighted_fancy.shape"
   ]
  },
  {
   "cell_type": "code",
   "execution_count": 26,
   "id": "a4cc76f8-9627-4caa-8a3d-d25c210475d3",
   "metadata": {},
   "outputs": [
    {
     "name": "stderr",
     "output_type": "stream",
     "text": [
      "/tmp/ipykernel_30900/2918111397.py:1: UserWarning: Named tensors and all their associated APIs are an experimental feature and subject to change. Please do not use them for anything important until they are released as stable. (Triggered internally at /opt/conda/conda-bld/pytorch_1708025845206/work/c10/core/TensorImpl.h:1908.)\n",
      "  weights_named = torch.tensor([0.2126, 0.7152, 0.0722], names=[\"channels\"])\n"
     ]
    },
    {
     "data": {
      "text/plain": [
       "tensor([0.2126, 0.7152, 0.0722], names=('channels',))"
      ]
     },
     "execution_count": 26,
     "metadata": {},
     "output_type": "execute_result"
    }
   ],
   "source": [
    "weights_named = torch.tensor([0.2126, 0.7152, 0.0722], names=[\"channels\"])\n",
    "weights_named"
   ]
  },
  {
   "cell_type": "code",
   "execution_count": 27,
   "id": "70ace520-4f46-4c45-9c58-01ec9732f6ec",
   "metadata": {},
   "outputs": [
    {
     "name": "stdout",
     "output_type": "stream",
     "text": [
      "img_named: torch.Size([3, 5, 5]) ('channels', 'rows', 'columns')\n",
      "batch_named: torch.Size([2, 3, 5, 5]) (None, 'channels', 'rows', 'columns')\n"
     ]
    }
   ],
   "source": [
    "img_named = img_t.refine_names(..., \"channels\", \"rows\", \"columns\")\n",
    "batch_named = batch_t.refine_names(..., \"channels\", \"rows\", \"columns\")\n",
    "print(\"img_named:\", img_named.shape, img_named.names)\n",
    "print(\"batch_named:\", batch_named.shape, batch_named.names)"
   ]
  },
  {
   "cell_type": "code",
   "execution_count": 28,
   "id": "80d94bb9-bce3-4624-bc61-81d5c812a9e3",
   "metadata": {},
   "outputs": [
    {
     "data": {
      "text/plain": [
       "(torch.Size([3, 1, 1]), ('channels', 'rows', 'columns'))"
      ]
     },
     "execution_count": 28,
     "metadata": {},
     "output_type": "execute_result"
    }
   ],
   "source": [
    "weights_aligned = weights_named.align_as(img_named)\n",
    "weights_aligned.shape, weights_aligned.names"
   ]
  },
  {
   "cell_type": "code",
   "execution_count": 29,
   "id": "04e99c69-dd59-4698-b56f-4f5939e5f562",
   "metadata": {},
   "outputs": [
    {
     "data": {
      "text/plain": [
       "(torch.Size([5, 5]), ('rows', 'columns'))"
      ]
     },
     "execution_count": 29,
     "metadata": {},
     "output_type": "execute_result"
    }
   ],
   "source": [
    "gray_named = (img_named * weights_aligned).sum(\"channels\")\n",
    "gray_named.shape, gray_named.names"
   ]
  },
  {
   "cell_type": "code",
   "execution_count": 30,
   "id": "27b5450d-cc04-4641-b452-c3a36e9e943b",
   "metadata": {},
   "outputs": [
    {
     "data": {
      "text/plain": [
       "(torch.Size([5, 5]), (None, None))"
      ]
     },
     "execution_count": 30,
     "metadata": {},
     "output_type": "execute_result"
    }
   ],
   "source": [
    "gray_plain = gray_named.rename(None)\n",
    "gray_plain.shape, gray_plain.names"
   ]
  },
  {
   "cell_type": "markdown",
   "id": "32690e99-7da6-4990-a105-da90d6afd4ba",
   "metadata": {},
   "source": [
    "## Tensor Element Types"
   ]
  },
  {
   "cell_type": "code",
   "execution_count": 31,
   "id": "1586c404-05e7-43b3-9913-9b6bd7d7fae5",
   "metadata": {},
   "outputs": [
    {
     "data": {
      "text/plain": [
       "torch.float32"
      ]
     },
     "execution_count": 31,
     "metadata": {},
     "output_type": "execute_result"
    }
   ],
   "source": [
    "a = torch.zeros(10, 2)\n",
    "a.dtype"
   ]
  },
  {
   "cell_type": "code",
   "execution_count": 32,
   "id": "cb0a1ca5-42a1-4a5a-ab8a-0c7458a61774",
   "metadata": {},
   "outputs": [
    {
     "data": {
      "text/plain": [
       "torch.int64"
      ]
     },
     "execution_count": 32,
     "metadata": {},
     "output_type": "execute_result"
    }
   ],
   "source": [
    "b = torch.tensor([1, 2])\n",
    "b.dtype"
   ]
  },
  {
   "cell_type": "code",
   "execution_count": 33,
   "id": "4330af92-7a40-41d3-8183-ab78e87cf3a2",
   "metadata": {},
   "outputs": [
    {
     "data": {
      "text/plain": [
       "(torch.Tensor, torch.bool)"
      ]
     },
     "execution_count": 33,
     "metadata": {},
     "output_type": "execute_result"
    }
   ],
   "source": [
    "c = (b > 1.0)\n",
    "type(c), c.dtype"
   ]
  },
  {
   "cell_type": "code",
   "execution_count": 34,
   "id": "50138d0a-937f-4706-8316-b2aa9eb7d451",
   "metadata": {},
   "outputs": [
    {
     "data": {
      "text/plain": [
       "(torch.float64, torch.int16)"
      ]
     },
     "execution_count": 34,
     "metadata": {},
     "output_type": "execute_result"
    }
   ],
   "source": [
    "double_points = torch.ones(10, 2, dtype=torch.double)\n",
    "short_points = torch.tensor([[1, 2], [3, 4]], dtype=torch.short)\n",
    "double_points.dtype, short_points.dtype"
   ]
  },
  {
   "cell_type": "code",
   "execution_count": 35,
   "id": "42e426f0-8840-4cde-ab37-6de73bf516b6",
   "metadata": {},
   "outputs": [
    {
     "data": {
      "text/plain": [
       "(torch.float64, torch.int16)"
      ]
     },
     "execution_count": 35,
     "metadata": {},
     "output_type": "execute_result"
    }
   ],
   "source": [
    "double_points = torch.zeros(10, 2).double()\n",
    "short_points = torch.ones(10, 2).short()\n",
    "double_points.dtype, short_points.dtype"
   ]
  },
  {
   "cell_type": "code",
   "execution_count": 36,
   "id": "e74a545a-b135-43ec-aaa3-e8ec3157fbee",
   "metadata": {},
   "outputs": [
    {
     "data": {
      "text/plain": [
       "(torch.float64, torch.int16)"
      ]
     },
     "execution_count": 36,
     "metadata": {},
     "output_type": "execute_result"
    }
   ],
   "source": [
    "double_points = torch.zeros(10, 2).to(torch.double)\n",
    "short_points = torch.ones(10, 2).to(dtype=torch.short)\n",
    "double_points.dtype, short_points.dtype"
   ]
  },
  {
   "cell_type": "code",
   "execution_count": 37,
   "id": "7b290bce-debf-4da1-97d3-2f17a2ccdb23",
   "metadata": {},
   "outputs": [
    {
     "data": {
      "text/plain": [
       "tensor([0., 0., 0., 0., 0.], dtype=torch.float64)"
      ]
     },
     "execution_count": 37,
     "metadata": {},
     "output_type": "execute_result"
    }
   ],
   "source": [
    "points_64 = torch.rand(5, dtype=torch.double)\n",
    "points_short = points_64.to(torch.short)\n",
    "points_64 * points_short"
   ]
  },
  {
   "cell_type": "markdown",
   "id": "ce85ae38-c192-43da-9681-53e6b9137528",
   "metadata": {},
   "source": [
    "## Tensor API"
   ]
  },
  {
   "cell_type": "code",
   "execution_count": 38,
   "id": "6262c80a-193e-41e8-9caa-0e23e0577861",
   "metadata": {},
   "outputs": [
    {
     "name": "stdout",
     "output_type": "stream",
     "text": [
      "<class 'torch.Tensor'>\n",
      "tensor([[0., 0., 0., 0.],\n",
      "        [0., 0., 0., 0.],\n",
      "        [0., 0., 0., 0.]])\n"
     ]
    }
   ],
   "source": [
    "x = torch.empty(3, 4)\n",
    "print(type(x))\n",
    "print(x)"
   ]
  },
  {
   "cell_type": "code",
   "execution_count": 39,
   "id": "c5fe92aa-3466-469d-a09f-6ca4f250f2c7",
   "metadata": {},
   "outputs": [
    {
     "name": "stdout",
     "output_type": "stream",
     "text": [
      "tensor([[0., 0., 0.],\n",
      "        [0., 0., 0.]])\n",
      "tensor([[1., 1., 1.],\n",
      "        [1., 1., 1.]])\n",
      "tensor([[0.8823, 0.9150, 0.3829],\n",
      "        [0.9593, 0.3904, 0.6009]])\n"
     ]
    }
   ],
   "source": [
    "zeros = torch.zeros(2, 3)\n",
    "print(zeros)\n",
    "\n",
    "ones = torch.ones(2, 3)\n",
    "print(ones)\n",
    "\n",
    "torch.manual_seed(42)\n",
    "random = torch.rand(2, 3)\n",
    "print(random)"
   ]
  },
  {
   "cell_type": "code",
   "execution_count": 40,
   "id": "dc6c3280-4b45-49b4-8af7-0f357bef7fad",
   "metadata": {},
   "outputs": [
    {
     "name": "stdout",
     "output_type": "stream",
     "text": [
      "torch.Size([2, 2, 3])\n",
      "tensor([[[-3.3579e+36,  4.4226e-41, -1.1876e-28],\n",
      "         [ 3.1672e-41,  1.4013e-45,  0.0000e+00]],\n",
      "\n",
      "        [[ 1.4013e-45,  0.0000e+00,  1.4013e-45],\n",
      "         [ 0.0000e+00,  1.4013e-45,  0.0000e+00]]])\n",
      "torch.Size([2, 2, 3])\n",
      "tensor([[[-3.3579e+36,  4.4226e-41, -3.3579e+36],\n",
      "         [ 4.4226e-41,  1.4013e-45,  0.0000e+00]],\n",
      "\n",
      "        [[ 1.4013e-45,  0.0000e+00,  1.4013e-45],\n",
      "         [ 0.0000e+00,  1.4013e-45,  0.0000e+00]]])\n",
      "torch.Size([2, 2, 3])\n",
      "tensor([[[0., 0., 0.],\n",
      "         [0., 0., 0.]],\n",
      "\n",
      "        [[0., 0., 0.],\n",
      "         [0., 0., 0.]]])\n",
      "torch.Size([2, 2, 3])\n",
      "tensor([[[1., 1., 1.],\n",
      "         [1., 1., 1.]],\n",
      "\n",
      "        [[1., 1., 1.],\n",
      "         [1., 1., 1.]]])\n",
      "torch.Size([2, 2, 3])\n",
      "tensor([[[0.2566, 0.7936, 0.9408],\n",
      "         [0.1332, 0.9346, 0.5936]],\n",
      "\n",
      "        [[0.8694, 0.5677, 0.7411],\n",
      "         [0.4294, 0.8854, 0.5739]]])\n"
     ]
    }
   ],
   "source": [
    "x = torch.empty(2, 2, 3)\n",
    "print(x.shape)\n",
    "print(x)\n",
    "\n",
    "empty_like_x = torch.empty_like(x)\n",
    "print(empty_like_x.shape)\n",
    "print(empty_like_x)\n",
    "\n",
    "zeros_like_x = torch.zeros_like(x)\n",
    "print(zeros_like_x.shape)\n",
    "print(zeros_like_x)\n",
    "\n",
    "ones_like_x = torch.ones_like(x)\n",
    "print(ones_like_x.shape)\n",
    "print(ones_like_x)\n",
    "\n",
    "rand_like_x = torch.rand_like(x)\n",
    "print(rand_like_x.shape)\n",
    "print(rand_like_x)"
   ]
  },
  {
   "cell_type": "code",
   "execution_count": 41,
   "id": "31d2b598-b24d-4aeb-bf40-660a7a89316e",
   "metadata": {},
   "outputs": [
    {
     "name": "stdout",
     "output_type": "stream",
     "text": [
      "tensor([[3.1416, 2.7183],\n",
      "        [1.6180, 0.0073]])\n",
      "tensor([ 2,  3,  5,  7, 11, 13, 17, 19])\n",
      "tensor([[2, 4, 6],\n",
      "        [3, 6, 9]])\n"
     ]
    }
   ],
   "source": [
    "some_constants = torch.tensor([[3.1415926, 2.71828], [1.61803, 0.0072897]])\n",
    "print(some_constants)\n",
    "\n",
    "some_integers = torch.tensor([2, 3, 5, 7, 11, 13, 17, 19])\n",
    "print(some_integers)\n",
    "\n",
    "more_integers = torch.tensor(((2, 4, 6), [3, 6, 9]))\n",
    "print(more_integers)"
   ]
  },
  {
   "cell_type": "code",
   "execution_count": 42,
   "id": "ebcb2256-b55d-4a3e-84f3-5dbf5d011795",
   "metadata": {},
   "outputs": [
    {
     "name": "stdout",
     "output_type": "stream",
     "text": [
      "tensor([[1, 1, 1],\n",
      "        [1, 1, 1]], dtype=torch.int16)\n",
      "tensor([[ 2.6528,  3.1411,  7.5073],\n",
      "        [16.8504, 17.4100,  7.5507]], dtype=torch.float64)\n",
      "tensor([[ 2,  3,  7],\n",
      "        [16, 17,  7]], dtype=torch.int32)\n"
     ]
    }
   ],
   "source": [
    "a = torch.ones((2, 3), dtype=torch.int16)\n",
    "print(a)\n",
    "\n",
    "b = torch.rand((2, 3), dtype=torch.float64) * 20\n",
    "print(b)\n",
    "\n",
    "c = b.to(torch.int32)\n",
    "print(c)"
   ]
  },
  {
   "cell_type": "code",
   "execution_count": 43,
   "id": "15115cc7-c3d7-45ad-81e9-456a4e1c83cb",
   "metadata": {},
   "outputs": [
    {
     "name": "stdout",
     "output_type": "stream",
     "text": [
      "tensor([[1., 1.],\n",
      "        [1., 1.]])\n",
      "tensor([[2., 2.],\n",
      "        [2., 2.]])\n",
      "tensor([[3., 3.],\n",
      "        [3., 3.]])\n",
      "tensor([[4., 4.],\n",
      "        [4., 4.]])\n",
      "tensor([[1.4142, 1.4142],\n",
      "        [1.4142, 1.4142]])\n"
     ]
    }
   ],
   "source": [
    "ones = torch.zeros(2, 2) + 1\n",
    "twos = torch.ones(2, 2) * 2\n",
    "threes = (torch.ones(2, 2) * 7 - 1) / 2\n",
    "fours = twos ** 2\n",
    "sqrt2s = twos ** 0.5\n",
    "\n",
    "print(ones)\n",
    "print(twos)\n",
    "print(threes)\n",
    "print(fours)\n",
    "print(sqrt2s)"
   ]
  },
  {
   "cell_type": "code",
   "execution_count": 44,
   "id": "71b0c591-2555-4e74-9fc0-3b29631bf797",
   "metadata": {},
   "outputs": [
    {
     "name": "stdout",
     "output_type": "stream",
     "text": [
      "tensor([[ 2.,  4.],\n",
      "        [ 8., 16.]])\n",
      "tensor([[5., 5.],\n",
      "        [5., 5.]])\n",
      "tensor([[12., 12.],\n",
      "        [12., 12.]])\n"
     ]
    }
   ],
   "source": [
    "powers2 = twos ** torch.tensor([[1, 2], [3, 4]])\n",
    "print(powers2)\n",
    "\n",
    "fives = ones + fours\n",
    "print(fives)\n",
    "\n",
    "dozens = threes * fours\n",
    "print(dozens)"
   ]
  },
  {
   "cell_type": "code",
   "execution_count": 45,
   "id": "f925c27e-4637-4ba6-b7c0-c387e479c070",
   "metadata": {},
   "outputs": [
    {
     "name": "stdout",
     "output_type": "stream",
     "text": [
      "tensor([[0.9516, 0.0753, 0.8860, 0.5832],\n",
      "        [0.3376, 0.8090, 0.5779, 0.9040]])\n",
      "tensor([[1.9031, 0.1505, 1.7720, 1.1664],\n",
      "        [0.6753, 1.6179, 1.1559, 1.8080]])\n"
     ]
    }
   ],
   "source": [
    "rand = torch.rand(2, 4)\n",
    "doubled = rand * (torch.ones(1, 4) * 2)\n",
    "\n",
    "print(rand)\n",
    "print(doubled)"
   ]
  },
  {
   "cell_type": "code",
   "execution_count": 46,
   "id": "c33cdfc7-b32b-414b-b135-14f33ecad51a",
   "metadata": {},
   "outputs": [
    {
     "name": "stdout",
     "output_type": "stream",
     "text": [
      "tensor([[[0.5547, 0.3423],\n",
      "         [0.6343, 0.3644],\n",
      "         [0.7104, 0.9464]],\n",
      "\n",
      "        [[0.5547, 0.3423],\n",
      "         [0.6343, 0.3644],\n",
      "         [0.7104, 0.9464]],\n",
      "\n",
      "        [[0.5547, 0.3423],\n",
      "         [0.6343, 0.3644],\n",
      "         [0.7104, 0.9464]],\n",
      "\n",
      "        [[0.5547, 0.3423],\n",
      "         [0.6343, 0.3644],\n",
      "         [0.7104, 0.9464]]])\n",
      "tensor([[[0.7890, 0.7890],\n",
      "         [0.2814, 0.2814],\n",
      "         [0.7886, 0.7886]],\n",
      "\n",
      "        [[0.7890, 0.7890],\n",
      "         [0.2814, 0.2814],\n",
      "         [0.7886, 0.7886]],\n",
      "\n",
      "        [[0.7890, 0.7890],\n",
      "         [0.2814, 0.2814],\n",
      "         [0.7886, 0.7886]],\n",
      "\n",
      "        [[0.7890, 0.7890],\n",
      "         [0.2814, 0.2814],\n",
      "         [0.7886, 0.7886]]])\n",
      "tensor([[[0.5895, 0.7539],\n",
      "         [0.5895, 0.7539],\n",
      "         [0.5895, 0.7539]],\n",
      "\n",
      "        [[0.5895, 0.7539],\n",
      "         [0.5895, 0.7539],\n",
      "         [0.5895, 0.7539]],\n",
      "\n",
      "        [[0.5895, 0.7539],\n",
      "         [0.5895, 0.7539],\n",
      "         [0.5895, 0.7539]],\n",
      "\n",
      "        [[0.5895, 0.7539],\n",
      "         [0.5895, 0.7539],\n",
      "         [0.5895, 0.7539]]])\n"
     ]
    }
   ],
   "source": [
    "a = torch.ones(4, 3, 2)\n",
    "\n",
    "b = a * torch.rand(3, 2)\n",
    "print(b)\n",
    "\n",
    "c = a * torch.rand(3, 1)\n",
    "print(c)\n",
    "\n",
    "d = a * torch.rand(1, 2)\n",
    "print(d)"
   ]
  },
  {
   "cell_type": "code",
   "execution_count": 47,
   "id": "a29fbf7b-1aec-4bd7-8f83-6478429a77e0",
   "metadata": {},
   "outputs": [
    {
     "name": "stdout",
     "output_type": "stream",
     "text": [
      "Common functions:\n",
      "abs(a)\n",
      "tensor([[0.6095, 0.9899, 0.3864, 0.7670],\n",
      "        [0.8205, 0.2880, 0.4142, 0.3163]])\n",
      "ceil(a)\n",
      "tensor([[-0., -0., -0., -0.],\n",
      "        [1., 1., 1., 1.]])\n",
      "floor(a)\n",
      "tensor([[-1., -1., -1., -1.],\n",
      "        [ 0.,  0.,  0.,  0.]])\n",
      "clamp(a, -0.5, 0.5)\n",
      "tensor([[-0.5000, -0.5000, -0.3864, -0.5000],\n",
      "        [ 0.5000,  0.2880,  0.4142,  0.3163]])\n"
     ]
    }
   ],
   "source": [
    "a = torch.rand(2, 4) * 2 - 1\n",
    "print(\"Common functions:\")\n",
    "print(f\"abs(a)\\n{torch.abs(a)}\")\n",
    "print(f\"ceil(a)\\n{torch.ceil(a)}\")\n",
    "print(f\"floor(a)\\n{torch.floor(a)}\")\n",
    "print(f\"clamp(a, -0.5, 0.5)\\n{torch.clamp(a, -0.5, 0.5)}\")"
   ]
  },
  {
   "cell_type": "code",
   "execution_count": 48,
   "id": "8ae62761-7798-40e0-ac09-edb9400e69c3",
   "metadata": {},
   "outputs": [
    {
     "name": "stdout",
     "output_type": "stream",
     "text": [
      "Sine and arcsine:\n",
      "angles\n",
      "tensor([0.0000, 0.7854, 1.5708, 2.3562])\n",
      "sin(angles)\n",
      "tensor([0.0000, 0.7071, 1.0000, 0.7071])\n",
      "asin(angles)\n",
      "tensor([0.0000, 0.7854, 1.5708, 0.7854])\n"
     ]
    }
   ],
   "source": [
    "angles = torch.tensor([0, math.pi / 4, math.pi / 2, 3 * math.pi / 4])\n",
    "sines = torch.sin(angles)\n",
    "inverses = torch.asin(sines)\n",
    "print(\"Sine and arcsine:\")\n",
    "print(f\"angles\\n{angles}\")\n",
    "print(f\"sin(angles)\\n{sines}\")\n",
    "print(f\"asin(angles)\\n{inverses}\")"
   ]
  },
  {
   "cell_type": "code",
   "execution_count": 49,
   "id": "10c5c081-d5f4-41f2-b813-85d4d692e542",
   "metadata": {},
   "outputs": [
    {
     "name": "stdout",
     "output_type": "stream",
     "text": [
      "Bitwise XOR:\n",
      "tensor([3, 2, 1])\n"
     ]
    }
   ],
   "source": [
    "print(\"Bitwise XOR:\")\n",
    "b = torch.tensor([1, 5, 11])\n",
    "c = torch.tensor([2, 7, 10])\n",
    "print(torch.bitwise_xor(b, c))"
   ]
  },
  {
   "cell_type": "code",
   "execution_count": 50,
   "id": "b8d5dd13-967c-4d73-9863-278aeb014226",
   "metadata": {},
   "outputs": [
    {
     "name": "stdout",
     "output_type": "stream",
     "text": [
      "Broadcasted element-wise equality comparison:\n",
      "tensor([[ True, False],\n",
      "        [False, False]])\n"
     ]
    }
   ],
   "source": [
    "print(\"Broadcasted element-wise equality comparison:\")\n",
    "d = torch.tensor([[1., 2.], [3., 4.]])\n",
    "e = torch.ones(1, 2)\n",
    "print(torch.eq(d, e))"
   ]
  },
  {
   "cell_type": "code",
   "execution_count": 51,
   "id": "418e9ed3-0d4d-45d9-a094-ddad36e8d193",
   "metadata": {},
   "outputs": [
    {
     "name": "stdout",
     "output_type": "stream",
     "text": [
      "Reduction operations:\n",
      "max(d)\n",
      "4.0\n",
      "max(d).item()\n",
      "4.0\n",
      "mean(d)\n",
      "2.5\n",
      "std(d)\n",
      "1.29099440574646\n",
      "prod(d)\n",
      "24.0\n",
      "unique(e)\n",
      "tensor([1, 2])\n"
     ]
    }
   ],
   "source": [
    "print(\"Reduction operations:\")\n",
    "d = torch.tensor([[1., 2.], [3., 4.]])\n",
    "e = torch.tensor([1, 2, 1, 2, 1, 2])\n",
    "print(f\"max(d)\\n{torch.max(d)}\")\n",
    "print(f\"max(d).item()\\n{torch.max(d).item()}\")\n",
    "print(f\"mean(d)\\n{torch.mean(d)}\")\n",
    "print(f\"std(d)\\n{torch.std(d)}\")\n",
    "print(f\"prod(d)\\n{torch.prod(d)}\")\n",
    "print(f\"unique(e)\\n{torch.unique(e)}\")"
   ]
  },
  {
   "cell_type": "code",
   "execution_count": 52,
   "id": "fc0981ec-99fe-456e-996a-d973e0d2fe7c",
   "metadata": {},
   "outputs": [
    {
     "name": "stdout",
     "output_type": "stream",
     "text": [
      "Vectors and matrices:\n",
      "cross(v2, v1)\n",
      "tensor([ 0.,  0., -1.])\n",
      "matmul(m1, m2)\n",
      "tensor([[1.4739, 2.6739],\n",
      "        [0.4342, 1.5944]])\n",
      "svd(m3)\n",
      "torch.return_types.svd(\n",
      "U=tensor([[-0.8826, -0.4702],\n",
      "        [-0.4702,  0.8826]]),\n",
      "S=tensor([3.4546, 0.3442]),\n",
      "V=tensor([[-0.4356, -0.9001],\n",
      "        [-0.9001,  0.4356]]))\n"
     ]
    }
   ],
   "source": [
    "print(\"Vectors and matrices:\")\n",
    "v1 = torch.tensor([1., 0., 0.])\n",
    "v2 = torch.tensor([0., 1., 0.])\n",
    "m1 = torch.rand(2, 2)\n",
    "m2 = torch.tensor([[3., 0.], [0., 3.]])\n",
    "m3 = torch.matmul(m1, m2)\n",
    "print(f\"cross(v2, v1)\\n{torch.cross(v2, v1, dim=0)}\")\n",
    "print(f\"matmul(m1, m2)\\n{m3}\")\n",
    "print(f\"svd(m3)\\n{torch.svd(m3)}\")"
   ]
  },
  {
   "cell_type": "markdown",
   "id": "955b1915-90b4-447a-bd11-92f6bb858493",
   "metadata": {},
   "source": [
    "## Tensor Metadata"
   ]
  },
  {
   "cell_type": "code",
   "execution_count": 53,
   "id": "18190b99-6ce7-4e2d-9c18-f7c99fc7727a",
   "metadata": {},
   "outputs": [],
   "source": [
    "points = torch.tensor([[4.0, 1.0], [5.0, 3.0], [2.0, 1.0]])\n",
    "second_point = points[1]"
   ]
  },
  {
   "cell_type": "code",
   "execution_count": 54,
   "id": "9ac51fc1-c4e2-40eb-9176-01acf865a990",
   "metadata": {},
   "outputs": [
    {
     "name": "stdout",
     "output_type": "stream",
     "text": [
      "points.storage_offset(): 0\n",
      "points.size():           torch.Size([3, 2])\n",
      "points.stride():         (2, 1)\n"
     ]
    }
   ],
   "source": [
    "print(f\"points.storage_offset(): {points.storage_offset()}\")\n",
    "print(f\"points.size():           {points.size()}\")\n",
    "print(f\"points.stride():         {points.stride()}\")"
   ]
  },
  {
   "cell_type": "code",
   "execution_count": 55,
   "id": "111845cc-e694-42e7-9c6c-b480c98a396c",
   "metadata": {},
   "outputs": [
    {
     "name": "stdout",
     "output_type": "stream",
     "text": [
      "second_point.storage_offset(): 2\n",
      "second_point.size():           torch.Size([2])\n",
      "second_point.stride():         (1,)\n"
     ]
    }
   ],
   "source": [
    "print(f\"second_point.storage_offset(): {second_point.storage_offset()}\")\n",
    "print(f\"second_point.size():           {second_point.size()}\")\n",
    "print(f\"second_point.stride():         {second_point.stride()}\")"
   ]
  },
  {
   "cell_type": "code",
   "execution_count": 56,
   "id": "44b21ddf-4977-477c-8284-65da413a7bc6",
   "metadata": {},
   "outputs": [
    {
     "data": {
      "text/plain": [
       "tensor([[4., 1.],\n",
       "        [5., 3.],\n",
       "        [2., 1.]])"
      ]
     },
     "execution_count": 56,
     "metadata": {},
     "output_type": "execute_result"
    }
   ],
   "source": [
    "points = torch.tensor([[4.0, 1.0], [5.0, 3.0], [2.0, 1.0]])\n",
    "second_point[0] = 10.0\n",
    "points"
   ]
  },
  {
   "cell_type": "code",
   "execution_count": 57,
   "id": "63fdc4fd-292b-4cd1-a71a-7c6e51e1bb63",
   "metadata": {},
   "outputs": [
    {
     "data": {
      "text/plain": [
       "tensor([[4., 1.],\n",
       "        [5., 3.],\n",
       "        [2., 1.]])"
      ]
     },
     "execution_count": 57,
     "metadata": {},
     "output_type": "execute_result"
    }
   ],
   "source": [
    "points = torch.tensor([[4.0, 1.0], [5.0, 3.0], [2.0, 1.0]])\n",
    "second_point = points[1].clone()\n",
    "second_point[0] = 10.0\n",
    "points"
   ]
  },
  {
   "cell_type": "code",
   "execution_count": 58,
   "id": "92e8135d-8c19-4054-9a76-427cb4ac0174",
   "metadata": {},
   "outputs": [
    {
     "data": {
      "text/plain": [
       "tensor([[4., 1.],\n",
       "        [5., 3.],\n",
       "        [2., 1.]])"
      ]
     },
     "execution_count": 58,
     "metadata": {},
     "output_type": "execute_result"
    }
   ],
   "source": [
    "points = torch.tensor([[4.0, 1.0], [5.0, 3.0], [2.0, 1.0]])\n",
    "points"
   ]
  },
  {
   "cell_type": "code",
   "execution_count": 59,
   "id": "8cfb8351-cdb7-4dca-94de-26117e4e44a6",
   "metadata": {},
   "outputs": [
    {
     "data": {
      "text/plain": [
       "tensor([[4., 5., 2.],\n",
       "        [1., 3., 1.]])"
      ]
     },
     "execution_count": 59,
     "metadata": {},
     "output_type": "execute_result"
    }
   ],
   "source": [
    "points_t = points.t()\n",
    "points_t"
   ]
  },
  {
   "cell_type": "code",
   "execution_count": 60,
   "id": "f3600510-f98a-450a-aff2-efb5aa5dc47c",
   "metadata": {},
   "outputs": [
    {
     "data": {
      "text/plain": [
       "True"
      ]
     },
     "execution_count": 60,
     "metadata": {},
     "output_type": "execute_result"
    }
   ],
   "source": [
    "id(points.untyped_storage()) == id(points_t.untyped_storage())"
   ]
  },
  {
   "cell_type": "code",
   "execution_count": 61,
   "id": "b7117f9a-2ad4-49bf-b27f-4339dc874d54",
   "metadata": {},
   "outputs": [
    {
     "name": "stdout",
     "output_type": "stream",
     "text": [
      "points.storage_offset():   0\n",
      "points_t.storage_offset(): 0\n",
      "points.size():             torch.Size([3, 2])\n",
      "points_t.size():           torch.Size([2, 3])\n",
      "points.stride():           (2, 1)\n",
      "points_t.stride():         (1, 2)\n"
     ]
    }
   ],
   "source": [
    "print(f\"points.storage_offset():   {points.storage_offset()}\")\n",
    "print(f\"points_t.storage_offset(): {points_t.storage_offset()}\")\n",
    "\n",
    "print(f\"points.size():             {points.size()}\")\n",
    "print(f\"points_t.size():           {points_t.size()}\")\n",
    "\n",
    "print(f\"points.stride():           {points.stride()}\")\n",
    "print(f\"points_t.stride():         {points_t.stride()}\")"
   ]
  },
  {
   "cell_type": "code",
   "execution_count": 62,
   "id": "e6fdfed3-0988-4ac1-954c-3b8f599656f9",
   "metadata": {},
   "outputs": [
    {
     "data": {
      "text/plain": [
       "True"
      ]
     },
     "execution_count": 62,
     "metadata": {},
     "output_type": "execute_result"
    }
   ],
   "source": [
    "points.is_contiguous()"
   ]
  },
  {
   "cell_type": "code",
   "execution_count": 63,
   "id": "d17a4822-2ea8-4cd1-a391-a20dcc6ab15c",
   "metadata": {},
   "outputs": [
    {
     "data": {
      "text/plain": [
       "False"
      ]
     },
     "execution_count": 63,
     "metadata": {},
     "output_type": "execute_result"
    }
   ],
   "source": [
    "points_t.is_contiguous()"
   ]
  },
  {
   "cell_type": "code",
   "execution_count": 64,
   "id": "0eaa2bfd-9bdc-4437-9e71-8edf2ea1b129",
   "metadata": {},
   "outputs": [
    {
     "data": {
      "text/plain": [
       "tensor([[4., 5., 2.],\n",
       "        [1., 3., 1.]])"
      ]
     },
     "execution_count": 64,
     "metadata": {},
     "output_type": "execute_result"
    }
   ],
   "source": [
    "points = torch.tensor([[4.0, 1.0], [5.0, 3.0], [2.0, 1.0]])\n",
    "points_t = points.t()\n",
    "points_t"
   ]
  },
  {
   "cell_type": "code",
   "execution_count": 65,
   "id": "2fb6bf90-aa1c-4dad-a97a-56ac1645aaa5",
   "metadata": {},
   "outputs": [
    {
     "name": "stderr",
     "output_type": "stream",
     "text": [
      "/tmp/ipykernel_30900/3158410579.py:1: UserWarning: TypedStorage is deprecated. It will be removed in the future and UntypedStorage will be the only storage class. This should only matter to you if you are using storages directly.  To access UntypedStorage directly, use tensor.untyped_storage() instead of tensor.storage()\n",
      "  points_t.storage()\n"
     ]
    },
    {
     "data": {
      "text/plain": [
       " 4.0\n",
       " 1.0\n",
       " 5.0\n",
       " 3.0\n",
       " 2.0\n",
       " 1.0\n",
       "[torch.storage.TypedStorage(dtype=torch.float32, device=cpu) of size 6]"
      ]
     },
     "execution_count": 65,
     "metadata": {},
     "output_type": "execute_result"
    }
   ],
   "source": [
    "points_t.storage()"
   ]
  },
  {
   "cell_type": "code",
   "execution_count": 66,
   "id": "5e6fbc37-4c09-4c07-8f2a-fd12995af57b",
   "metadata": {},
   "outputs": [
    {
     "data": {
      "text/plain": [
       "(1, 2)"
      ]
     },
     "execution_count": 66,
     "metadata": {},
     "output_type": "execute_result"
    }
   ],
   "source": [
    "points_t.stride()"
   ]
  },
  {
   "cell_type": "code",
   "execution_count": 67,
   "id": "8a694227-7bfc-465a-9daf-03cd3f93e068",
   "metadata": {},
   "outputs": [
    {
     "data": {
      "text/plain": [
       "tensor([[4., 5., 2.],\n",
       "        [1., 3., 1.]])"
      ]
     },
     "execution_count": 67,
     "metadata": {},
     "output_type": "execute_result"
    }
   ],
   "source": [
    "points_t_cont = points_t.contiguous()\n",
    "points_t_cont"
   ]
  },
  {
   "cell_type": "code",
   "execution_count": 68,
   "id": "2409e3a7-9daf-4971-aa3a-8aa91763503f",
   "metadata": {},
   "outputs": [
    {
     "data": {
      "text/plain": [
       " 4.0\n",
       " 5.0\n",
       " 2.0\n",
       " 1.0\n",
       " 3.0\n",
       " 1.0\n",
       "[torch.storage.TypedStorage(dtype=torch.float32, device=cpu) of size 6]"
      ]
     },
     "execution_count": 68,
     "metadata": {},
     "output_type": "execute_result"
    }
   ],
   "source": [
    "points_t_cont.storage()"
   ]
  },
  {
   "cell_type": "code",
   "execution_count": 69,
   "id": "f4822020-83a1-46da-871c-aaa1031a7193",
   "metadata": {},
   "outputs": [
    {
     "data": {
      "text/plain": [
       "(3, 1)"
      ]
     },
     "execution_count": 69,
     "metadata": {},
     "output_type": "execute_result"
    }
   ],
   "source": [
    "points_t_cont.stride()"
   ]
  },
  {
   "cell_type": "markdown",
   "id": "66f4aaf2-b107-402d-ba73-2a78e9d330ca",
   "metadata": {},
   "source": [
    "## NumPy Interoperability"
   ]
  },
  {
   "cell_type": "code",
   "execution_count": 70,
   "id": "f9ba3f0c-0104-47a7-b950-6f74b0bec997",
   "metadata": {},
   "outputs": [
    {
     "data": {
      "text/plain": [
       "array([[1., 1., 1., 1.],\n",
       "       [1., 1., 1., 1.],\n",
       "       [1., 1., 1., 1.]], dtype=float32)"
      ]
     },
     "execution_count": 70,
     "metadata": {},
     "output_type": "execute_result"
    }
   ],
   "source": [
    "points = torch.ones(3, 4)\n",
    "points_np = points.numpy()\n",
    "points_np"
   ]
  },
  {
   "cell_type": "code",
   "execution_count": 71,
   "id": "a3c1a355-289f-471a-817c-ab4f7cffd3cf",
   "metadata": {},
   "outputs": [
    {
     "data": {
      "text/plain": [
       "tensor([[1., 1., 1., 1.],\n",
       "        [1., 1., 1., 1.],\n",
       "        [1., 1., 1., 1.]])"
      ]
     },
     "execution_count": 71,
     "metadata": {},
     "output_type": "execute_result"
    }
   ],
   "source": [
    "points = torch.from_numpy(points_np)\n",
    "points"
   ]
  },
  {
   "cell_type": "markdown",
   "id": "13833ad8-a691-45c4-98a8-37976dfefe4e",
   "metadata": {},
   "source": [
    "## Tensor Device"
   ]
  },
  {
   "cell_type": "code",
   "execution_count": 72,
   "id": "0f00483e-e3be-427b-8725-5dc0ee115b1d",
   "metadata": {},
   "outputs": [],
   "source": [
    "points_cpu = torch.tensor([[4.0, 1.0], [5.0, 3.0], [2.0, 1.0]], device=\"cpu\")\n",
    "# points_gpu = torch.tensor([[4.0, 1.0], [5.0, 3.0], [2.0, 1.0]], device=\"cuda\")"
   ]
  },
  {
   "cell_type": "code",
   "execution_count": 73,
   "id": "641d0acd-ffe2-4090-b65e-84027b8a5bfa",
   "metadata": {},
   "outputs": [],
   "source": [
    "points_cpu = points.to(device=\"cpu\")\n",
    "# points_gpu = points.to(device=\"cuda\")\n",
    "# points_gpu0 = points.to(device=\"cuda:0\")"
   ]
  },
  {
   "cell_type": "code",
   "execution_count": 74,
   "id": "4d2761d3-5a44-4eb4-9ea4-4bbbc8c13950",
   "metadata": {},
   "outputs": [],
   "source": [
    "points_cpu = points.cpu()\n",
    "# points_gpu = points.cuda()\n",
    "# points_gpu0 = points.cuda(0)"
   ]
  },
  {
   "cell_type": "markdown",
   "id": "129a8412-30b8-45d1-9223-8521c16cda0a",
   "metadata": {},
   "source": [
    "## Serializing Tensors"
   ]
  },
  {
   "cell_type": "code",
   "execution_count": 75,
   "id": "22fedb85-8506-4610-9b1f-f3359bf1130c",
   "metadata": {},
   "outputs": [],
   "source": [
    "points = torch.tensor([[4.0, 1.0], [5.0, 3.0], [2.0, 1.0]])\n",
    "torch.save(points, \"data/ourpoints.t\")"
   ]
  },
  {
   "cell_type": "code",
   "execution_count": 76,
   "id": "ab994ba9-2478-4844-a65e-4a96b4768323",
   "metadata": {},
   "outputs": [],
   "source": [
    "with open(\"data/ourpoints.t\", \"wb\") as f:\n",
    "    torch.save(points, f)"
   ]
  },
  {
   "cell_type": "code",
   "execution_count": 77,
   "id": "9fa25b94-1022-428a-92a9-841ce4158786",
   "metadata": {},
   "outputs": [],
   "source": [
    "points = torch.load(\"data/ourpoints.t\")"
   ]
  },
  {
   "cell_type": "code",
   "execution_count": 78,
   "id": "8005110e-6f99-44ed-86ac-dc018583eef1",
   "metadata": {},
   "outputs": [],
   "source": [
    "with open(\"data/ourpoints.t\", \"rb\") as f:\n",
    "    points = torch.load(f)"
   ]
  },
  {
   "cell_type": "code",
   "execution_count": 79,
   "id": "22d82798-2f59-4944-959a-5dfc3e6244e0",
   "metadata": {},
   "outputs": [],
   "source": [
    "import h5py"
   ]
  },
  {
   "cell_type": "code",
   "execution_count": 80,
   "id": "15ae40ca-8a23-4ae1-8285-14279658c085",
   "metadata": {},
   "outputs": [],
   "source": [
    "f = h5py.File(\"data/ourpoints.hdf5\", \"w\")\n",
    "dataset = f.create_dataset(name=\"coords\", data=points.numpy())\n",
    "f.close()"
   ]
  },
  {
   "cell_type": "code",
   "execution_count": 81,
   "id": "460e0c1c-a9de-48f4-b9c1-3009d47f2437",
   "metadata": {},
   "outputs": [
    {
     "data": {
      "text/plain": [
       "array([[5., 3.],\n",
       "       [2., 1.]], dtype=float32)"
      ]
     },
     "execution_count": 81,
     "metadata": {},
     "output_type": "execute_result"
    }
   ],
   "source": [
    "f = h5py.File(\"data/ourpoints.hdf5\", \"r\")\n",
    "dataset = f[\"coords\"]\n",
    "last_points = dataset[-2:]\n",
    "last_points"
   ]
  },
  {
   "cell_type": "code",
   "execution_count": 82,
   "id": "ec5b649b-e985-4a74-b8d5-5a1ebb812c63",
   "metadata": {},
   "outputs": [
    {
     "data": {
      "text/plain": [
       "tensor([[5., 3.],\n",
       "        [2., 1.]])"
      ]
     },
     "execution_count": 82,
     "metadata": {},
     "output_type": "execute_result"
    }
   ],
   "source": [
    "last_points = torch.from_numpy(dataset[-2:])\n",
    "f.close()\n",
    "\n",
    "last_points"
   ]
  },
  {
   "cell_type": "markdown",
   "id": "618218d6-7baa-4ddb-ac55-99b0b6e53a39",
   "metadata": {},
   "source": [
    "## Exercises"
   ]
  },
  {
   "cell_type": "code",
   "execution_count": 109,
   "id": "bebc800b-9954-43f0-a48c-00a2c794788a",
   "metadata": {},
   "outputs": [
    {
     "name": "stdout",
     "output_type": "stream",
     "text": [
      "a.size():           torch.Size([9])\n",
      "a.storage_offset(): 0\n",
      "a.stride():         (1,)\n"
     ]
    }
   ],
   "source": [
    "a = torch.tensor(list(range(9)))\n",
    "print(f\"a.size():           {a.size()}\")\n",
    "print(f\"a.storage_offset(): {a.storage_offset()}\")\n",
    "print(f\"a.stride():         {a.stride()}\")"
   ]
  },
  {
   "cell_type": "code",
   "execution_count": 110,
   "id": "e503383d-757c-46cd-b96f-ef6a42133a2e",
   "metadata": {},
   "outputs": [
    {
     "data": {
      "text/plain": [
       "True"
      ]
     },
     "execution_count": 110,
     "metadata": {},
     "output_type": "execute_result"
    }
   ],
   "source": [
    "b = a.view(3, 3)\n",
    "id(a.untyped_storage()) == id(b.untyped_storage())"
   ]
  },
  {
   "cell_type": "code",
   "execution_count": 111,
   "id": "17cde6c7-b197-4839-8c08-2367a893b574",
   "metadata": {},
   "outputs": [
    {
     "name": "stdout",
     "output_type": "stream",
     "text": [
      "c.size():           torch.Size([2, 2])\n",
      "c.storage_offset(): 4\n",
      "c.stride():         (3, 1)\n"
     ]
    }
   ],
   "source": [
    "c = b[1:, 1:]\n",
    "print(f\"c.size():           {c.size()}\")\n",
    "print(f\"c.storage_offset(): {c.storage_offset()}\")\n",
    "print(f\"c.stride():         {c.stride()}\")"
   ]
  },
  {
   "cell_type": "code",
   "execution_count": 112,
   "id": "33470ff8-c814-47a8-8379-9f9fce66021b",
   "metadata": {},
   "outputs": [],
   "source": [
    "sqrt_a = torch.sqrt(a)"
   ]
  },
  {
   "cell_type": "code",
   "execution_count": 113,
   "id": "1e1f4786-0035-4114-abe4-6eb64765dbbe",
   "metadata": {},
   "outputs": [],
   "source": [
    "a = a.float()"
   ]
  },
  {
   "cell_type": "code",
   "execution_count": 114,
   "id": "002c98c3-2e89-4da2-977d-921e012ade13",
   "metadata": {},
   "outputs": [
    {
     "data": {
      "text/plain": [
       "tensor([0.0000, 1.0000, 1.4142, 1.7321, 2.0000, 2.2361, 2.4495, 2.6458, 2.8284])"
      ]
     },
     "execution_count": 114,
     "metadata": {},
     "output_type": "execute_result"
    }
   ],
   "source": [
    "a.sqrt_()"
   ]
  }
 ],
 "metadata": {
  "kernelspec": {
   "display_name": "Python 3 (ipykernel)",
   "language": "python",
   "name": "python3"
  },
  "language_info": {
   "codemirror_mode": {
    "name": "ipython",
    "version": 3
   },
   "file_extension": ".py",
   "mimetype": "text/x-python",
   "name": "python",
   "nbconvert_exporter": "python",
   "pygments_lexer": "ipython3",
   "version": "3.12.2"
  }
 },
 "nbformat": 4,
 "nbformat_minor": 5
}
